{
 "cells": [
  {
   "cell_type": "markdown",
   "metadata": {
    "id": "eZBVPeV6pur-"
   },
   "source": [
    "# Setup\n"
   ]
  },
  {
   "cell_type": "markdown",
   "metadata": {},
   "source": [
    "If you are running this generator locally(i.e. in a jupyter notebook in conda, just make sure you installed:\n",
    "- RDKit\n",
    "- DeepChem 2.5.0 & above\n",
    "- Tensorflow 2.4.0 & above\n",
    "\n",
    "Then, please skip the following part and continue from `Data Preparations`."
   ]
  },
  {
   "cell_type": "markdown",
   "metadata": {},
   "source": [
    "To increase efficiency, we recommend running this molecule generator in Colab.\n",
    "\n",
    "Then, we'll first need to run the following lines of code, these will download conda with the deepchem environment in colab."
   ]
  },
  {
   "cell_type": "code",
   "execution_count": 1,
   "metadata": {
    "colab": {
     "base_uri": "https://localhost:8080/"
    },
    "id": "QHjHpULnjkWh",
    "outputId": "58751773-cbdc-4069-a6c0-fc385a98c62c"
   },
   "outputs": [],
   "source": [
    "#!curl -Lo conda_installer.py https://raw.githubusercontent.com/deepchem/deepchem/master/scripts/colab_install.py\n",
    "#import conda_installer\n",
    "#conda_installer.install()\n",
    "#!/root/miniconda/bin/conda info -e"
   ]
  },
  {
   "cell_type": "code",
   "execution_count": 2,
   "metadata": {
    "colab": {
     "base_uri": "https://localhost:8080/",
     "height": 215
    },
    "id": "BPw4CH4ojqHM",
    "outputId": "4dd01c41-a2a3-4aeb-972d-9b19b2c6ebed",
    "scrolled": true
   },
   "outputs": [],
   "source": [
    "#!pip install --pre deepchem\n",
    "#import deepchem\n",
    "#deepchem.__version__"
   ]
  },
  {
   "cell_type": "markdown",
   "metadata": {
    "id": "j4ZsW2TnqHkE"
   },
   "source": [
    "# Data Preparations\n",
    "\n",
    "Now we are ready to import some useful functions/packages, along with our model."
   ]
  },
  {
   "cell_type": "markdown",
   "metadata": {},
   "source": [
    "## Import Data"
   ]
  },
  {
   "cell_type": "code",
   "execution_count": 3,
   "metadata": {
    "id": "zgty1IrNZiIT"
   },
   "outputs": [],
   "source": [
    "import model##our model"
   ]
  },
  {
   "cell_type": "code",
   "execution_count": 4,
   "metadata": {
    "id": "WVXBx9Cdh4T9"
   },
   "outputs": [],
   "source": [
    "from rdkit import Chem\n",
    "from rdkit.Chem import AllChem"
   ]
  },
  {
   "cell_type": "code",
   "execution_count": 5,
   "metadata": {
    "id": "GDVuZH_7rUxP"
   },
   "outputs": [],
   "source": [
    "import pandas as pd\n",
    "import numpy as np\n",
    "import matplotlib.pyplot as plt"
   ]
  },
  {
   "cell_type": "code",
   "execution_count": 6,
   "metadata": {
    "id": "FsmKzTT3jqM8"
   },
   "outputs": [],
   "source": [
    "import deepchem as dc "
   ]
  },
  {
   "cell_type": "markdown",
   "metadata": {
    "id": "fe0qAgyBsIkh"
   },
   "source": [
    "Then, we are ready to import our dataset for training. \n",
    "\n",
    "Here, for demonstration, we'll be using this dataset of in-vitro assay that detects inhibition of SARS-CoV 3CL protease via fluorescence.\n",
    "\n",
    "The dataset is originally from [PubChem AID1706](https://pubchem.ncbi.nlm.nih.gov/bioassay/1706), previously handled by [JClinic AIcure](https://www.aicures.mit.edu/) team at MIT into this [binarized label form](https://github.com/yangkevin2/coronavirus_data/blob/master/data/AID1706_binarized_sars.csv)."
   ]
  },
  {
   "cell_type": "code",
   "execution_count": 7,
   "metadata": {
    "id": "MQxqEQ0ssJ42"
   },
   "outputs": [],
   "source": [
    "df = pd.read_csv('AID1706_binarized_sars.csv')"
   ]
  },
  {
   "cell_type": "code",
   "execution_count": 8,
   "metadata": {
    "colab": {
     "base_uri": "https://localhost:8080/",
     "height": 197
    },
    "id": "cuCLFzO5tGff",
    "outputId": "fe06734d-1224-48d3-ecc3-6e0ea0c0636d"
   },
   "outputs": [
    {
     "data": {
      "text/html": [
       "<div>\n",
       "<style scoped>\n",
       "    .dataframe tbody tr th:only-of-type {\n",
       "        vertical-align: middle;\n",
       "    }\n",
       "\n",
       "    .dataframe tbody tr th {\n",
       "        vertical-align: top;\n",
       "    }\n",
       "\n",
       "    .dataframe thead th {\n",
       "        text-align: right;\n",
       "    }\n",
       "</style>\n",
       "<table border=\"1\" class=\"dataframe\">\n",
       "  <thead>\n",
       "    <tr style=\"text-align: right;\">\n",
       "      <th></th>\n",
       "      <th>smiles</th>\n",
       "      <th>activity</th>\n",
       "    </tr>\n",
       "  </thead>\n",
       "  <tbody>\n",
       "    <tr>\n",
       "      <th>0</th>\n",
       "      <td>CC1=CC=C(O1)C(C(=O)NCC2=CC=CO2)N(C3=CC=C(C=C3)...</td>\n",
       "      <td>1</td>\n",
       "    </tr>\n",
       "    <tr>\n",
       "      <th>1</th>\n",
       "      <td>CC1=CC=C(C=C1)S(=O)(=O)N2CCN(CC2)S(=O)(=O)C3=C...</td>\n",
       "      <td>1</td>\n",
       "    </tr>\n",
       "    <tr>\n",
       "      <th>2</th>\n",
       "      <td>CC1=CC2=C(C=C1)NC(=O)C(=C2)CN(CCC3=CC=CC=C3)CC...</td>\n",
       "      <td>1</td>\n",
       "    </tr>\n",
       "    <tr>\n",
       "      <th>3</th>\n",
       "      <td>CC1=CC=C(C=C1)CN(C(C2=CC=CS2)C(=O)NCC3=CC=CO3)...</td>\n",
       "      <td>1</td>\n",
       "    </tr>\n",
       "    <tr>\n",
       "      <th>4</th>\n",
       "      <td>CCN1C2=NC(=O)N(C(=O)C2=NC(=N1)C3=CC=CC=C3)C</td>\n",
       "      <td>1</td>\n",
       "    </tr>\n",
       "  </tbody>\n",
       "</table>\n",
       "</div>"
      ],
      "text/plain": [
       "                                              smiles  activity\n",
       "0  CC1=CC=C(O1)C(C(=O)NCC2=CC=CO2)N(C3=CC=C(C=C3)...         1\n",
       "1  CC1=CC=C(C=C1)S(=O)(=O)N2CCN(CC2)S(=O)(=O)C3=C...         1\n",
       "2  CC1=CC2=C(C=C1)NC(=O)C(=C2)CN(CCC3=CC=CC=C3)CC...         1\n",
       "3  CC1=CC=C(C=C1)CN(C(C2=CC=CS2)C(=O)NCC3=CC=CO3)...         1\n",
       "4        CCN1C2=NC(=O)N(C(=O)C2=NC(=N1)C3=CC=CC=C3)C         1"
      ]
     },
     "execution_count": 8,
     "metadata": {},
     "output_type": "execute_result"
    }
   ],
   "source": [
    "df.head()"
   ]
  },
  {
   "cell_type": "code",
   "execution_count": 9,
   "metadata": {
    "colab": {
     "base_uri": "https://localhost:8080/",
     "height": 137
    },
    "id": "bmftBd0UtO06",
    "outputId": "cec31a28-1b47-4dc3-9bd7-84c2e6eb47c1"
   },
   "outputs": [
    {
     "data": {
      "text/html": [
       "<div>\n",
       "<style scoped>\n",
       "    .dataframe tbody tr th:only-of-type {\n",
       "        vertical-align: middle;\n",
       "    }\n",
       "\n",
       "    .dataframe tbody tr th {\n",
       "        vertical-align: top;\n",
       "    }\n",
       "\n",
       "    .dataframe thead th {\n",
       "        text-align: right;\n",
       "    }\n",
       "</style>\n",
       "<table border=\"1\" class=\"dataframe\">\n",
       "  <thead>\n",
       "    <tr style=\"text-align: right;\">\n",
       "      <th></th>\n",
       "      <th>smiles</th>\n",
       "    </tr>\n",
       "    <tr>\n",
       "      <th>activity</th>\n",
       "      <th></th>\n",
       "    </tr>\n",
       "  </thead>\n",
       "  <tbody>\n",
       "    <tr>\n",
       "      <th>0</th>\n",
       "      <td>290321</td>\n",
       "    </tr>\n",
       "    <tr>\n",
       "      <th>1</th>\n",
       "      <td>405</td>\n",
       "    </tr>\n",
       "  </tbody>\n",
       "</table>\n",
       "</div>"
      ],
      "text/plain": [
       "          smiles\n",
       "activity        \n",
       "0         290321\n",
       "1            405"
      ]
     },
     "execution_count": 9,
     "metadata": {},
     "output_type": "execute_result"
    }
   ],
   "source": [
    "df.groupby('activity').count()"
   ]
  },
  {
   "cell_type": "markdown",
   "metadata": {
    "id": "wDLKQeFhtLXo"
   },
   "source": [
    "Observe the data above, it contains a 'smiles' column, which stands for the smiles representation of the molecules. There is also an 'activity' column, in which it is the label specifying whether that molecule is considered as hit for the protein.\n",
    "\n",
    "Here, we only need those 405 molecules considered as hits, and we'll be extracting features from them to generate new molecules that may as well be hits."
   ]
  },
  {
   "cell_type": "code",
   "execution_count": 10,
   "metadata": {
    "id": "nj19L4SmN52k"
   },
   "outputs": [],
   "source": [
    "true = df[df['activity']==1]"
   ]
  },
  {
   "cell_type": "markdown",
   "metadata": {},
   "source": [
    "## Set Minimum Length for molecules"
   ]
  },
  {
   "cell_type": "markdown",
   "metadata": {
    "id": "g7qU8glVYaDn"
   },
   "source": [
    "Since we'll be using graphic neural network, it might be more helpful and efficient if our graph data are of the same size, thus, we'll eliminate the molecules from the training set that are shorter(i.e. lacking enough atoms) than our desired minimum size."
   ]
  },
  {
   "cell_type": "code",
   "execution_count": 11,
   "metadata": {},
   "outputs": [],
   "source": [
    "num_atoms = 6 #here the minimum length of molecules is 6"
   ]
  },
  {
   "cell_type": "code",
   "execution_count": 12,
   "metadata": {
    "id": "KDPa7jbhyyY_"
   },
   "outputs": [],
   "source": [
    "input_df = true['smiles']\n",
    "df_length = []\n",
    "for _ in input_df:\n",
    "    df_length.append(Chem.MolFromSmiles(_).GetNumAtoms() )"
   ]
  },
  {
   "cell_type": "code",
   "execution_count": 13,
   "metadata": {
    "id": "DaihIG7rgkAH"
   },
   "outputs": [
    {
     "name": "stderr",
     "output_type": "stream",
     "text": [
      "/Users/feishu/opt/anaconda3/envs/my-rdkit-env/lib/python3.7/site-packages/ipykernel_launcher.py:1: SettingWithCopyWarning: \n",
      "A value is trying to be set on a copy of a slice from a DataFrame.\n",
      "Try using .loc[row_indexer,col_indexer] = value instead\n",
      "\n",
      "See the caveats in the documentation: https://pandas.pydata.org/pandas-docs/stable/user_guide/indexing.html#returning-a-view-versus-a-copy\n",
      "  \"\"\"Entry point for launching an IPython kernel.\n"
     ]
    }
   ],
   "source": [
    "true['length'] = df_length #create a new column containing each molecule's length"
   ]
  },
  {
   "cell_type": "code",
   "execution_count": 14,
   "metadata": {
    "id": "LDmGtQoS1mBA"
   },
   "outputs": [],
   "source": [
    "true = true[true['length']>num_atoms] #Here we leave only the ones longer than 6\n",
    "input_df = true['smiles']\n",
    "input_df_smiles = input_df.apply(Chem.MolFromSmiles) #convert the smiles representations into rdkit molecules\n"
   ]
  },
  {
   "cell_type": "markdown",
   "metadata": {},
   "source": [
    "Now, we are ready to apply the `featurizer` function to our molecules to convert them into graphs with nodes and edges for training."
   ]
  },
  {
   "cell_type": "code",
   "execution_count": 15,
   "metadata": {},
   "outputs": [],
   "source": [
    "#input_df = input_df.apply(Chem.MolFromSmiles) \n",
    "train_set = input_df_smiles.apply( lambda x: model.featurizer(x,max_length = num_atoms))"
   ]
  },
  {
   "cell_type": "code",
   "execution_count": 16,
   "metadata": {},
   "outputs": [
    {
     "data": {
      "text/plain": [
       "0      ([6, 6, 6, 6, 6, 8], [[0, 2, 0, 0, 0, 0], [2, ...\n",
       "1      ([6, 6, 6, 6, 6, 6], [[0, 2, 0, 0, 0, 0], [2, ...\n",
       "2      ([6, 6, 6, 6, 6, 6], [[0, 2, 0, 0, 0, 0], [2, ...\n",
       "3      ([6, 6, 6, 6, 6, 6], [[0, 2, 0, 0, 0, 0], [2, ...\n",
       "4      ([6, 6, 7, 6, 7, 6], [[0, 2, 0, 0, 0, 0], [2, ...\n",
       "                             ...                        \n",
       "400    ([6, 6, 8, 6, 6, 8], [[0, 2, 0, 0, 0, 2], [2, ...\n",
       "401    ([6, 8, 6, 8, 6, 6], [[0, 2, 0, 0, 0, 0], [2, ...\n",
       "402    ([6, 8, 6, 6, 6, 6], [[0, 2, 0, 0, 0, 0], [2, ...\n",
       "403    ([6, 7, 6, 6, 6, 7], [[0, 2, 0, 0, 0, 0], [2, ...\n",
       "404    ([6, 6, 8, 6, 7, 16], [[0, 2, 0, 0, 2, 0], [2,...\n",
       "Name: smiles, Length: 405, dtype: object"
      ]
     },
     "execution_count": 16,
     "metadata": {},
     "output_type": "execute_result"
    }
   ],
   "source": [
    "train_set"
   ]
  },
  {
   "cell_type": "code",
   "execution_count": 17,
   "metadata": {},
   "outputs": [],
   "source": [
    "nodes_train, edges_train = list(zip(*train_set) )"
   ]
  },
  {
   "cell_type": "markdown",
   "metadata": {},
   "source": [
    "# Training"
   ]
  },
  {
   "cell_type": "markdown",
   "metadata": {},
   "source": [
    "Now, we're finally ready for generating new molecules. We'll first import some necessay functions from tensorflow."
   ]
  },
  {
   "cell_type": "code",
   "execution_count": 18,
   "metadata": {
    "id": "NxB150lou0Ew"
   },
   "outputs": [],
   "source": [
    "import tensorflow as tf\n",
    "from tensorflow import keras\n",
    "from tensorflow.keras import layers"
   ]
  },
  {
   "cell_type": "markdown",
   "metadata": {},
   "source": [
    "The network here we'll be using is Generative Adversarial Network, here's a great [introduction](https://machinelearningmastery.com/what-are-generative-adversarial-networks-gans/). "
   ]
  },
  {
   "cell_type": "markdown",
   "metadata": {},
   "source": [
    "![Screen Shot 2021-06-08 at 7 40 49 PM](https://user-images.githubusercontent.com/67823308/121178738-709bbd80-c891-11eb-91dc-d45e69f8f4d5.png)\n"
   ]
  },
  {
   "cell_type": "code",
   "execution_count": 19,
   "metadata": {},
   "outputs": [],
   "source": [
    "disc = model.make_discriminator(num_atoms)"
   ]
  },
  {
   "cell_type": "code",
   "execution_count": 20,
   "metadata": {},
   "outputs": [],
   "source": [
    "gene = model.make_generator(num_atoms, noise_input_shape = 100)"
   ]
  },
  {
   "cell_type": "code",
   "execution_count": 49,
   "metadata": {},
   "outputs": [
    {
     "name": "stdout",
     "output_type": "stream",
     "text": [
      ">0, d1=0.224, d2=0.415 g=1.139, a1=100, a2=100\n",
      ">1, d1=0.096, d2=0.616 g=0.800, a1=100, a2=100\n",
      ">2, d1=0.096, d2=0.838 g=0.568, a1=100, a2=0\n",
      ">3, d1=0.096, d2=1.076 g=0.434, a1=100, a2=0\n",
      ">4, d1=0.165, d2=1.347 g=0.308, a1=100, a2=0\n",
      ">5, d1=0.060, d2=1.600 g=0.204, a1=100, a2=0\n",
      ">6, d1=0.224, d2=1.924 g=0.147, a1=100, a2=0\n",
      ">7, d1=0.074, d2=2.275 g=0.108, a1=100, a2=0\n",
      ">8, d1=0.830, d2=2.444 g=0.088, a1=0, a2=0\n",
      ">9, d1=5.003, d2=2.798 g=0.068, a1=0, a2=0\n",
      ">10, d1=0.124, d2=2.924 g=0.053, a1=100, a2=0\n",
      ">11, d1=0.200, d2=3.263 g=0.042, a1=100, a2=0\n",
      ">12, d1=0.074, d2=3.421 g=0.035, a1=100, a2=0\n",
      ">13, d1=0.096, d2=3.541 g=0.030, a1=100, a2=0\n",
      ">14, d1=0.060, d2=3.668 g=0.026, a1=100, a2=0\n",
      ">15, d1=0.060, d2=3.744 g=0.025, a1=100, a2=0\n",
      ">16, d1=1.008, d2=3.862 g=0.021, a1=0, a2=0\n",
      ">17, d1=0.356, d2=3.975 g=0.020, a1=100, a2=0\n",
      ">18, d1=0.053, d2=4.004 g=0.019, a1=100, a2=0\n",
      ">19, d1=0.096, d2=3.994 g=0.017, a1=100, a2=0\n",
      ">20, d1=0.181, d2=4.139 g=0.017, a1=100, a2=0\n",
      ">21, d1=0.265, d2=4.113 g=0.016, a1=100, a2=0\n",
      ">22, d1=0.120, d2=4.194 g=0.016, a1=100, a2=0\n",
      ">23, d1=0.060, d2=4.208 g=0.015, a1=100, a2=0\n",
      ">24, d1=0.234, d2=4.267 g=0.015, a1=100, a2=0\n",
      ">25, d1=0.127, d2=4.280 g=0.014, a1=100, a2=0\n",
      ">26, d1=0.105, d2=4.327 g=0.013, a1=100, a2=0\n",
      ">27, d1=2.332, d2=4.374 g=0.012, a1=0, a2=0\n",
      ">28, d1=0.105, d2=4.426 g=0.012, a1=100, a2=0\n",
      ">29, d1=0.275, d2=4.460 g=0.011, a1=100, a2=0\n",
      ">30, d1=0.105, d2=4.475 g=0.011, a1=100, a2=0\n",
      ">31, d1=0.096, d2=4.551 g=0.011, a1=100, a2=0\n",
      ">32, d1=0.124, d2=4.569 g=0.011, a1=100, a2=0\n",
      ">33, d1=0.096, d2=4.554 g=0.011, a1=100, a2=0\n",
      ">34, d1=0.105, d2=4.650 g=0.010, a1=100, a2=0\n",
      ">35, d1=0.447, d2=4.627 g=0.010, a1=100, a2=0\n",
      ">36, d1=0.096, d2=4.695 g=0.009, a1=100, a2=0\n",
      ">37, d1=0.221, d2=4.740 g=0.009, a1=100, a2=0\n",
      ">38, d1=0.107, d2=4.763 g=0.009, a1=100, a2=0\n",
      ">39, d1=1.086, d2=4.680 g=0.009, a1=0, a2=0\n",
      ">40, d1=0.105, d2=4.806 g=0.008, a1=100, a2=0\n",
      ">41, d1=2.412, d2=4.812 g=0.008, a1=0, a2=0\n",
      ">42, d1=0.188, d2=4.843 g=0.008, a1=100, a2=0\n",
      ">43, d1=0.320, d2=4.845 g=0.008, a1=100, a2=0\n",
      ">44, d1=0.127, d2=4.805 g=0.008, a1=100, a2=0\n",
      ">45, d1=0.447, d2=4.897 g=0.008, a1=100, a2=0\n",
      ">46, d1=0.477, d2=4.843 g=0.007, a1=100, a2=0\n",
      ">47, d1=0.506, d2=4.940 g=0.007, a1=100, a2=0\n",
      ">48, d1=0.283, d2=4.949 g=0.007, a1=100, a2=0\n",
      ">49, d1=0.275, d2=4.938 g=0.007, a1=100, a2=0\n",
      ">50, d1=0.060, d2=4.952 g=0.007, a1=100, a2=0\n",
      ">51, d1=0.583, d2=4.985 g=0.007, a1=100, a2=0\n",
      ">52, d1=0.192, d2=5.004 g=0.007, a1=100, a2=0\n",
      ">53, d1=0.060, d2=5.001 g=0.007, a1=100, a2=0\n",
      ">54, d1=0.096, d2=5.043 g=0.006, a1=100, a2=0\n",
      ">55, d1=0.060, d2=5.017 g=0.006, a1=100, a2=0\n",
      ">56, d1=0.041, d2=5.086 g=0.006, a1=100, a2=0\n",
      ">57, d1=0.105, d2=5.086 g=0.006, a1=100, a2=0\n",
      ">58, d1=0.060, d2=5.005 g=0.006, a1=100, a2=0\n",
      ">59, d1=2.366, d2=5.082 g=0.006, a1=0, a2=0\n",
      ">60, d1=0.224, d2=5.153 g=0.006, a1=100, a2=0\n",
      ">61, d1=2.332, d2=5.142 g=0.006, a1=0, a2=0\n",
      ">62, d1=0.293, d2=5.145 g=0.006, a1=100, a2=0\n",
      ">63, d1=0.152, d2=5.199 g=0.006, a1=100, a2=0\n",
      ">64, d1=0.105, d2=5.174 g=0.006, a1=100, a2=0\n",
      ">65, d1=0.096, d2=5.199 g=0.006, a1=100, a2=0\n",
      ">66, d1=0.096, d2=5.220 g=0.005, a1=100, a2=0\n",
      ">67, d1=0.350, d2=5.220 g=0.005, a1=100, a2=0\n",
      ">68, d1=0.105, d2=5.241 g=0.005, a1=100, a2=0\n",
      ">69, d1=0.297, d2=5.265 g=0.005, a1=100, a2=0\n",
      ">70, d1=0.118, d2=5.275 g=0.005, a1=100, a2=0\n",
      ">71, d1=0.477, d2=5.296 g=0.005, a1=100, a2=0\n",
      ">72, d1=0.096, d2=5.319 g=0.005, a1=100, a2=0\n",
      ">73, d1=0.477, d2=5.326 g=0.005, a1=100, a2=0\n",
      ">74, d1=0.096, d2=5.334 g=0.005, a1=100, a2=0\n",
      ">75, d1=0.181, d2=5.259 g=0.005, a1=100, a2=0\n",
      ">76, d1=0.096, d2=5.354 g=0.005, a1=100, a2=0\n",
      ">77, d1=0.313, d2=5.372 g=0.005, a1=100, a2=0\n",
      ">78, d1=1.099, d2=5.371 g=0.005, a1=0, a2=0\n",
      ">79, d1=0.105, d2=5.390 g=0.005, a1=100, a2=0\n",
      ">80, d1=0.096, d2=5.416 g=0.005, a1=100, a2=0\n",
      ">81, d1=0.060, d2=5.360 g=0.004, a1=100, a2=0\n",
      ">82, d1=0.060, d2=5.440 g=0.004, a1=100, a2=0\n",
      ">83, d1=0.066, d2=5.449 g=0.004, a1=100, a2=0\n",
      ">84, d1=0.120, d2=5.459 g=0.004, a1=100, a2=0\n",
      ">85, d1=0.096, d2=5.441 g=0.004, a1=100, a2=0\n",
      ">86, d1=0.060, d2=5.411 g=0.004, a1=100, a2=0\n",
      ">87, d1=0.096, d2=5.472 g=0.004, a1=100, a2=0\n",
      ">88, d1=0.760, d2=5.485 g=0.004, a1=0, a2=0\n",
      ">89, d1=0.105, d2=5.520 g=0.004, a1=100, a2=0\n",
      ">90, d1=0.134, d2=5.513 g=0.004, a1=100, a2=0\n",
      ">91, d1=0.096, d2=5.507 g=0.004, a1=100, a2=0\n",
      ">92, d1=0.105, d2=5.500 g=0.004, a1=100, a2=0\n",
      ">93, d1=0.060, d2=5.532 g=0.004, a1=100, a2=0\n",
      ">94, d1=0.096, d2=5.555 g=0.004, a1=100, a2=0\n",
      ">95, d1=0.577, d2=5.559 g=0.004, a1=100, a2=0\n",
      ">96, d1=0.083, d2=5.590 g=0.004, a1=100, a2=0\n",
      ">97, d1=0.092, d2=5.550 g=0.004, a1=100, a2=0\n",
      ">98, d1=0.083, d2=5.574 g=0.004, a1=100, a2=0\n",
      ">99, d1=0.096, d2=5.608 g=0.004, a1=100, a2=0\n",
      ">100, d1=0.060, d2=5.599 g=0.004, a1=100, a2=0\n",
      ">101, d1=0.105, d2=5.630 g=0.004, a1=100, a2=0\n",
      ">102, d1=0.053, d2=5.598 g=0.004, a1=100, a2=0\n",
      ">103, d1=0.096, d2=5.649 g=0.004, a1=100, a2=0\n",
      ">104, d1=0.060, d2=5.639 g=0.004, a1=100, a2=0\n",
      ">105, d1=0.060, d2=5.643 g=0.004, a1=100, a2=0\n",
      ">106, d1=0.134, d2=5.669 g=0.004, a1=100, a2=0\n",
      ">107, d1=0.105, d2=5.667 g=0.003, a1=100, a2=0\n",
      ">108, d1=0.096, d2=5.641 g=0.003, a1=100, a2=0\n",
      ">109, d1=0.060, d2=5.650 g=0.003, a1=100, a2=0\n",
      ">110, d1=0.105, d2=5.667 g=0.004, a1=100, a2=0\n",
      ">111, d1=0.417, d2=5.644 g=0.003, a1=100, a2=0\n",
      ">112, d1=0.221, d2=5.711 g=0.003, a1=100, a2=0\n",
      ">113, d1=0.096, d2=5.732 g=0.003, a1=100, a2=0\n",
      ">114, d1=0.060, d2=5.698 g=0.003, a1=100, a2=0\n",
      ">115, d1=2.366, d2=5.739 g=0.003, a1=0, a2=0\n",
      ">116, d1=0.060, d2=5.749 g=0.003, a1=100, a2=0\n",
      ">117, d1=0.127, d2=5.752 g=0.003, a1=100, a2=0\n",
      ">118, d1=0.295, d2=5.772 g=0.003, a1=100, a2=0\n",
      ">119, d1=4.910, d2=5.761 g=0.003, a1=0, a2=0\n",
      ">120, d1=0.060, d2=5.784 g=0.003, a1=100, a2=0\n",
      ">121, d1=0.105, d2=5.765 g=0.003, a1=100, a2=0\n",
      ">122, d1=0.246, d2=5.793 g=0.003, a1=100, a2=0\n",
      ">123, d1=0.181, d2=5.796 g=0.003, a1=100, a2=0\n",
      ">124, d1=0.105, d2=5.799 g=0.003, a1=100, a2=0\n",
      ">125, d1=0.096, d2=5.811 g=0.003, a1=100, a2=0\n",
      ">126, d1=0.096, d2=5.801 g=0.003, a1=100, a2=0\n",
      ">127, d1=0.105, d2=5.819 g=0.003, a1=100, a2=0\n",
      ">128, d1=0.149, d2=5.818 g=0.003, a1=100, a2=0\n",
      ">129, d1=0.096, d2=5.835 g=0.003, a1=100, a2=0\n",
      ">130, d1=0.096, d2=5.853 g=0.003, a1=100, a2=0\n",
      ">131, d1=0.127, d2=5.841 g=0.003, a1=100, a2=0\n",
      ">132, d1=0.105, d2=5.836 g=0.003, a1=100, a2=0\n",
      ">133, d1=0.423, d2=5.862 g=0.003, a1=100, a2=0\n",
      ">134, d1=0.060, d2=5.865 g=0.003, a1=100, a2=0\n",
      ">135, d1=0.060, d2=5.867 g=0.003, a1=100, a2=0\n",
      ">136, d1=0.366, d2=5.885 g=0.003, a1=100, a2=0\n",
      ">137, d1=0.224, d2=5.888 g=0.003, a1=100, a2=0\n",
      ">138, d1=0.096, d2=5.893 g=0.003, a1=100, a2=0\n",
      ">139, d1=0.060, d2=5.880 g=0.003, a1=100, a2=0\n",
      ">140, d1=0.060, d2=5.906 g=0.003, a1=100, a2=0\n",
      ">141, d1=0.118, d2=5.901 g=0.003, a1=100, a2=0\n",
      ">142, d1=0.060, d2=5.925 g=0.003, a1=100, a2=0\n",
      ">143, d1=0.096, d2=5.901 g=0.003, a1=100, a2=0\n",
      ">144, d1=0.096, d2=5.925 g=0.003, a1=100, a2=0\n",
      ">145, d1=0.060, d2=5.914 g=0.003, a1=100, a2=0\n",
      ">146, d1=0.810, d2=5.940 g=0.003, a1=0, a2=0\n",
      ">147, d1=0.701, d2=5.939 g=0.003, a1=0, a2=0\n",
      ">148, d1=0.065, d2=5.954 g=0.003, a1=100, a2=0\n",
      ">149, d1=0.142, d2=5.955 g=0.003, a1=100, a2=0\n",
      ">150, d1=0.381, d2=5.900 g=0.003, a1=100, a2=0\n",
      ">151, d1=0.248, d2=5.957 g=0.003, a1=100, a2=0\n",
      ">152, d1=0.060, d2=5.941 g=0.003, a1=100, a2=0\n",
      ">153, d1=0.060, d2=5.980 g=0.003, a1=100, a2=0\n",
      ">154, d1=0.060, d2=5.985 g=0.003, a1=100, a2=0\n",
      ">155, d1=0.142, d2=5.992 g=0.003, a1=100, a2=0\n",
      ">156, d1=0.069, d2=5.995 g=0.002, a1=100, a2=0\n",
      ">157, d1=0.357, d2=6.001 g=0.003, a1=100, a2=0\n",
      ">158, d1=0.060, d2=6.002 g=0.002, a1=100, a2=0\n",
      ">159, d1=0.060, d2=6.008 g=0.002, a1=100, a2=0\n"
     ]
    },
    {
     "data": {
      "image/png": "[encoded data removed]",
      "text/plain": [
       "<Figure size 432x288 with 2 Axes>"
      ]
     },
     "metadata": {
      "needs_background": "light"
     },
     "output_type": "display_data"
    }
   ],
   "source": [
    "generator_trained = model.train_batch(\n",
    "                                disc, gene, \n",
    "                                np.array(nodes_train), np.array(edges_train), \n",
    "                                noise_input_shape = 100, EPOCH = 160, BATCHSIZE = 2, \n",
    "                                plot_hist = True, temp_result = False\n",
    "    )"
   ]
  },
  {
   "cell_type": "code",
   "execution_count": 50,
   "metadata": {
    "id": "LMDuGLKvhT7Z"
   },
   "outputs": [],
   "source": [
    "no, ed = generator_trained(np.random.randint(0,30, size =(1,100)))"
   ]
  },
  {
   "cell_type": "code",
   "execution_count": 56,
   "metadata": {},
   "outputs": [
    {
     "data": {
      "text/plain": [
       "(array([5, 4, 5, 8, 5, 8]),\n",
       " array([[0, 2, 0, 0, 0, 0],\n",
       "        [3, 0, 3, 0, 0, 0],\n",
       "        [0, 2, 0, 1, 0, 0],\n",
       "        [0, 1, 2, 1, 3, 1],\n",
       "        [1, 0, 0, 4, 0, 2],\n",
       "        [1, 0, 1, 1, 3, 0]]))"
      ]
     },
     "execution_count": 56,
     "metadata": {},
     "output_type": "execute_result"
    }
   ],
   "source": [
    "abs(no.numpy()).astype(int).reshape(num_atoms), abs(ed.numpy()).astype(int).reshape(num_atoms,num_atoms)"
   ]
  },
  {
   "cell_type": "code",
   "execution_count": 52,
   "metadata": {
    "id": "OY3wWyxfpPpS"
   },
   "outputs": [],
   "source": [
    "cat, dog = model.de_featurizer(abs(no.numpy()).astype(int).reshape(num_atoms), abs(ed.numpy()).astype(int).reshape(num_atoms,num_atoms))"
   ]
  },
  {
   "cell_type": "code",
   "execution_count": 58,
   "metadata": {
    "colab": {
     "base_uri": "https://localhost:8080/"
    },
    "id": "ZKHO7sckDHCk",
    "outputId": "22656d64-ddd0-4bb4-afe2-6c2bb6219fd1"
   },
   "outputs": [
    {
     "ename": "NameError",
     "evalue": "name 'mol' is not defined",
     "output_type": "error",
     "traceback": [
      "\u001b[0;31m---------------------------------------------------------------------------\u001b[0m",
      "\u001b[0;31mNameError\u001b[0m                                 Traceback (most recent call last)",
      "\u001b[0;32m<ipython-input-58-37365e6d156e>\u001b[0m in \u001b[0;36m<module>\u001b[0;34m\u001b[0m\n\u001b[0;32m----> 1\u001b[0;31m \u001b[0mChem\u001b[0m\u001b[0;34m.\u001b[0m\u001b[0mMolToSmiles\u001b[0m\u001b[0;34m(\u001b[0m\u001b[0mmol\u001b[0m\u001b[0;34m)\u001b[0m\u001b[0;34m\u001b[0m\u001b[0;34m\u001b[0m\u001b[0m\n\u001b[0m",
      "\u001b[0;31mNameError\u001b[0m: name 'mol' is not defined"
     ]
    }
   ],
   "source": [
    "Chem.MolToSmiles(mol)"
   ]
  },
  {
   "cell_type": "code",
   "execution_count": 54,
   "metadata": {
    "colab": {
     "base_uri": "https://localhost:8080/",
     "height": 53
    },
    "id": "JfwjfNpI76yp",
    "outputId": "e16ab5dd-a68f-470e-86ed-2cf9e4293432"
   },
   "outputs": [
    {
     "data": {
      "text/plain": [
       "'B[Be]=B~O=BO'"
      ]
     },
     "execution_count": 54,
     "metadata": {},
     "output_type": "execute_result"
    }
   ],
   "source": [
    "Chem.MolToSmiles(cat)"
   ]
  },
  {
   "cell_type": "code",
   "execution_count": 55,
   "metadata": {
    "id": "QWQEebMyAA15"
   },
   "outputs": [
    {
     "name": "stderr",
     "output_type": "stream",
     "text": [
      "RDKit ERROR: [21:35:46] Explicit valence for atom # 1 Be, 3, is greater than permitted\n"
     ]
    }
   ],
   "source": [
    "Chem.MolFromSmiles(\"B=[Be]BO#B=O\")"
   ]
  },
  {
   "cell_type": "code",
   "execution_count": null,
   "metadata": {},
   "outputs": [],
   "source": []
  }
 ],
 "metadata": {
  "colab": {
   "collapsed_sections": [],
   "name": "model v1.ipynb",
   "provenance": [],
   "toc_visible": true
  },
  "kernelspec": {
   "display_name": "Python 3",
   "language": "python",
   "name": "python3"
  },
  "language_info": {
   "codemirror_mode": {
    "name": "ipython",
    "version": 3
   },
   "file_extension": ".py",
   "mimetype": "text/x-python",
   "name": "python",
   "nbconvert_exporter": "python",
   "pygments_lexer": "ipython3",
   "version": "3.7.10"
  }
 },
 "nbformat": 4,
 "nbformat_minor": 4
}
