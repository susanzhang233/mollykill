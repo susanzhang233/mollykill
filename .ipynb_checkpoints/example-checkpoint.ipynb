{
 "cells": [
  {
   "cell_type": "markdown",
   "metadata": {
    "id": "eZBVPeV6pur-"
   },
   "source": [
    "## Setup\n"
   ]
  },
  {
   "cell_type": "markdown",
   "metadata": {},
   "source": [
    "If you are running this generator locally(i.e. in a jupyter notebook in conda, just make sure you installed:\n",
    "- RDKit\n",
    "- DeepChem 2.5.0 & above\n",
    "- Tensorflow 2.4.0 & above\n",
    "\n",
    "Then, please skip the following part and continue from `Data Preparations`."
   ]
  },
  {
   "cell_type": "markdown",
   "metadata": {},
   "source": [
    "To increase efficiency, we recommend running this molecule generator in Colab.\n",
    "\n",
    "Then, we'll first need to run the following lines of code, these will download conda with the deepchem environment in colab."
   ]
  },
  {
   "cell_type": "code",
   "execution_count": 1,
   "metadata": {
    "colab": {
     "base_uri": "https://localhost:8080/"
    },
    "id": "QHjHpULnjkWh",
    "outputId": "58751773-cbdc-4069-a6c0-fc385a98c62c"
   },
   "outputs": [],
   "source": [
    "#!curl -Lo conda_installer.py https://raw.githubusercontent.com/deepchem/deepchem/master/scripts/colab_install.py\n",
    "#import conda_installer\n",
    "#conda_installer.install()\n",
    "#!/root/miniconda/bin/conda info -e"
   ]
  },
  {
   "cell_type": "code",
   "execution_count": 2,
   "metadata": {
    "colab": {
     "base_uri": "https://localhost:8080/",
     "height": 215
    },
    "id": "BPw4CH4ojqHM",
    "outputId": "4dd01c41-a2a3-4aeb-972d-9b19b2c6ebed",
    "scrolled": true
   },
   "outputs": [],
   "source": [
    "#!pip install --pre deepchem\n",
    "#import deepchem\n",
    "#deepchem.__version__"
   ]
  },
  {
   "cell_type": "markdown",
   "metadata": {
    "id": "j4ZsW2TnqHkE"
   },
   "source": [
    "## Data Preparations\n",
    "\n",
    "Now we are ready to import some useful functions/packages, along with our model."
   ]
  },
  {
   "cell_type": "markdown",
   "metadata": {},
   "source": [
    "### Import Data"
   ]
  },
  {
   "cell_type": "code",
   "execution_count": 3,
   "metadata": {
    "id": "zgty1IrNZiIT"
   },
   "outputs": [],
   "source": [
    "import model##our model"
   ]
  },
  {
   "cell_type": "code",
   "execution_count": 4,
   "metadata": {
    "id": "WVXBx9Cdh4T9"
   },
   "outputs": [],
   "source": [
    "from rdkit import Chem\n",
    "from rdkit.Chem import AllChem"
   ]
  },
  {
   "cell_type": "code",
   "execution_count": 5,
   "metadata": {
    "id": "GDVuZH_7rUxP"
   },
   "outputs": [],
   "source": [
    "import pandas as pd\n",
    "import numpy as np\n",
    "import matplotlib.pyplot as plt"
   ]
  },
  {
   "cell_type": "code",
   "execution_count": 6,
   "metadata": {
    "id": "FsmKzTT3jqM8"
   },
   "outputs": [],
   "source": [
    "import deepchem as dc "
   ]
  },
  {
   "cell_type": "markdown",
   "metadata": {
    "id": "fe0qAgyBsIkh"
   },
   "source": [
    "Then, we are ready to import our dataset for training. \n",
    "\n",
    "Here, for demonstration, we'll be using this dataset of in-vitro assay that detects inhibition of SARS-CoV 3CL protease via fluorescence.\n",
    "\n",
    "The dataset is originally from [PubChem AID1706](https://pubchem.ncbi.nlm.nih.gov/bioassay/1706), previously handled by [JClinic AIcure](https://www.aicures.mit.edu/) team at MIT into this [binarized label form](https://github.com/yangkevin2/coronavirus_data/blob/master/data/AID1706_binarized_sars.csv)."
   ]
  },
  {
   "cell_type": "code",
   "execution_count": 7,
   "metadata": {
    "id": "MQxqEQ0ssJ42"
   },
   "outputs": [],
   "source": [
    "df = pd.read_csv('AID1706_binarized_sars.csv')"
   ]
  },
  {
   "cell_type": "code",
   "execution_count": 8,
   "metadata": {
    "colab": {
     "base_uri": "https://localhost:8080/",
     "height": 197
    },
    "id": "cuCLFzO5tGff",
    "outputId": "fe06734d-1224-48d3-ecc3-6e0ea0c0636d"
   },
   "outputs": [
    {
     "data": {
      "text/html": [
       "<div>\n",
       "<style scoped>\n",
       "    .dataframe tbody tr th:only-of-type {\n",
       "        vertical-align: middle;\n",
       "    }\n",
       "\n",
       "    .dataframe tbody tr th {\n",
       "        vertical-align: top;\n",
       "    }\n",
       "\n",
       "    .dataframe thead th {\n",
       "        text-align: right;\n",
       "    }\n",
       "</style>\n",
       "<table border=\"1\" class=\"dataframe\">\n",
       "  <thead>\n",
       "    <tr style=\"text-align: right;\">\n",
       "      <th></th>\n",
       "      <th>smiles</th>\n",
       "      <th>activity</th>\n",
       "    </tr>\n",
       "  </thead>\n",
       "  <tbody>\n",
       "    <tr>\n",
       "      <th>0</th>\n",
       "      <td>CC1=CC=C(O1)C(C(=O)NCC2=CC=CO2)N(C3=CC=C(C=C3)...</td>\n",
       "      <td>1</td>\n",
       "    </tr>\n",
       "    <tr>\n",
       "      <th>1</th>\n",
       "      <td>CC1=CC=C(C=C1)S(=O)(=O)N2CCN(CC2)S(=O)(=O)C3=C...</td>\n",
       "      <td>1</td>\n",
       "    </tr>\n",
       "    <tr>\n",
       "      <th>2</th>\n",
       "      <td>CC1=CC2=C(C=C1)NC(=O)C(=C2)CN(CCC3=CC=CC=C3)CC...</td>\n",
       "      <td>1</td>\n",
       "    </tr>\n",
       "    <tr>\n",
       "      <th>3</th>\n",
       "      <td>CC1=CC=C(C=C1)CN(C(C2=CC=CS2)C(=O)NCC3=CC=CO3)...</td>\n",
       "      <td>1</td>\n",
       "    </tr>\n",
       "    <tr>\n",
       "      <th>4</th>\n",
       "      <td>CCN1C2=NC(=O)N(C(=O)C2=NC(=N1)C3=CC=CC=C3)C</td>\n",
       "      <td>1</td>\n",
       "    </tr>\n",
       "  </tbody>\n",
       "</table>\n",
       "</div>"
      ],
      "text/plain": [
       "                                              smiles  activity\n",
       "0  CC1=CC=C(O1)C(C(=O)NCC2=CC=CO2)N(C3=CC=C(C=C3)...         1\n",
       "1  CC1=CC=C(C=C1)S(=O)(=O)N2CCN(CC2)S(=O)(=O)C3=C...         1\n",
       "2  CC1=CC2=C(C=C1)NC(=O)C(=C2)CN(CCC3=CC=CC=C3)CC...         1\n",
       "3  CC1=CC=C(C=C1)CN(C(C2=CC=CS2)C(=O)NCC3=CC=CO3)...         1\n",
       "4        CCN1C2=NC(=O)N(C(=O)C2=NC(=N1)C3=CC=CC=C3)C         1"
      ]
     },
     "execution_count": 8,
     "metadata": {},
     "output_type": "execute_result"
    }
   ],
   "source": [
    "df.head()"
   ]
  },
  {
   "cell_type": "code",
   "execution_count": 9,
   "metadata": {
    "colab": {
     "base_uri": "https://localhost:8080/",
     "height": 137
    },
    "id": "bmftBd0UtO06",
    "outputId": "cec31a28-1b47-4dc3-9bd7-84c2e6eb47c1"
   },
   "outputs": [
    {
     "data": {
      "text/html": [
       "<div>\n",
       "<style scoped>\n",
       "    .dataframe tbody tr th:only-of-type {\n",
       "        vertical-align: middle;\n",
       "    }\n",
       "\n",
       "    .dataframe tbody tr th {\n",
       "        vertical-align: top;\n",
       "    }\n",
       "\n",
       "    .dataframe thead th {\n",
       "        text-align: right;\n",
       "    }\n",
       "</style>\n",
       "<table border=\"1\" class=\"dataframe\">\n",
       "  <thead>\n",
       "    <tr style=\"text-align: right;\">\n",
       "      <th></th>\n",
       "      <th>smiles</th>\n",
       "    </tr>\n",
       "    <tr>\n",
       "      <th>activity</th>\n",
       "      <th></th>\n",
       "    </tr>\n",
       "  </thead>\n",
       "  <tbody>\n",
       "    <tr>\n",
       "      <th>0</th>\n",
       "      <td>290321</td>\n",
       "    </tr>\n",
       "    <tr>\n",
       "      <th>1</th>\n",
       "      <td>405</td>\n",
       "    </tr>\n",
       "  </tbody>\n",
       "</table>\n",
       "</div>"
      ],
      "text/plain": [
       "          smiles\n",
       "activity        \n",
       "0         290321\n",
       "1            405"
      ]
     },
     "execution_count": 9,
     "metadata": {},
     "output_type": "execute_result"
    }
   ],
   "source": [
    "df.groupby('activity').count()"
   ]
  },
  {
   "cell_type": "markdown",
   "metadata": {
    "id": "wDLKQeFhtLXo"
   },
   "source": [
    "Observe the data above, it contains a 'smiles' column, which stands for the smiles representation of the molecules. There is also an 'activity' column, in which it is the label specifying whether that molecule is considered as hit for the protein.\n",
    "\n",
    "Here, we only need those 405 molecules considered as hits, and we'll be extracting features from them to generate new molecules that may as well be hits."
   ]
  },
  {
   "cell_type": "code",
   "execution_count": 10,
   "metadata": {
    "id": "nj19L4SmN52k"
   },
   "outputs": [],
   "source": [
    "true = df[df['activity']==1]"
   ]
  },
  {
   "cell_type": "markdown",
   "metadata": {},
   "source": [
    "### Set Minimum Length for molecules"
   ]
  },
  {
   "cell_type": "markdown",
   "metadata": {
    "id": "g7qU8glVYaDn"
   },
   "source": [
    "Since we'll be using graphic neural network, it might be more helpful and efficient if our graph data are of the same size, thus, we'll eliminate the molecules from the training set that are shorter(i.e. lacking enough atoms) than our desired minimum size."
   ]
  },
  {
   "cell_type": "code",
   "execution_count": 11,
   "metadata": {},
   "outputs": [],
   "source": [
    "num_atoms = 6 #here the minimum length of molecules is 6"
   ]
  },
  {
   "cell_type": "code",
   "execution_count": 12,
   "metadata": {
    "id": "KDPa7jbhyyY_"
   },
   "outputs": [],
   "source": [
    "input_df = true['smiles']\n",
    "df_length = []\n",
    "for _ in input_df:\n",
    "    df_length.append(Chem.MolFromSmiles(_).GetNumAtoms() )"
   ]
  },
  {
   "cell_type": "code",
   "execution_count": 13,
   "metadata": {
    "id": "DaihIG7rgkAH"
   },
   "outputs": [
    {
     "name": "stderr",
     "output_type": "stream",
     "text": [
      "/Users/feishu/opt/anaconda3/envs/my-rdkit-env/lib/python3.7/site-packages/ipykernel_launcher.py:1: SettingWithCopyWarning: \n",
      "A value is trying to be set on a copy of a slice from a DataFrame.\n",
      "Try using .loc[row_indexer,col_indexer] = value instead\n",
      "\n",
      "See the caveats in the documentation: https://pandas.pydata.org/pandas-docs/stable/user_guide/indexing.html#returning-a-view-versus-a-copy\n",
      "  \"\"\"Entry point for launching an IPython kernel.\n"
     ]
    }
   ],
   "source": [
    "true['length'] = df_length #create a new column containing each molecule's length"
   ]
  },
  {
   "cell_type": "code",
   "execution_count": 14,
   "metadata": {
    "id": "LDmGtQoS1mBA"
   },
   "outputs": [],
   "source": [
    "true = true[true['length']>num_atoms] #Here we leave only the ones longer than 6\n",
    "input_df = true['smiles']\n",
    "input_df_smiles = input_df.apply(Chem.MolFromSmiles) #convert the smiles representations into rdkit molecules\n"
   ]
  },
  {
   "cell_type": "markdown",
   "metadata": {},
   "source": [
    "Now, we are ready to apply the `featurizer` function to our molecules to convert them into graphs with nodes and edges for training."
   ]
  },
  {
   "cell_type": "code",
   "execution_count": 15,
   "metadata": {},
   "outputs": [],
   "source": [
    "#input_df = input_df.apply(Chem.MolFromSmiles) \n",
    "train_set = input_df_smiles.apply( lambda x: model.featurizer(x,max_length = num_atoms))"
   ]
  },
  {
   "cell_type": "code",
   "execution_count": 16,
   "metadata": {},
   "outputs": [
    {
     "data": {
      "text/plain": [
       "0      ([6, 6, 6, 6, 6, 8], [[0, 2, 0, 0, 0, 0], [2, ...\n",
       "1      ([6, 6, 6, 6, 6, 6], [[0, 2, 0, 0, 0, 0], [2, ...\n",
       "2      ([6, 6, 6, 6, 6, 6], [[0, 2, 0, 0, 0, 0], [2, ...\n",
       "3      ([6, 6, 6, 6, 6, 6], [[0, 2, 0, 0, 0, 0], [2, ...\n",
       "4      ([6, 6, 7, 6, 7, 6], [[0, 2, 0, 0, 0, 0], [2, ...\n",
       "                             ...                        \n",
       "400    ([6, 6, 8, 6, 6, 8], [[0, 2, 0, 0, 0, 2], [2, ...\n",
       "401    ([6, 8, 6, 8, 6, 6], [[0, 2, 0, 0, 0, 0], [2, ...\n",
       "402    ([6, 8, 6, 6, 6, 6], [[0, 2, 0, 0, 0, 0], [2, ...\n",
       "403    ([6, 7, 6, 6, 6, 7], [[0, 2, 0, 0, 0, 0], [2, ...\n",
       "404    ([6, 6, 8, 6, 7, 16], [[0, 2, 0, 0, 2, 0], [2,...\n",
       "Name: smiles, Length: 405, dtype: object"
      ]
     },
     "execution_count": 16,
     "metadata": {},
     "output_type": "execute_result"
    }
   ],
   "source": [
    "train_set"
   ]
  },
  {
   "cell_type": "code",
   "execution_count": 17,
   "metadata": {},
   "outputs": [],
   "source": [
    "nodes_train, edges_train = list(zip(*train_set) )"
   ]
  },
  {
   "cell_type": "markdown",
   "metadata": {},
   "source": [
    "## Training"
   ]
  },
  {
   "cell_type": "markdown",
   "metadata": {},
   "source": [
    "Now, we're finally ready for generating new molecules. We'll first import some necessay functions from tensorflow."
   ]
  },
  {
   "cell_type": "code",
   "execution_count": 18,
   "metadata": {
    "id": "NxB150lou0Ew"
   },
   "outputs": [],
   "source": [
    "import tensorflow as tf\n",
    "from tensorflow import keras\n",
    "from tensorflow.keras import layers"
   ]
  },
  {
   "cell_type": "markdown",
   "metadata": {},
   "source": [
    "The network here we'll be using is Generative Adversarial Network, as mentioned in the project introduction. Here's a great [introduction](https://machinelearningmastery.com/what-are-generative-adversarial-networks-gans/). "
   ]
  },
  {
   "cell_type": "markdown",
   "metadata": {},
   "source": [
    "![Screen Shot 2021-06-08 at 7 40 49 PM](https://user-images.githubusercontent.com/67823308/121178738-709bbd80-c891-11eb-91dc-d45e69f8f4d5.png)\n"
   ]
  },
  {
   "cell_type": "markdown",
   "metadata": {},
   "source": [
    "Here we'll first initiate a discriminator and a generator model with the corresponding functions in the package."
   ]
  },
  {
   "cell_type": "code",
   "execution_count": 19,
   "metadata": {},
   "outputs": [],
   "source": [
    "disc = model.make_discriminator(num_atoms)"
   ]
  },
  {
   "cell_type": "code",
   "execution_count": 20,
   "metadata": {},
   "outputs": [],
   "source": [
    "gene = model.make_generator(num_atoms, noise_input_shape = 100)"
   ]
  },
  {
   "cell_type": "markdown",
   "metadata": {},
   "source": [
    "Then, with the `train_on_batch` function, we'll supply the necessary inputs and train our network. Upon some experimentations, an epoch of around 160 would be nice for this dataset."
   ]
  },
  {
   "cell_type": "code",
   "execution_count": 21,
   "metadata": {},
   "outputs": [
    {
     "name": "stdout",
     "output_type": "stream",
     "text": [
      ">0, d1=0.230, d2=0.759 g=0.565, a1=100, a2=0\n",
      ">1, d1=0.096, d2=0.841 g=0.622, a1=100, a2=0\n",
      ">2, d1=0.038, d2=0.890 g=0.594, a1=100, a2=0\n",
      ">3, d1=0.018, d2=0.915 g=0.564, a1=100, a2=0\n",
      ">4, d1=0.013, d2=0.853 g=0.515, a1=100, a2=0\n",
      ">5, d1=0.006, d2=0.837 g=0.579, a1=100, a2=0\n",
      ">6, d1=0.003, d2=0.876 g=0.540, a1=100, a2=0\n",
      ">7, d1=0.012, d2=0.868 g=0.577, a1=100, a2=0\n",
      ">8, d1=0.006, d2=0.868 g=0.571, a1=100, a2=0\n",
      ">9, d1=0.005, d2=0.879 g=0.610, a1=100, a2=0\n",
      ">10, d1=0.005, d2=0.842 g=0.658, a1=100, a2=0\n",
      ">11, d1=0.006, d2=0.722 g=0.687, a1=100, a2=0\n",
      ">12, d1=0.007, d2=0.777 g=0.758, a1=100, a2=0\n",
      ">13, d1=0.003, d2=0.607 g=0.836, a1=100, a2=100\n",
      ">14, d1=0.003, d2=0.578 g=0.850, a1=100, a2=100\n",
      ">15, d1=0.003, d2=0.532 g=0.952, a1=100, a2=100\n",
      ">16, d1=0.020, d2=0.482 g=0.965, a1=100, a2=100\n",
      ">17, d1=0.006, d2=0.459 g=1.054, a1=100, a2=100\n",
      ">18, d1=0.003, d2=0.411 g=1.121, a1=100, a2=100\n",
      ">19, d1=0.003, d2=0.380 g=1.147, a1=100, a2=100\n",
      ">20, d1=0.003, d2=0.424 g=1.160, a1=100, a2=100\n",
      ">21, d1=0.002, d2=0.359 g=1.228, a1=100, a2=100\n",
      ">22, d1=0.003, d2=0.393 g=1.253, a1=100, a2=100\n",
      ">23, d1=0.004, d2=0.286 g=1.290, a1=100, a2=100\n",
      ">24, d1=0.003, d2=0.308 g=1.330, a1=100, a2=100\n",
      ">25, d1=0.008, d2=0.315 g=1.445, a1=100, a2=100\n",
      ">26, d1=0.005, d2=0.341 g=1.390, a1=100, a2=100\n",
      ">27, d1=0.005, d2=0.319 g=1.483, a1=100, a2=100\n",
      ">28, d1=0.005, d2=0.258 g=1.504, a1=100, a2=100\n",
      ">29, d1=0.004, d2=0.294 g=1.475, a1=100, a2=100\n",
      ">30, d1=0.005, d2=0.232 g=1.521, a1=100, a2=100\n",
      ">31, d1=0.006, d2=0.315 g=1.505, a1=100, a2=100\n",
      ">32, d1=0.010, d2=0.229 g=1.492, a1=100, a2=100\n",
      ">33, d1=0.007, d2=0.291 g=1.554, a1=100, a2=100\n",
      ">34, d1=0.006, d2=0.333 g=1.515, a1=100, a2=100\n",
      ">35, d1=0.018, d2=0.310 g=1.758, a1=100, a2=100\n",
      ">36, d1=0.014, d2=0.291 g=1.414, a1=100, a2=100\n",
      ">37, d1=0.013, d2=0.151 g=1.490, a1=100, a2=100\n",
      ">38, d1=0.009, d2=0.159 g=1.615, a1=100, a2=100\n",
      ">39, d1=0.137, d2=0.270 g=1.876, a1=100, a2=100\n",
      ">40, d1=0.017, d2=0.256 g=1.625, a1=100, a2=100\n",
      ">41, d1=0.022, d2=0.118 g=1.485, a1=100, a2=100\n",
      ">42, d1=0.005, d2=0.368 g=1.464, a1=100, a2=100\n",
      ">43, d1=0.135, d2=0.529 g=1.099, a1=100, a2=100\n",
      ">44, d1=0.003, d2=0.452 g=0.978, a1=100, a2=100\n",
      ">45, d1=0.008, d2=0.492 g=1.227, a1=100, a2=100\n",
      ">46, d1=0.006, d2=0.383 g=1.376, a1=100, a2=100\n",
      ">47, d1=0.012, d2=0.223 g=1.714, a1=100, a2=100\n",
      ">48, d1=0.042, d2=0.291 g=2.024, a1=100, a2=100\n",
      ">49, d1=1.265, d2=0.352 g=1.479, a1=0, a2=100\n",
      ">50, d1=0.149, d2=0.395 g=1.157, a1=100, a2=100\n",
      ">51, d1=0.002, d2=0.783 g=1.037, a1=100, a2=0\n",
      ">52, d1=0.000, d2=0.809 g=0.565, a1=100, a2=0\n",
      ">53, d1=0.000, d2=1.011 g=0.580, a1=100, a2=0\n",
      ">54, d1=0.000, d2=0.629 g=1.103, a1=100, a2=100\n",
      ">55, d1=0.000, d2=0.566 g=1.347, a1=100, a2=100\n",
      ">56, d1=0.000, d2=0.311 g=1.679, a1=100, a2=100\n",
      ">57, d1=0.001, d2=0.230 g=2.226, a1=100, a2=100\n",
      ">58, d1=0.007, d2=0.098 g=2.792, a1=100, a2=100\n",
      ">59, d1=1.352, d2=0.107 g=2.571, a1=0, a2=100\n",
      ">60, d1=0.003, d2=0.280 g=1.549, a1=100, a2=100\n",
      ">61, d1=0.095, d2=0.436 g=1.436, a1=100, a2=100\n",
      ">62, d1=0.000, d2=0.696 g=0.952, a1=100, a2=0\n",
      ">63, d1=0.001, d2=0.542 g=1.497, a1=100, a2=100\n",
      ">64, d1=0.003, d2=0.411 g=1.585, a1=100, a2=100\n",
      ">65, d1=0.002, d2=0.327 g=1.858, a1=100, a2=100\n",
      ">66, d1=0.012, d2=0.176 g=2.218, a1=100, a2=100\n",
      ">67, d1=2.956, d2=0.152 g=1.616, a1=0, a2=100\n",
      ">68, d1=0.262, d2=0.290 g=0.886, a1=100, a2=100\n",
      ">69, d1=0.004, d2=0.867 g=0.605, a1=100, a2=0\n",
      ">70, d1=0.124, d2=1.002 g=0.547, a1=100, a2=0\n",
      ">71, d1=0.010, d2=1.142 g=0.793, a1=100, a2=0\n",
      ">72, d1=0.003, d2=0.702 g=1.178, a1=100, a2=0\n",
      ">73, d1=0.043, d2=0.400 g=1.587, a1=100, a2=100\n",
      ">74, d1=0.155, d2=0.192 g=2.281, a1=100, a2=100\n",
      ">75, d1=1.844, d2=0.292 g=1.335, a1=0, a2=100\n",
      ">76, d1=0.040, d2=0.555 g=0.961, a1=100, a2=100\n",
      ">77, d1=0.054, d2=0.764 g=0.837, a1=100, a2=0\n",
      ">78, d1=0.461, d2=0.784 g=0.655, a1=100, a2=0\n",
      ">79, d1=0.022, d2=0.729 g=0.847, a1=100, a2=0\n",
      ">80, d1=0.003, d2=0.687 g=1.061, a1=100, a2=100\n",
      ">81, d1=0.024, d2=0.485 g=1.554, a1=100, a2=100\n",
      ">82, d1=0.111, d2=0.254 g=1.989, a1=100, a2=100\n",
      ">83, d1=1.477, d2=0.343 g=1.387, a1=0, a2=100\n",
      ">84, d1=0.161, d2=0.635 g=0.698, a1=100, a2=100\n",
      ">85, d1=0.007, d2=0.985 g=0.658, a1=100, a2=0\n",
      ">86, d1=0.007, d2=0.946 g=0.700, a1=100, a2=0\n",
      ">87, d1=0.012, d2=0.714 g=1.079, a1=100, a2=0\n",
      ">88, d1=0.333, d2=0.455 g=1.400, a1=100, a2=100\n",
      ">89, d1=0.344, d2=0.448 g=1.326, a1=100, a2=100\n",
      ">90, d1=0.236, d2=0.376 g=1.347, a1=100, a2=100\n",
      ">91, d1=0.079, d2=0.436 g=1.393, a1=100, a2=100\n",
      ">92, d1=0.150, d2=0.413 g=1.345, a1=100, a2=100\n",
      ">93, d1=0.491, d2=0.409 g=1.088, a1=100, a2=100\n",
      ">94, d1=0.032, d2=0.774 g=1.045, a1=100, a2=0\n",
      ">95, d1=5.026, d2=0.882 g=0.632, a1=0, a2=0\n",
      ">96, d1=0.009, d2=0.609 g=0.690, a1=100, a2=100\n",
      ">97, d1=0.019, d2=0.579 g=1.186, a1=100, a2=100\n",
      ">98, d1=0.018, d2=0.307 g=1.771, a1=100, a2=100\n",
      ">99, d1=0.088, d2=0.139 g=2.472, a1=100, a2=100\n",
      ">100, d1=0.571, d2=0.157 g=2.198, a1=100, a2=100\n",
      ">101, d1=0.028, d2=0.177 g=2.040, a1=100, a2=100\n",
      ">102, d1=0.062, d2=0.170 g=1.608, a1=100, a2=100\n",
      ">103, d1=0.036, d2=0.310 g=1.641, a1=100, a2=100\n",
      ">104, d1=0.035, d2=0.252 g=1.805, a1=100, a2=100\n",
      ">105, d1=0.039, d2=0.303 g=2.026, a1=100, a2=100\n",
      ">106, d1=0.022, d2=0.178 g=2.202, a1=100, a2=100\n",
      ">107, d1=0.047, d2=0.144 g=2.438, a1=100, a2=100\n",
      ">108, d1=0.344, d2=0.139 g=2.110, a1=100, a2=100\n",
      ">109, d1=0.204, d2=0.303 g=1.536, a1=100, a2=100\n",
      ">110, d1=0.043, d2=0.438 g=1.391, a1=100, a2=100\n",
      ">111, d1=7.353, d2=0.647 g=0.990, a1=0, a2=100\n",
      ">112, d1=0.178, d2=0.724 g=1.094, a1=100, a2=0\n",
      ">113, d1=0.070, d2=0.383 g=1.401, a1=100, a2=100\n",
      ">114, d1=0.178, d2=0.324 g=1.640, a1=100, a2=100\n",
      ">115, d1=6.200, d2=0.378 g=1.251, a1=0, a2=100\n",
      ">116, d1=0.157, d2=0.504 g=1.055, a1=100, a2=100\n",
      ">117, d1=0.077, d2=0.568 g=1.102, a1=100, a2=100\n",
      ">118, d1=2.301, d2=0.805 g=0.522, a1=0, a2=0\n",
      ">119, d1=7.603, d2=1.967 g=0.145, a1=0, a2=0\n",
      ">120, d1=0.001, d2=2.548 g=0.126, a1=100, a2=0\n",
      ">121, d1=0.002, d2=2.149 g=0.243, a1=100, a2=0\n",
      ">122, d1=0.093, d2=1.302 g=0.569, a1=100, a2=0\n",
      ">123, d1=0.019, d2=0.587 g=1.263, a1=100, a2=100\n",
      ">124, d1=0.054, d2=0.230 g=2.111, a1=100, a2=100\n",
      ">125, d1=0.066, d2=0.096 g=2.961, a1=100, a2=100\n",
      ">126, d1=0.236, d2=0.050 g=3.468, a1=100, a2=100\n",
      ">127, d1=0.963, d2=0.046 g=3.088, a1=0, a2=100\n",
      ">128, d1=1.020, d2=0.081 g=2.426, a1=0, a2=100\n",
      ">129, d1=0.102, d2=0.160 g=1.806, a1=100, a2=100\n",
      ">130, d1=0.046, d2=0.267 g=1.364, a1=100, a2=100\n",
      ">131, d1=0.313, d2=0.452 g=1.050, a1=100, a2=100\n",
      ">132, d1=0.051, d2=0.530 g=0.947, a1=100, a2=100\n",
      ">133, d1=0.828, d2=0.692 g=0.884, a1=0, a2=100\n",
      ">134, d1=0.048, d2=0.658 g=0.937, a1=100, a2=100\n",
      ">135, d1=0.070, d2=0.542 g=1.132, a1=100, a2=100\n",
      ">136, d1=0.487, d2=0.412 g=1.269, a1=100, a2=100\n",
      ">137, d1=0.427, d2=0.424 g=1.201, a1=100, a2=100\n",
      ">138, d1=0.041, d2=0.375 g=1.301, a1=100, a2=100\n",
      ">139, d1=0.157, d2=0.364 g=1.418, a1=100, a2=100\n",
      ">140, d1=0.168, d2=0.325 g=1.544, a1=100, a2=100\n",
      ">141, d1=5.638, d2=0.453 g=0.921, a1=0, a2=100\n",
      ">142, d1=0.045, d2=0.749 g=0.722, a1=100, a2=0\n",
      ">143, d1=0.015, d2=0.764 g=0.847, a1=100, a2=0\n",
      ">144, d1=0.020, d2=0.565 g=1.180, a1=100, a2=100\n",
      ">145, d1=0.057, d2=0.360 g=1.522, a1=100, a2=100\n",
      ">146, d1=3.150, d2=0.262 g=1.756, a1=0, a2=100\n",
      ">147, d1=3.275, d2=0.287 g=1.430, a1=0, a2=100\n",
      ">148, d1=0.860, d2=0.412 g=1.097, a1=0, a2=100\n",
      ">149, d1=1.190, d2=0.662 g=0.719, a1=0, a2=100\n",
      ">150, d1=0.657, d2=0.930 g=0.531, a1=100, a2=0\n",
      ">151, d1=0.368, d2=1.084 g=0.511, a1=100, a2=0\n",
      ">152, d1=0.026, d2=0.936 g=0.674, a1=100, a2=0\n",
      ">153, d1=0.038, d2=0.680 g=1.021, a1=100, a2=100\n",
      ">154, d1=0.078, d2=0.384 g=1.534, a1=100, a2=100\n",
      ">155, d1=1.083, d2=0.247 g=1.729, a1=0, a2=100\n",
      ">156, d1=0.922, d2=0.229 g=1.702, a1=0, a2=100\n",
      ">157, d1=1.208, d2=0.270 g=1.459, a1=0, a2=100\n",
      ">158, d1=0.188, d2=0.387 g=1.193, a1=100, a2=100\n",
      ">159, d1=0.129, d2=0.482 g=1.082, a1=100, a2=100\n"
     ]
    },
    {
     "data": {
      "image/png": "[encoded data removed]",
      "text/plain": [
       "<Figure size 432x288 with 2 Axes>"
      ]
     },
     "metadata": {
      "needs_background": "light"
     },
     "output_type": "display_data"
    }
   ],
   "source": [
    "generator_trained = model.train_batch(\n",
    "                                disc, gene, \n",
    "                                np.array(nodes_train), np.array(edges_train), \n",
    "                                noise_input_shape = 100, EPOCH = 160, BATCHSIZE = 2, \n",
    "                                plot_hist = True, temp_result = False\n",
    "    )"
   ]
  },
  {
   "cell_type": "markdown",
   "metadata": {},
   "source": [
    "There are two possible kind of failures regarding a GAN model: model collapse and failure of convergence. Model collapse would often mean that the generative part of the model wouldn't be able to generate diverse outcomes. Failure of convergence between the generative and the discriminative model could likely way be identified as that the loss for the discriminator has gone to zero or close to zero. \n",
    "\n",
    "Observe the above generated plot, in the upper plot, the loss of discriminator has not gone to zero/close to zero, indicating that the model has possibily find a balance between the generator and the discriminator. In the lower plot, the accuracy is fluctuating between 1 and 0, indicating possible variability within the data generated. \n",
    "\n",
    "Therefore, it is reasonable to conclude that within the possible range of epoch and other parameters, the model has successfully avoided the two common types of failures associated with GAN."
   ]
  },
  {
   "cell_type": "markdown",
   "metadata": {},
   "source": [
    "## Rewarding Phase"
   ]
  },
  {
   "cell_type": "markdown",
   "metadata": {},
   "source": [
    "The above `train_on_batch` function is set to return a trained generator. Thus, we could use that function directly and observe the possible molecules we could get from that function."
   ]
  },
  {
   "cell_type": "code",
   "execution_count": 22,
   "metadata": {
    "id": "LMDuGLKvhT7Z"
   },
   "outputs": [],
   "source": [
    "no, ed = generator_trained(np.random.randint(0,30, size =(1,100)))#generated nodes and edges"
   ]
  },
  {
   "cell_type": "code",
   "execution_count": 23,
   "metadata": {},
   "outputs": [
    {
     "data": {
      "text/plain": [
       "(array([3, 7, 5, 5, 6, 7]),\n",
       " array([[1, 2, 0, 0, 0, 1],\n",
       "        [1, 0, 2, 1, 1, 0],\n",
       "        [0, 3, 0, 2, 0, 0],\n",
       "        [0, 0, 4, 1, 2, 0],\n",
       "        [0, 0, 1, 3, 0, 3],\n",
       "        [1, 0, 0, 0, 3, 1]]))"
      ]
     },
     "execution_count": 23,
     "metadata": {},
     "output_type": "execute_result"
    }
   ],
   "source": [
    "abs(no.numpy()).astype(int).reshape(num_atoms), abs(ed.numpy()).astype(int).reshape(num_atoms,num_atoms)"
   ]
  },
  {
   "cell_type": "markdown",
   "metadata": {},
   "source": [
    "With the `de_featurizer`, we could convert the generated matrix into a smiles molecule and plot it out=)"
   ]
  },
  {
   "cell_type": "code",
   "execution_count": null,
   "metadata": {
    "id": "OY3wWyxfpPpS"
   },
   "outputs": [],
   "source": [
    "cat, dog = model.de_featurizer(abs(no.numpy()).astype(int).reshape(num_atoms), abs(ed.numpy()).astype(int).reshape(num_atoms,num_atoms))"
   ]
  },
  {
   "cell_type": "code",
   "execution_count": 26,
   "metadata": {
    "colab": {
     "base_uri": "https://localhost:8080/"
    },
    "id": "ZKHO7sckDHCk",
    "outputId": "22656d64-ddd0-4bb4-afe2-6c2bb6219fd1"
   },
   "outputs": [
    {
     "data": {
      "text/plain": [
       "'[Li]NBBC=N'"
      ]
     },
     "execution_count": 26,
     "metadata": {},
     "output_type": "execute_result"
    }
   ],
   "source": [
    "Chem.MolToSmiles(cat)"
   ]
  },
  {
   "cell_type": "code",
   "execution_count": 29,
   "metadata": {
    "id": "QWQEebMyAA15",
    "scrolled": true
   },
   "outputs": [
    {
     "data": {
      "image/png": "[encoded data removed]",
      "text/plain": [
       "<rdkit.Chem.rdchem.Mol at 0x7f81f0fb2a80>"
      ]
     },
     "execution_count": 29,
     "metadata": {},
     "output_type": "execute_result"
    }
   ],
   "source": [
    "Chem.MolFromSmiles(\"[Li]NBBC=N\")"
   ]
  },
  {
   "cell_type": "markdown",
   "metadata": {},
   "source": [
    "## Brief Result Analysis"
   ]
  },
  {
   "cell_type": "code",
   "execution_count": 30,
   "metadata": {},
   "outputs": [],
   "source": [
    "from rdkit import DataStructs"
   ]
  },
  {
   "cell_type": "markdown",
   "metadata": {},
   "source": [
    "With the rdkit function of comparing similarities, here we'll demonstrate a preliminary analysis of the molecule we've generated. With \"CCO\" molecule as a control, we could observe that the new molecule we've generated is more similar to a random selected molecule(the fourth molecule) from the initial training set.\n",
    "\n",
    "This may indicate that our model has indeed extracted some features from our original dataset and generated a new molecule that is relevant."
   ]
  },
  {
   "cell_type": "code",
   "execution_count": 40,
   "metadata": {},
   "outputs": [
    {
     "data": {
      "text/plain": [
       "0.0"
      ]
     },
     "execution_count": 40,
     "metadata": {},
     "output_type": "execute_result"
    }
   ],
   "source": [
    "DataStructs.FingerprintSimilarity(Chem.RDKFingerprint(Chem.MolFromSmiles(\"[Li]NBBC=N\")), Chem.RDKFingerprint(Chem.MolFromSmiles(\"CCO\")))# compare with the control"
   ]
  },
  {
   "cell_type": "code",
   "execution_count": 38,
   "metadata": {},
   "outputs": [
    {
     "data": {
      "text/plain": [
       "0.017079419299743808"
      ]
     },
     "execution_count": 38,
     "metadata": {},
     "output_type": "execute_result"
    }
   ],
   "source": [
    "#compare with one from the original data\n",
    "DataStructs.FingerprintSimilarity(Chem.RDKFingerprint(Chem.MolFromSmiles(\"[Li]NBBC=N\")), Chem.RDKFingerprint(Chem.MolFromSmiles(\"CCN1C2=NC(=O)N(C(=O)C2=NC(=N1)C3=CC=CC=C3)C\")))"
   ]
  },
  {
   "cell_type": "code",
   "execution_count": null,
   "metadata": {},
   "outputs": [],
   "source": []
  }
 ],
 "metadata": {
  "colab": {
   "collapsed_sections": [],
   "name": "model v1.ipynb",
   "provenance": [],
   "toc_visible": true
  },
  "kernelspec": {
   "display_name": "Python 3",
   "language": "python",
   "name": "python3"
  },
  "language_info": {
   "codemirror_mode": {
    "name": "ipython",
    "version": 3
   },
   "file_extension": ".py",
   "mimetype": "text/x-python",
   "name": "python",
   "nbconvert_exporter": "python",
   "pygments_lexer": "ipython3",
   "version": "3.7.10"
  }
 },
 "nbformat": 4,
 "nbformat_minor": 4
}
