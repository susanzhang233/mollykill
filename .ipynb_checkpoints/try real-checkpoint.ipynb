{
 "cells": [
  {
   "cell_type": "code",
   "execution_count": 1,
   "id": "fancy-emerald",
   "metadata": {},
   "outputs": [],
   "source": [
    "import numpy as np\n",
    "import pandas as pd\n",
    "from matplotlib import pyplot as plt\n",
    "from rdkit import Chem\n",
    "from rdkit import rdBase\n",
    "from rdkit import DataStructs\n",
    "\n",
    "\n",
    "from rdkit.Chem import AllChem\n",
    "from rdkit.Chem import RDConfig\n",
    "from rdkit import rdBase\n",
    "from rdkit.Chem.Draw import IPythonConsole"
   ]
  },
  {
   "cell_type": "code",
   "execution_count": 2,
   "id": "noticed-bride",
   "metadata": {},
   "outputs": [],
   "source": [
    "import tensorflow as tf"
   ]
  },
  {
   "cell_type": "code",
   "execution_count": 31,
   "id": "agreed-killer",
   "metadata": {},
   "outputs": [],
   "source": [
    "from sklearn import preprocessing\n",
    "from sklearn.model_selection import train_test_split\n",
    "from sklearn.utils import resample"
   ]
  },
  {
   "cell_type": "code",
   "execution_count": null,
   "id": "forced-arbor",
   "metadata": {},
   "outputs": [],
   "source": [
    "#export DGLBACKEND=[tensorflow]"
   ]
  },
  {
   "cell_type": "code",
   "execution_count": null,
   "id": "related-sunglasses",
   "metadata": {},
   "outputs": [],
   "source": [
    "#import dgllife"
   ]
  },
  {
   "cell_type": "code",
   "execution_count": null,
   "id": "indoor-joining",
   "metadata": {},
   "outputs": [],
   "source": [
    "#from dgllife.utils import mol_to_complete_graph\n",
    "#from dgllife.utils import smiles_to_bigraph, CanonicalAtomFeaturizer, CanonicalBondFeaturizer"
   ]
  },
  {
   "cell_type": "markdown",
   "id": "opposite-doctor",
   "metadata": {},
   "source": [
    "## preprocess(select batches)"
   ]
  },
  {
   "cell_type": "code",
   "execution_count": 26,
   "id": "several-shannon",
   "metadata": {},
   "outputs": [],
   "source": [
    "ihbt = pd.read_csv('AID1706_binarized_sars.csv')\n",
    "ihbt = ihbt[['smiles','activity'] ]"
   ]
  },
  {
   "cell_type": "code",
   "execution_count": 48,
   "id": "failing-breakdown",
   "metadata": {
    "scrolled": false
   },
   "outputs": [
    {
     "data": {
      "text/html": [
       "<div>\n",
       "<style scoped>\n",
       "    .dataframe tbody tr th:only-of-type {\n",
       "        vertical-align: middle;\n",
       "    }\n",
       "\n",
       "    .dataframe tbody tr th {\n",
       "        vertical-align: top;\n",
       "    }\n",
       "\n",
       "    .dataframe thead th {\n",
       "        text-align: right;\n",
       "    }\n",
       "</style>\n",
       "<table border=\"1\" class=\"dataframe\">\n",
       "  <thead>\n",
       "    <tr style=\"text-align: right;\">\n",
       "      <th></th>\n",
       "      <th>smiles</th>\n",
       "      <th>activity</th>\n",
       "    </tr>\n",
       "  </thead>\n",
       "  <tbody>\n",
       "    <tr>\n",
       "      <th>0</th>\n",
       "      <td>CC1=CC=C(O1)C(C(=O)NCC2=CC=CO2)N(C3=CC=C(C=C3)...</td>\n",
       "      <td>1</td>\n",
       "    </tr>\n",
       "    <tr>\n",
       "      <th>1</th>\n",
       "      <td>CC1=CC=C(C=C1)S(=O)(=O)N2CCN(CC2)S(=O)(=O)C3=C...</td>\n",
       "      <td>1</td>\n",
       "    </tr>\n",
       "    <tr>\n",
       "      <th>2</th>\n",
       "      <td>CC1=CC2=C(C=C1)NC(=O)C(=C2)CN(CCC3=CC=CC=C3)CC...</td>\n",
       "      <td>1</td>\n",
       "    </tr>\n",
       "    <tr>\n",
       "      <th>3</th>\n",
       "      <td>CC1=CC=C(C=C1)CN(C(C2=CC=CS2)C(=O)NCC3=CC=CO3)...</td>\n",
       "      <td>1</td>\n",
       "    </tr>\n",
       "    <tr>\n",
       "      <th>4</th>\n",
       "      <td>CCN1C2=NC(=O)N(C(=O)C2=NC(=N1)C3=CC=CC=C3)C</td>\n",
       "      <td>1</td>\n",
       "    </tr>\n",
       "    <tr>\n",
       "      <th>...</th>\n",
       "      <td>...</td>\n",
       "      <td>...</td>\n",
       "    </tr>\n",
       "    <tr>\n",
       "      <th>290721</th>\n",
       "      <td>COCCN1C2=C(C=C(C=C2)C(=O)OC)SC1=NC(=O)CCS(=O)(...</td>\n",
       "      <td>0</td>\n",
       "    </tr>\n",
       "    <tr>\n",
       "      <th>290722</th>\n",
       "      <td>COC1=CC=C(C=C1)C2CC(=NN2C(=O)CSC3=NCCS3)C4=CC=CS4</td>\n",
       "      <td>0</td>\n",
       "    </tr>\n",
       "    <tr>\n",
       "      <th>290723</th>\n",
       "      <td>CC1CC(=O)N(C2=CC=CC=C2S1(=O)=O)CC(=O)NC3=CC=CC...</td>\n",
       "      <td>0</td>\n",
       "    </tr>\n",
       "    <tr>\n",
       "      <th>290724</th>\n",
       "      <td>COC1=C2C(=C(C=C1)OC)SC(=N2)NC(=O)C3=CC(=CC=C3)...</td>\n",
       "      <td>0</td>\n",
       "    </tr>\n",
       "    <tr>\n",
       "      <th>290725</th>\n",
       "      <td>C1=CC(=CC(=C1)F)NC(=O)CSC2=NN=C(S2)NC(=O)C3=CC...</td>\n",
       "      <td>0</td>\n",
       "    </tr>\n",
       "  </tbody>\n",
       "</table>\n",
       "<p>290726 rows × 2 columns</p>\n",
       "</div>"
      ],
      "text/plain": [
       "                                                   smiles  activity\n",
       "0       CC1=CC=C(O1)C(C(=O)NCC2=CC=CO2)N(C3=CC=C(C=C3)...         1\n",
       "1       CC1=CC=C(C=C1)S(=O)(=O)N2CCN(CC2)S(=O)(=O)C3=C...         1\n",
       "2       CC1=CC2=C(C=C1)NC(=O)C(=C2)CN(CCC3=CC=CC=C3)CC...         1\n",
       "3       CC1=CC=C(C=C1)CN(C(C2=CC=CS2)C(=O)NCC3=CC=CO3)...         1\n",
       "4             CCN1C2=NC(=O)N(C(=O)C2=NC(=N1)C3=CC=CC=C3)C         1\n",
       "...                                                   ...       ...\n",
       "290721  COCCN1C2=C(C=C(C=C2)C(=O)OC)SC1=NC(=O)CCS(=O)(...         0\n",
       "290722  COC1=CC=C(C=C1)C2CC(=NN2C(=O)CSC3=NCCS3)C4=CC=CS4         0\n",
       "290723  CC1CC(=O)N(C2=CC=CC=C2S1(=O)=O)CC(=O)NC3=CC=CC...         0\n",
       "290724  COC1=C2C(=C(C=C1)OC)SC(=N2)NC(=O)C3=CC(=CC=C3)...         0\n",
       "290725  C1=CC(=CC(=C1)F)NC(=O)CSC2=NN=C(S2)NC(=O)C3=CC...         0\n",
       "\n",
       "[290726 rows x 2 columns]"
      ]
     },
     "execution_count": 48,
     "metadata": {},
     "output_type": "execute_result"
    }
   ],
   "source": [
    "ihbt"
   ]
  },
  {
   "cell_type": "code",
   "execution_count": 49,
   "id": "primary-subscriber",
   "metadata": {},
   "outputs": [
    {
     "data": {
      "text/html": [
       "<div>\n",
       "<style scoped>\n",
       "    .dataframe tbody tr th:only-of-type {\n",
       "        vertical-align: middle;\n",
       "    }\n",
       "\n",
       "    .dataframe tbody tr th {\n",
       "        vertical-align: top;\n",
       "    }\n",
       "\n",
       "    .dataframe thead th {\n",
       "        text-align: right;\n",
       "    }\n",
       "</style>\n",
       "<table border=\"1\" class=\"dataframe\">\n",
       "  <thead>\n",
       "    <tr style=\"text-align: right;\">\n",
       "      <th></th>\n",
       "      <th>smiles</th>\n",
       "    </tr>\n",
       "    <tr>\n",
       "      <th>activity</th>\n",
       "      <th></th>\n",
       "    </tr>\n",
       "  </thead>\n",
       "  <tbody>\n",
       "    <tr>\n",
       "      <th>0</th>\n",
       "      <td>290321</td>\n",
       "    </tr>\n",
       "    <tr>\n",
       "      <th>1</th>\n",
       "      <td>405</td>\n",
       "    </tr>\n",
       "  </tbody>\n",
       "</table>\n",
       "</div>"
      ],
      "text/plain": [
       "          smiles\n",
       "activity        \n",
       "0         290321\n",
       "1            405"
      ]
     },
     "execution_count": 49,
     "metadata": {},
     "output_type": "execute_result"
    }
   ],
   "source": [
    "ihbt.groupby('activity').count()"
   ]
  },
  {
   "cell_type": "code",
   "execution_count": 51,
   "id": "exotic-niger",
   "metadata": {},
   "outputs": [],
   "source": [
    "ihbt_true = ihbt[ihbt['activity']==1]\n",
    "ihbt_false = ihbt[ihbt['activity']==0]"
   ]
  },
  {
   "cell_type": "code",
   "execution_count": 52,
   "id": "skilled-medicare",
   "metadata": {},
   "outputs": [
    {
     "data": {
      "text/html": [
       "<div>\n",
       "<style scoped>\n",
       "    .dataframe tbody tr th:only-of-type {\n",
       "        vertical-align: middle;\n",
       "    }\n",
       "\n",
       "    .dataframe tbody tr th {\n",
       "        vertical-align: top;\n",
       "    }\n",
       "\n",
       "    .dataframe thead th {\n",
       "        text-align: right;\n",
       "    }\n",
       "</style>\n",
       "<table border=\"1\" class=\"dataframe\">\n",
       "  <thead>\n",
       "    <tr style=\"text-align: right;\">\n",
       "      <th></th>\n",
       "      <th>smiles</th>\n",
       "      <th>activity</th>\n",
       "    </tr>\n",
       "  </thead>\n",
       "  <tbody>\n",
       "    <tr>\n",
       "      <th>405</th>\n",
       "      <td>CCOCCCNCC(=O)NC1=CC=C(C=C1)OC(F)(F)F.Cl</td>\n",
       "      <td>0</td>\n",
       "    </tr>\n",
       "    <tr>\n",
       "      <th>406</th>\n",
       "      <td>COCCN1C(=NN=N1)CN2CCC(CC2)CC3=CC=CC=C3.Cl</td>\n",
       "      <td>0</td>\n",
       "    </tr>\n",
       "    <tr>\n",
       "      <th>407</th>\n",
       "      <td>COCCN1C(=NN=N1)CN2CCC(CC2)(C3=CC(=CC=C3)C(F)(F...</td>\n",
       "      <td>0</td>\n",
       "    </tr>\n",
       "    <tr>\n",
       "      <th>408</th>\n",
       "      <td>C1CCCN(CC1)CC(=O)NCCC2=CC=C(C=C2)F.C(=O)(C(=O)O)O</td>\n",
       "      <td>0</td>\n",
       "    </tr>\n",
       "    <tr>\n",
       "      <th>409</th>\n",
       "      <td>COC1=CC=C(C=C1)C(=O)C(C2=CC=CC=C2)N3CCOCC3.Cl</td>\n",
       "      <td>0</td>\n",
       "    </tr>\n",
       "    <tr>\n",
       "      <th>...</th>\n",
       "      <td>...</td>\n",
       "      <td>...</td>\n",
       "    </tr>\n",
       "    <tr>\n",
       "      <th>290721</th>\n",
       "      <td>COCCN1C2=C(C=C(C=C2)C(=O)OC)SC1=NC(=O)CCS(=O)(...</td>\n",
       "      <td>0</td>\n",
       "    </tr>\n",
       "    <tr>\n",
       "      <th>290722</th>\n",
       "      <td>COC1=CC=C(C=C1)C2CC(=NN2C(=O)CSC3=NCCS3)C4=CC=CS4</td>\n",
       "      <td>0</td>\n",
       "    </tr>\n",
       "    <tr>\n",
       "      <th>290723</th>\n",
       "      <td>CC1CC(=O)N(C2=CC=CC=C2S1(=O)=O)CC(=O)NC3=CC=CC...</td>\n",
       "      <td>0</td>\n",
       "    </tr>\n",
       "    <tr>\n",
       "      <th>290724</th>\n",
       "      <td>COC1=C2C(=C(C=C1)OC)SC(=N2)NC(=O)C3=CC(=CC=C3)...</td>\n",
       "      <td>0</td>\n",
       "    </tr>\n",
       "    <tr>\n",
       "      <th>290725</th>\n",
       "      <td>C1=CC(=CC(=C1)F)NC(=O)CSC2=NN=C(S2)NC(=O)C3=CC...</td>\n",
       "      <td>0</td>\n",
       "    </tr>\n",
       "  </tbody>\n",
       "</table>\n",
       "<p>290321 rows × 2 columns</p>\n",
       "</div>"
      ],
      "text/plain": [
       "                                                   smiles  activity\n",
       "405               CCOCCCNCC(=O)NC1=CC=C(C=C1)OC(F)(F)F.Cl         0\n",
       "406             COCCN1C(=NN=N1)CN2CCC(CC2)CC3=CC=CC=C3.Cl         0\n",
       "407     COCCN1C(=NN=N1)CN2CCC(CC2)(C3=CC(=CC=C3)C(F)(F...         0\n",
       "408     C1CCCN(CC1)CC(=O)NCCC2=CC=C(C=C2)F.C(=O)(C(=O)O)O         0\n",
       "409         COC1=CC=C(C=C1)C(=O)C(C2=CC=CC=C2)N3CCOCC3.Cl         0\n",
       "...                                                   ...       ...\n",
       "290721  COCCN1C2=C(C=C(C=C2)C(=O)OC)SC1=NC(=O)CCS(=O)(...         0\n",
       "290722  COC1=CC=C(C=C1)C2CC(=NN2C(=O)CSC3=NCCS3)C4=CC=CS4         0\n",
       "290723  CC1CC(=O)N(C2=CC=CC=C2S1(=O)=O)CC(=O)NC3=CC=CC...         0\n",
       "290724  COC1=C2C(=C(C=C1)OC)SC(=N2)NC(=O)C3=CC(=CC=C3)...         0\n",
       "290725  C1=CC(=CC(=C1)F)NC(=O)CSC2=NN=C(S2)NC(=O)C3=CC...         0\n",
       "\n",
       "[290321 rows x 2 columns]"
      ]
     },
     "execution_count": 52,
     "metadata": {},
     "output_type": "execute_result"
    }
   ],
   "source": [
    "ihbt_false"
   ]
  },
  {
   "cell_type": "code",
   "execution_count": 56,
   "id": "false-personality",
   "metadata": {},
   "outputs": [],
   "source": [
    "ihbt_false_short = resample(ihbt_false, n_samples=800, replace = False)\n",
    "#ihbt_ = ihbt_false_short + ihbt_true"
   ]
  },
  {
   "cell_type": "code",
   "execution_count": 64,
   "id": "common-latino",
   "metadata": {},
   "outputs": [],
   "source": [
    "ihbt_ = pd.concat([ihbt_false_short , ihbt_true], ignore_index =  True)#.reset_index()"
   ]
  },
  {
   "cell_type": "code",
   "execution_count": 66,
   "id": "otherwise-blackjack",
   "metadata": {
    "scrolled": false
   },
   "outputs": [
    {
     "data": {
      "text/html": [
       "<div>\n",
       "<style scoped>\n",
       "    .dataframe tbody tr th:only-of-type {\n",
       "        vertical-align: middle;\n",
       "    }\n",
       "\n",
       "    .dataframe tbody tr th {\n",
       "        vertical-align: top;\n",
       "    }\n",
       "\n",
       "    .dataframe thead th {\n",
       "        text-align: right;\n",
       "    }\n",
       "</style>\n",
       "<table border=\"1\" class=\"dataframe\">\n",
       "  <thead>\n",
       "    <tr style=\"text-align: right;\">\n",
       "      <th></th>\n",
       "      <th>smiles</th>\n",
       "      <th>activity</th>\n",
       "    </tr>\n",
       "  </thead>\n",
       "  <tbody>\n",
       "    <tr>\n",
       "      <th>0</th>\n",
       "      <td>C1COCCN1C(=O)CSC2=NNC(=N2)C3=CC=CC=C3</td>\n",
       "      <td>0</td>\n",
       "    </tr>\n",
       "    <tr>\n",
       "      <th>1</th>\n",
       "      <td>C1=CC=C(C=C1)C2=CSC(=N2)SCC(=O)NC3=CC=CC=C3[N+...</td>\n",
       "      <td>0</td>\n",
       "    </tr>\n",
       "    <tr>\n",
       "      <th>2</th>\n",
       "      <td>CC1=CC2=C(C=C1)OC(=O)N2CC(=O)OC</td>\n",
       "      <td>0</td>\n",
       "    </tr>\n",
       "    <tr>\n",
       "      <th>3</th>\n",
       "      <td>C1CCN2C(C1)C(=O)N(C3=CC=CC=C3C2=O)CC(=O)N.C(=O...</td>\n",
       "      <td>0</td>\n",
       "    </tr>\n",
       "    <tr>\n",
       "      <th>4</th>\n",
       "      <td>C1CCN(CC1)CCN2C3=CC=CC=C3N4C2=NC(=O)C(=N4)CCC(...</td>\n",
       "      <td>0</td>\n",
       "    </tr>\n",
       "    <tr>\n",
       "      <th>...</th>\n",
       "      <td>...</td>\n",
       "      <td>...</td>\n",
       "    </tr>\n",
       "    <tr>\n",
       "      <th>1200</th>\n",
       "      <td>C1COC2=C(O1)C=CC(=C2)NC(=O)C3=C(OC=N3)C4=CC=CC=C4</td>\n",
       "      <td>1</td>\n",
       "    </tr>\n",
       "    <tr>\n",
       "      <th>1201</th>\n",
       "      <td>COC(=O)C1=CC=CC=C1NC(=O)C2=CC3=C(C=C2)OCCCO3</td>\n",
       "      <td>1</td>\n",
       "    </tr>\n",
       "    <tr>\n",
       "      <th>1202</th>\n",
       "      <td>COC1=CC=CC=C1CCNC(=O)C(=O)NCC2N(CCO2)S(=O)(=O)...</td>\n",
       "      <td>1</td>\n",
       "    </tr>\n",
       "    <tr>\n",
       "      <th>1203</th>\n",
       "      <td>CN(C)CCNC(=O)C(=O)NCC1N(CCO1)S(=O)(=O)C2=CC=C(...</td>\n",
       "      <td>1</td>\n",
       "    </tr>\n",
       "    <tr>\n",
       "      <th>1204</th>\n",
       "      <td>C1COC(N1S(=O)(=O)C2=CC3=C(C=C2)OCCO3)CNC(=O)C(...</td>\n",
       "      <td>1</td>\n",
       "    </tr>\n",
       "  </tbody>\n",
       "</table>\n",
       "<p>1205 rows × 2 columns</p>\n",
       "</div>"
      ],
      "text/plain": [
       "                                                 smiles  activity\n",
       "0                 C1COCCN1C(=O)CSC2=NNC(=N2)C3=CC=CC=C3         0\n",
       "1     C1=CC=C(C=C1)C2=CSC(=N2)SCC(=O)NC3=CC=CC=C3[N+...         0\n",
       "2                       CC1=CC2=C(C=C1)OC(=O)N2CC(=O)OC         0\n",
       "3     C1CCN2C(C1)C(=O)N(C3=CC=CC=C3C2=O)CC(=O)N.C(=O...         0\n",
       "4     C1CCN(CC1)CCN2C3=CC=CC=C3N4C2=NC(=O)C(=N4)CCC(...         0\n",
       "...                                                 ...       ...\n",
       "1200  C1COC2=C(O1)C=CC(=C2)NC(=O)C3=C(OC=N3)C4=CC=CC=C4         1\n",
       "1201       COC(=O)C1=CC=CC=C1NC(=O)C2=CC3=C(C=C2)OCCCO3         1\n",
       "1202  COC1=CC=CC=C1CCNC(=O)C(=O)NCC2N(CCO2)S(=O)(=O)...         1\n",
       "1203  CN(C)CCNC(=O)C(=O)NCC1N(CCO1)S(=O)(=O)C2=CC=C(...         1\n",
       "1204  C1COC(N1S(=O)(=O)C2=CC3=C(C=C2)OCCO3)CNC(=O)C(...         1\n",
       "\n",
       "[1205 rows x 2 columns]"
      ]
     },
     "execution_count": 66,
     "metadata": {},
     "output_type": "execute_result"
    }
   ],
   "source": [
    "ihbt_#.groupby('ac').count()"
   ]
  },
  {
   "cell_type": "markdown",
   "id": "motivated-communist",
   "metadata": {},
   "source": [
    "## Train Test Split"
   ]
  },
  {
   "cell_type": "code",
   "execution_count": 68,
   "id": "social-builder",
   "metadata": {},
   "outputs": [],
   "source": [
    "def mol2arr(mol):\n",
    "    '''\n",
    "    get the morgan finger print as an array for a rdkit molecule\n",
    "    parameter mol: rdkit molecule format\n",
    "    return arr: array for that molecule, containing its finger print\n",
    "    '''\n",
    "    arr = np.zeros((1,))\n",
    "    fp = AllChem.GetMorganFingerprintAsBitVect(mol, 2)\n",
    "    DataStructs.ConvertToNumpyArray(fp, arr)\n",
    "    return arr"
   ]
  },
  {
   "cell_type": "code",
   "execution_count": 76,
   "id": "vietnamese-memorial",
   "metadata": {},
   "outputs": [],
   "source": [
    "mols=[Chem.MolFromSmiles(x) for x in ihbt_['smiles']]\n",
    "X = np.array([mol2arr(mol) for mol in mols])\n",
    "y = ihbt_['activity']"
   ]
  },
  {
   "cell_type": "code",
   "execution_count": null,
   "id": "established-correspondence",
   "metadata": {},
   "outputs": [],
   "source": []
  },
  {
   "cell_type": "code",
   "execution_count": 78,
   "id": "little-cemetery",
   "metadata": {},
   "outputs": [],
   "source": [
    "X_train, X_test, y_train, y_test = train_test_split(X, y, test_size = 0.3)"
   ]
  },
  {
   "cell_type": "code",
   "execution_count": 85,
   "id": "every-watch",
   "metadata": {},
   "outputs": [
    {
     "data": {
      "text/plain": [
       "(1205, 2048)"
      ]
     },
     "execution_count": 85,
     "metadata": {},
     "output_type": "execute_result"
    }
   ],
   "source": [
    "X.shape"
   ]
  },
  {
   "cell_type": "code",
   "execution_count": 79,
   "id": "turkish-ceramic",
   "metadata": {},
   "outputs": [],
   "source": [
    "def make_discriminator_model():\n",
    "    \n",
    "    model = tf.keras.Sequential()\n",
    "    model.add(tf.keras.layers.Conv2D(64, (2048,) ,es=(2, 2), padding='same'))\n",
    "    #model.add(tf.keras.layers.LeakyReLU())\n",
    "    #model.add(tf.keras.layers.Dropout(0.3))\n",
    "      \n",
    "    #model.add(tf.keras.layers.Conv2D(128, (5, 5), strides=(2, 2), padding='same'))\n",
    "    #model.add(tf.keras.layers.LeakyReLU())\n",
    "    #model.add(tf.keras.layers.Dropout(0.3))\n",
    "       \n",
    "    #model.add(tf.keras.layers.Flatten())\n",
    "    #model.add(tf.keras.layers.Dense(1))\n",
    "     \n",
    "    return model"
   ]
  },
  {
   "cell_type": "code",
   "execution_count": null,
   "id": "combined-carter",
   "metadata": {},
   "outputs": [],
   "source": []
  },
  {
   "cell_type": "code",
   "execution_count": null,
   "id": "fiscal-pursuit",
   "metadata": {},
   "outputs": [],
   "source": []
  },
  {
   "cell_type": "code",
   "execution_count": null,
   "id": "sophisticated-welding",
   "metadata": {},
   "outputs": [],
   "source": []
  },
  {
   "cell_type": "code",
   "execution_count": null,
   "id": "adult-trust",
   "metadata": {},
   "outputs": [],
   "source": []
  },
  {
   "cell_type": "code",
   "execution_count": null,
   "id": "coastal-consideration",
   "metadata": {},
   "outputs": [],
   "source": []
  },
  {
   "cell_type": "code",
   "execution_count": null,
   "id": "becoming-filter",
   "metadata": {},
   "outputs": [],
   "source": []
  },
  {
   "cell_type": "code",
   "execution_count": null,
   "id": "pressing-chuck",
   "metadata": {},
   "outputs": [],
   "source": []
  },
  {
   "cell_type": "code",
   "execution_count": null,
   "id": "median-union",
   "metadata": {},
   "outputs": [],
   "source": []
  },
  {
   "cell_type": "code",
   "execution_count": null,
   "id": "official-helicopter",
   "metadata": {},
   "outputs": [],
   "source": []
  },
  {
   "cell_type": "code",
   "execution_count": null,
   "id": "recognized-mystery",
   "metadata": {},
   "outputs": [],
   "source": []
  },
  {
   "cell_type": "code",
   "execution_count": null,
   "id": "introductory-restaurant",
   "metadata": {},
   "outputs": [],
   "source": []
  },
  {
   "cell_type": "code",
   "execution_count": null,
   "id": "reasonable-myanmar",
   "metadata": {},
   "outputs": [],
   "source": []
  },
  {
   "cell_type": "code",
   "execution_count": 7,
   "id": "threatened-behavior",
   "metadata": {},
   "outputs": [],
   "source": [
    "mols=[Chem.MolFromSmiles(x) for x in ihbt['smiles']]\n",
    "#node_featurizer = CanonicalAtomFeaturizer(atom_data_field='h')\n",
    "#edge_featurizer = CanonicalBondFeaturizer(bond_data_field='h')\n",
    "#_feats = atom_featurizer.feat_size('h')\n",
    "#train_x= [mol_to_complete_graph(m, node_featurizer=node_featurizer) for m in mols]\n",
    "#train_y = np.array(df['activity'])\n",
    "#train_y = np.array(train_y, dtype=np.int64)\n",
    "\n"
   ]
  },
  {
   "cell_type": "code",
   "execution_count": 15,
   "id": "adjusted-control",
   "metadata": {},
   "outputs": [],
   "source": [
    "trainX = np.array([mol2arr(mol) for mol in mols])\n",
    "#trainY = [sol_class[mol.GetProp(\"SOL_classification\")] for mol in train_mols]\n",
    "#trainY = np_utils.to_categorical(trainY)\n",
    " \n",
    "#testX = np.array([mol2arr(mol) for mol in test_mols])\n",
    "#testY = [sol_class[mol.GetProp(\"SOL_classification\")] for mol in test_mols]\n",
    "#testY = np_utils.to_categorical(testY)\n"
   ]
  },
  {
   "cell_type": "code",
   "execution_count": null,
   "id": "solid-dress",
   "metadata": {},
   "outputs": [],
   "source": [
    "pip uninstall dgl -y"
   ]
  },
  {
   "cell_type": "code",
   "execution_count": null,
   "id": "enormous-idaho",
   "metadata": {},
   "outputs": [],
   "source": []
  }
 ],
 "metadata": {
  "kernelspec": {
   "display_name": "Python [conda env:my-rdkit-env] *",
   "language": "python",
   "name": "conda-env-my-rdkit-env-py"
  },
  "language_info": {
   "codemirror_mode": {
    "name": "ipython",
    "version": 3
   },
   "file_extension": ".py",
   "mimetype": "text/x-python",
   "name": "python",
   "nbconvert_exporter": "python",
   "pygments_lexer": "ipython3",
   "version": "3.7.10"
  }
 },
 "nbformat": 4,
 "nbformat_minor": 5
}
