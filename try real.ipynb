{
 "cells": [
  {
   "cell_type": "code",
   "execution_count": 1,
   "id": "fancy-emerald",
   "metadata": {},
   "outputs": [],
   "source": [
    "import numpy as np\n",
    "import pandas as pd\n",
    "from matplotlib import pyplot as plt\n",
    "from rdkit import Chem\n",
    "from rdkit import rdBase\n",
    "from rdkit import DataStructs\n",
    "\n",
    "\n",
    "from rdkit.Chem import AllChem\n",
    "from rdkit.Chem import RDConfig\n",
    "from rdkit import rdBase\n",
    "from rdkit.Chem.Draw import IPythonConsole"
   ]
  },
  {
   "cell_type": "code",
   "execution_count": 2,
   "id": "noticed-bride",
   "metadata": {},
   "outputs": [],
   "source": [
    "import tensorflow as tf"
   ]
  },
  {
   "cell_type": "code",
   "execution_count": 31,
   "id": "agreed-killer",
   "metadata": {},
   "outputs": [],
   "source": [
    "from sklearn import preprocessing\n",
    "from sklearn.model_selection import train_test_split\n",
    "from sklearn.utils import resample"
   ]
  },
  {
   "cell_type": "code",
   "execution_count": null,
   "id": "forced-arbor",
   "metadata": {},
   "outputs": [],
   "source": [
    "#export DGLBACKEND=[tensorflow]"
   ]
  },
  {
   "cell_type": "code",
   "execution_count": null,
   "id": "related-sunglasses",
   "metadata": {},
   "outputs": [],
   "source": [
    "#import dgllife"
   ]
  },
  {
   "cell_type": "code",
   "execution_count": null,
   "id": "indoor-joining",
   "metadata": {},
   "outputs": [],
   "source": [
    "#from dgllife.utils import mol_to_complete_graph\n",
    "#from dgllife.utils import smiles_to_bigraph, CanonicalAtomFeaturizer, CanonicalBondFeaturizer"
   ]
  },
  {
   "cell_type": "markdown",
   "id": "opposite-doctor",
   "metadata": {},
   "source": [
    "## preprocess(select subset)"
   ]
  },
  {
   "cell_type": "code",
   "execution_count": 26,
   "id": "several-shannon",
   "metadata": {},
   "outputs": [],
   "source": [
    "ihbt = pd.read_csv('AID1706_binarized_sars.csv')\n",
    "ihbt = ihbt[['smiles','activity'] ]"
   ]
  },
  {
   "cell_type": "code",
   "execution_count": 48,
   "id": "failing-breakdown",
   "metadata": {
    "scrolled": false
   },
   "outputs": [
    {
     "data": {
      "text/html": [
       "<div>\n",
       "<style scoped>\n",
       "    .dataframe tbody tr th:only-of-type {\n",
       "        vertical-align: middle;\n",
       "    }\n",
       "\n",
       "    .dataframe tbody tr th {\n",
       "        vertical-align: top;\n",
       "    }\n",
       "\n",
       "    .dataframe thead th {\n",
       "        text-align: right;\n",
       "    }\n",
       "</style>\n",
       "<table border=\"1\" class=\"dataframe\">\n",
       "  <thead>\n",
       "    <tr style=\"text-align: right;\">\n",
       "      <th></th>\n",
       "      <th>smiles</th>\n",
       "      <th>activity</th>\n",
       "    </tr>\n",
       "  </thead>\n",
       "  <tbody>\n",
       "    <tr>\n",
       "      <th>0</th>\n",
       "      <td>CC1=CC=C(O1)C(C(=O)NCC2=CC=CO2)N(C3=CC=C(C=C3)...</td>\n",
       "      <td>1</td>\n",
       "    </tr>\n",
       "    <tr>\n",
       "      <th>1</th>\n",
       "      <td>CC1=CC=C(C=C1)S(=O)(=O)N2CCN(CC2)S(=O)(=O)C3=C...</td>\n",
       "      <td>1</td>\n",
       "    </tr>\n",
       "    <tr>\n",
       "      <th>2</th>\n",
       "      <td>CC1=CC2=C(C=C1)NC(=O)C(=C2)CN(CCC3=CC=CC=C3)CC...</td>\n",
       "      <td>1</td>\n",
       "    </tr>\n",
       "    <tr>\n",
       "      <th>3</th>\n",
       "      <td>CC1=CC=C(C=C1)CN(C(C2=CC=CS2)C(=O)NCC3=CC=CO3)...</td>\n",
       "      <td>1</td>\n",
       "    </tr>\n",
       "    <tr>\n",
       "      <th>4</th>\n",
       "      <td>CCN1C2=NC(=O)N(C(=O)C2=NC(=N1)C3=CC=CC=C3)C</td>\n",
       "      <td>1</td>\n",
       "    </tr>\n",
       "    <tr>\n",
       "      <th>...</th>\n",
       "      <td>...</td>\n",
       "      <td>...</td>\n",
       "    </tr>\n",
       "    <tr>\n",
       "      <th>290721</th>\n",
       "      <td>COCCN1C2=C(C=C(C=C2)C(=O)OC)SC1=NC(=O)CCS(=O)(...</td>\n",
       "      <td>0</td>\n",
       "    </tr>\n",
       "    <tr>\n",
       "      <th>290722</th>\n",
       "      <td>COC1=CC=C(C=C1)C2CC(=NN2C(=O)CSC3=NCCS3)C4=CC=CS4</td>\n",
       "      <td>0</td>\n",
       "    </tr>\n",
       "    <tr>\n",
       "      <th>290723</th>\n",
       "      <td>CC1CC(=O)N(C2=CC=CC=C2S1(=O)=O)CC(=O)NC3=CC=CC...</td>\n",
       "      <td>0</td>\n",
       "    </tr>\n",
       "    <tr>\n",
       "      <th>290724</th>\n",
       "      <td>COC1=C2C(=C(C=C1)OC)SC(=N2)NC(=O)C3=CC(=CC=C3)...</td>\n",
       "      <td>0</td>\n",
       "    </tr>\n",
       "    <tr>\n",
       "      <th>290725</th>\n",
       "      <td>C1=CC(=CC(=C1)F)NC(=O)CSC2=NN=C(S2)NC(=O)C3=CC...</td>\n",
       "      <td>0</td>\n",
       "    </tr>\n",
       "  </tbody>\n",
       "</table>\n",
       "<p>290726 rows × 2 columns</p>\n",
       "</div>"
      ],
      "text/plain": [
       "                                                   smiles  activity\n",
       "0       CC1=CC=C(O1)C(C(=O)NCC2=CC=CO2)N(C3=CC=C(C=C3)...         1\n",
       "1       CC1=CC=C(C=C1)S(=O)(=O)N2CCN(CC2)S(=O)(=O)C3=C...         1\n",
       "2       CC1=CC2=C(C=C1)NC(=O)C(=C2)CN(CCC3=CC=CC=C3)CC...         1\n",
       "3       CC1=CC=C(C=C1)CN(C(C2=CC=CS2)C(=O)NCC3=CC=CO3)...         1\n",
       "4             CCN1C2=NC(=O)N(C(=O)C2=NC(=N1)C3=CC=CC=C3)C         1\n",
       "...                                                   ...       ...\n",
       "290721  COCCN1C2=C(C=C(C=C2)C(=O)OC)SC1=NC(=O)CCS(=O)(...         0\n",
       "290722  COC1=CC=C(C=C1)C2CC(=NN2C(=O)CSC3=NCCS3)C4=CC=CS4         0\n",
       "290723  CC1CC(=O)N(C2=CC=CC=C2S1(=O)=O)CC(=O)NC3=CC=CC...         0\n",
       "290724  COC1=C2C(=C(C=C1)OC)SC(=N2)NC(=O)C3=CC(=CC=C3)...         0\n",
       "290725  C1=CC(=CC(=C1)F)NC(=O)CSC2=NN=C(S2)NC(=O)C3=CC...         0\n",
       "\n",
       "[290726 rows x 2 columns]"
      ]
     },
     "execution_count": 48,
     "metadata": {},
     "output_type": "execute_result"
    }
   ],
   "source": [
    "ihbt"
   ]
  },
  {
   "cell_type": "code",
   "execution_count": 49,
   "id": "primary-subscriber",
   "metadata": {},
   "outputs": [
    {
     "data": {
      "text/html": [
       "<div>\n",
       "<style scoped>\n",
       "    .dataframe tbody tr th:only-of-type {\n",
       "        vertical-align: middle;\n",
       "    }\n",
       "\n",
       "    .dataframe tbody tr th {\n",
       "        vertical-align: top;\n",
       "    }\n",
       "\n",
       "    .dataframe thead th {\n",
       "        text-align: right;\n",
       "    }\n",
       "</style>\n",
       "<table border=\"1\" class=\"dataframe\">\n",
       "  <thead>\n",
       "    <tr style=\"text-align: right;\">\n",
       "      <th></th>\n",
       "      <th>smiles</th>\n",
       "    </tr>\n",
       "    <tr>\n",
       "      <th>activity</th>\n",
       "      <th></th>\n",
       "    </tr>\n",
       "  </thead>\n",
       "  <tbody>\n",
       "    <tr>\n",
       "      <th>0</th>\n",
       "      <td>290321</td>\n",
       "    </tr>\n",
       "    <tr>\n",
       "      <th>1</th>\n",
       "      <td>405</td>\n",
       "    </tr>\n",
       "  </tbody>\n",
       "</table>\n",
       "</div>"
      ],
      "text/plain": [
       "          smiles\n",
       "activity        \n",
       "0         290321\n",
       "1            405"
      ]
     },
     "execution_count": 49,
     "metadata": {},
     "output_type": "execute_result"
    }
   ],
   "source": [
    "ihbt.groupby('activity').count()"
   ]
  },
  {
   "cell_type": "code",
   "execution_count": 51,
   "id": "exotic-niger",
   "metadata": {},
   "outputs": [],
   "source": [
    "ihbt_true = ihbt[ihbt['activity']==1]\n",
    "ihbt_false = ihbt[ihbt['activity']==0]"
   ]
  },
  {
   "cell_type": "code",
   "execution_count": 52,
   "id": "skilled-medicare",
   "metadata": {},
   "outputs": [
    {
     "data": {
      "text/html": [
       "<div>\n",
       "<style scoped>\n",
       "    .dataframe tbody tr th:only-of-type {\n",
       "        vertical-align: middle;\n",
       "    }\n",
       "\n",
       "    .dataframe tbody tr th {\n",
       "        vertical-align: top;\n",
       "    }\n",
       "\n",
       "    .dataframe thead th {\n",
       "        text-align: right;\n",
       "    }\n",
       "</style>\n",
       "<table border=\"1\" class=\"dataframe\">\n",
       "  <thead>\n",
       "    <tr style=\"text-align: right;\">\n",
       "      <th></th>\n",
       "      <th>smiles</th>\n",
       "      <th>activity</th>\n",
       "    </tr>\n",
       "  </thead>\n",
       "  <tbody>\n",
       "    <tr>\n",
       "      <th>405</th>\n",
       "      <td>CCOCCCNCC(=O)NC1=CC=C(C=C1)OC(F)(F)F.Cl</td>\n",
       "      <td>0</td>\n",
       "    </tr>\n",
       "    <tr>\n",
       "      <th>406</th>\n",
       "      <td>COCCN1C(=NN=N1)CN2CCC(CC2)CC3=CC=CC=C3.Cl</td>\n",
       "      <td>0</td>\n",
       "    </tr>\n",
       "    <tr>\n",
       "      <th>407</th>\n",
       "      <td>COCCN1C(=NN=N1)CN2CCC(CC2)(C3=CC(=CC=C3)C(F)(F...</td>\n",
       "      <td>0</td>\n",
       "    </tr>\n",
       "    <tr>\n",
       "      <th>408</th>\n",
       "      <td>C1CCCN(CC1)CC(=O)NCCC2=CC=C(C=C2)F.C(=O)(C(=O)O)O</td>\n",
       "      <td>0</td>\n",
       "    </tr>\n",
       "    <tr>\n",
       "      <th>409</th>\n",
       "      <td>COC1=CC=C(C=C1)C(=O)C(C2=CC=CC=C2)N3CCOCC3.Cl</td>\n",
       "      <td>0</td>\n",
       "    </tr>\n",
       "    <tr>\n",
       "      <th>...</th>\n",
       "      <td>...</td>\n",
       "      <td>...</td>\n",
       "    </tr>\n",
       "    <tr>\n",
       "      <th>290721</th>\n",
       "      <td>COCCN1C2=C(C=C(C=C2)C(=O)OC)SC1=NC(=O)CCS(=O)(...</td>\n",
       "      <td>0</td>\n",
       "    </tr>\n",
       "    <tr>\n",
       "      <th>290722</th>\n",
       "      <td>COC1=CC=C(C=C1)C2CC(=NN2C(=O)CSC3=NCCS3)C4=CC=CS4</td>\n",
       "      <td>0</td>\n",
       "    </tr>\n",
       "    <tr>\n",
       "      <th>290723</th>\n",
       "      <td>CC1CC(=O)N(C2=CC=CC=C2S1(=O)=O)CC(=O)NC3=CC=CC...</td>\n",
       "      <td>0</td>\n",
       "    </tr>\n",
       "    <tr>\n",
       "      <th>290724</th>\n",
       "      <td>COC1=C2C(=C(C=C1)OC)SC(=N2)NC(=O)C3=CC(=CC=C3)...</td>\n",
       "      <td>0</td>\n",
       "    </tr>\n",
       "    <tr>\n",
       "      <th>290725</th>\n",
       "      <td>C1=CC(=CC(=C1)F)NC(=O)CSC2=NN=C(S2)NC(=O)C3=CC...</td>\n",
       "      <td>0</td>\n",
       "    </tr>\n",
       "  </tbody>\n",
       "</table>\n",
       "<p>290321 rows × 2 columns</p>\n",
       "</div>"
      ],
      "text/plain": [
       "                                                   smiles  activity\n",
       "405               CCOCCCNCC(=O)NC1=CC=C(C=C1)OC(F)(F)F.Cl         0\n",
       "406             COCCN1C(=NN=N1)CN2CCC(CC2)CC3=CC=CC=C3.Cl         0\n",
       "407     COCCN1C(=NN=N1)CN2CCC(CC2)(C3=CC(=CC=C3)C(F)(F...         0\n",
       "408     C1CCCN(CC1)CC(=O)NCCC2=CC=C(C=C2)F.C(=O)(C(=O)O)O         0\n",
       "409         COC1=CC=C(C=C1)C(=O)C(C2=CC=CC=C2)N3CCOCC3.Cl         0\n",
       "...                                                   ...       ...\n",
       "290721  COCCN1C2=C(C=C(C=C2)C(=O)OC)SC1=NC(=O)CCS(=O)(...         0\n",
       "290722  COC1=CC=C(C=C1)C2CC(=NN2C(=O)CSC3=NCCS3)C4=CC=CS4         0\n",
       "290723  CC1CC(=O)N(C2=CC=CC=C2S1(=O)=O)CC(=O)NC3=CC=CC...         0\n",
       "290724  COC1=C2C(=C(C=C1)OC)SC(=N2)NC(=O)C3=CC(=CC=C3)...         0\n",
       "290725  C1=CC(=CC(=C1)F)NC(=O)CSC2=NN=C(S2)NC(=O)C3=CC...         0\n",
       "\n",
       "[290321 rows x 2 columns]"
      ]
     },
     "execution_count": 52,
     "metadata": {},
     "output_type": "execute_result"
    }
   ],
   "source": [
    "ihbt_false"
   ]
  },
  {
   "cell_type": "code",
   "execution_count": 56,
   "id": "false-personality",
   "metadata": {},
   "outputs": [],
   "source": [
    "ihbt_false_short = resample(ihbt_false, n_samples=800, replace = False)\n",
    "#ihbt_ = ihbt_false_short + ihbt_true"
   ]
  },
  {
   "cell_type": "code",
   "execution_count": 64,
   "id": "common-latino",
   "metadata": {},
   "outputs": [],
   "source": [
    "ihbt_ = pd.concat([ihbt_false_short , ihbt_true], ignore_index =  True)#.reset_index()"
   ]
  },
  {
   "cell_type": "code",
   "execution_count": 66,
   "id": "otherwise-blackjack",
   "metadata": {
    "scrolled": false
   },
   "outputs": [
    {
     "data": {
      "text/html": [
       "<div>\n",
       "<style scoped>\n",
       "    .dataframe tbody tr th:only-of-type {\n",
       "        vertical-align: middle;\n",
       "    }\n",
       "\n",
       "    .dataframe tbody tr th {\n",
       "        vertical-align: top;\n",
       "    }\n",
       "\n",
       "    .dataframe thead th {\n",
       "        text-align: right;\n",
       "    }\n",
       "</style>\n",
       "<table border=\"1\" class=\"dataframe\">\n",
       "  <thead>\n",
       "    <tr style=\"text-align: right;\">\n",
       "      <th></th>\n",
       "      <th>smiles</th>\n",
       "      <th>activity</th>\n",
       "    </tr>\n",
       "  </thead>\n",
       "  <tbody>\n",
       "    <tr>\n",
       "      <th>0</th>\n",
       "      <td>C1COCCN1C(=O)CSC2=NNC(=N2)C3=CC=CC=C3</td>\n",
       "      <td>0</td>\n",
       "    </tr>\n",
       "    <tr>\n",
       "      <th>1</th>\n",
       "      <td>C1=CC=C(C=C1)C2=CSC(=N2)SCC(=O)NC3=CC=CC=C3[N+...</td>\n",
       "      <td>0</td>\n",
       "    </tr>\n",
       "    <tr>\n",
       "      <th>2</th>\n",
       "      <td>CC1=CC2=C(C=C1)OC(=O)N2CC(=O)OC</td>\n",
       "      <td>0</td>\n",
       "    </tr>\n",
       "    <tr>\n",
       "      <th>3</th>\n",
       "      <td>C1CCN2C(C1)C(=O)N(C3=CC=CC=C3C2=O)CC(=O)N.C(=O...</td>\n",
       "      <td>0</td>\n",
       "    </tr>\n",
       "    <tr>\n",
       "      <th>4</th>\n",
       "      <td>C1CCN(CC1)CCN2C3=CC=CC=C3N4C2=NC(=O)C(=N4)CCC(...</td>\n",
       "      <td>0</td>\n",
       "    </tr>\n",
       "    <tr>\n",
       "      <th>...</th>\n",
       "      <td>...</td>\n",
       "      <td>...</td>\n",
       "    </tr>\n",
       "    <tr>\n",
       "      <th>1200</th>\n",
       "      <td>C1COC2=C(O1)C=CC(=C2)NC(=O)C3=C(OC=N3)C4=CC=CC=C4</td>\n",
       "      <td>1</td>\n",
       "    </tr>\n",
       "    <tr>\n",
       "      <th>1201</th>\n",
       "      <td>COC(=O)C1=CC=CC=C1NC(=O)C2=CC3=C(C=C2)OCCCO3</td>\n",
       "      <td>1</td>\n",
       "    </tr>\n",
       "    <tr>\n",
       "      <th>1202</th>\n",
       "      <td>COC1=CC=CC=C1CCNC(=O)C(=O)NCC2N(CCO2)S(=O)(=O)...</td>\n",
       "      <td>1</td>\n",
       "    </tr>\n",
       "    <tr>\n",
       "      <th>1203</th>\n",
       "      <td>CN(C)CCNC(=O)C(=O)NCC1N(CCO1)S(=O)(=O)C2=CC=C(...</td>\n",
       "      <td>1</td>\n",
       "    </tr>\n",
       "    <tr>\n",
       "      <th>1204</th>\n",
       "      <td>C1COC(N1S(=O)(=O)C2=CC3=C(C=C2)OCCO3)CNC(=O)C(...</td>\n",
       "      <td>1</td>\n",
       "    </tr>\n",
       "  </tbody>\n",
       "</table>\n",
       "<p>1205 rows × 2 columns</p>\n",
       "</div>"
      ],
      "text/plain": [
       "                                                 smiles  activity\n",
       "0                 C1COCCN1C(=O)CSC2=NNC(=N2)C3=CC=CC=C3         0\n",
       "1     C1=CC=C(C=C1)C2=CSC(=N2)SCC(=O)NC3=CC=CC=C3[N+...         0\n",
       "2                       CC1=CC2=C(C=C1)OC(=O)N2CC(=O)OC         0\n",
       "3     C1CCN2C(C1)C(=O)N(C3=CC=CC=C3C2=O)CC(=O)N.C(=O...         0\n",
       "4     C1CCN(CC1)CCN2C3=CC=CC=C3N4C2=NC(=O)C(=N4)CCC(...         0\n",
       "...                                                 ...       ...\n",
       "1200  C1COC2=C(O1)C=CC(=C2)NC(=O)C3=C(OC=N3)C4=CC=CC=C4         1\n",
       "1201       COC(=O)C1=CC=CC=C1NC(=O)C2=CC3=C(C=C2)OCCCO3         1\n",
       "1202  COC1=CC=CC=C1CCNC(=O)C(=O)NCC2N(CCO2)S(=O)(=O)...         1\n",
       "1203  CN(C)CCNC(=O)C(=O)NCC1N(CCO1)S(=O)(=O)C2=CC=C(...         1\n",
       "1204  C1COC(N1S(=O)(=O)C2=CC3=C(C=C2)OCCO3)CNC(=O)C(...         1\n",
       "\n",
       "[1205 rows x 2 columns]"
      ]
     },
     "execution_count": 66,
     "metadata": {},
     "output_type": "execute_result"
    }
   ],
   "source": [
    "ihbt_#.groupby('ac').count()"
   ]
  },
  {
   "cell_type": "markdown",
   "id": "lesbian-spanish",
   "metadata": {},
   "source": [
    "# Model building(dense layer model)"
   ]
  },
  {
   "cell_type": "markdown",
   "id": "motivated-communist",
   "metadata": {},
   "source": [
    "## Train Test Split"
   ]
  },
  {
   "cell_type": "code",
   "execution_count": 68,
   "id": "social-builder",
   "metadata": {},
   "outputs": [],
   "source": [
    "def mol2arr(mol):\n",
    "    '''\n",
    "    get the morgan finger print as an array for a rdkit molecule\n",
    "    parameter mol: rdkit molecule format\n",
    "    return arr: array for that molecule, containing its finger print\n",
    "    '''\n",
    "    arr = np.zeros((1,))\n",
    "    fp = AllChem.GetMorganFingerprintAsBitVect(mol, 2)\n",
    "    DataStructs.ConvertToNumpyArray(fp, arr)\n",
    "    return arr"
   ]
  },
  {
   "cell_type": "code",
   "execution_count": 76,
   "id": "vietnamese-memorial",
   "metadata": {},
   "outputs": [],
   "source": [
    "mols=[Chem.MolFromSmiles(x) for x in ihbt_['smiles']]\n",
    "X = np.array([mol2arr(mol) for mol in mols])\n",
    "y = ihbt_['activity']"
   ]
  },
  {
   "cell_type": "code",
   "execution_count": 78,
   "id": "little-cemetery",
   "metadata": {},
   "outputs": [],
   "source": [
    "X_train, X_test, y_train, y_test = train_test_split(X, y, test_size = 0.3)"
   ]
  },
  {
   "cell_type": "code",
   "execution_count": 85,
   "id": "every-watch",
   "metadata": {
    "scrolled": true
   },
   "outputs": [
    {
     "data": {
      "text/plain": [
       "(1205, 2048)"
      ]
     },
     "execution_count": 85,
     "metadata": {},
     "output_type": "execute_result"
    }
   ],
   "source": [
    "X.shape"
   ]
  },
  {
   "cell_type": "markdown",
   "id": "utility-stable",
   "metadata": {},
   "source": [
    "## Dense layer Model"
   ]
  },
  {
   "cell_type": "code",
   "execution_count": 87,
   "id": "prospective-generator",
   "metadata": {},
   "outputs": [],
   "source": [
    "from tensorflow.keras import layers"
   ]
  },
  {
   "cell_type": "code",
   "execution_count": 183,
   "id": "attended-february",
   "metadata": {},
   "outputs": [],
   "source": [
    "model = tf.keras.models.Sequential([\n",
    "    layers.Dense(500, input_shape = (2048,)),\n",
    "    layers.Dense(500),\n",
    "    layers.Dense(500),\n",
    "    layers.Dense(2)\n",
    "])"
   ]
  },
  {
   "cell_type": "code",
   "execution_count": 184,
   "id": "combined-carter",
   "metadata": {},
   "outputs": [
    {
     "name": "stdout",
     "output_type": "stream",
     "text": [
      "Model: \"sequential_1\"\n",
      "_________________________________________________________________\n",
      "Layer (type)                 Output Shape              Param #   \n",
      "=================================================================\n",
      "dense_3 (Dense)              (None, 500)               1024500   \n",
      "_________________________________________________________________\n",
      "dense_4 (Dense)              (None, 500)               250500    \n",
      "_________________________________________________________________\n",
      "dense_5 (Dense)              (None, 500)               250500    \n",
      "_________________________________________________________________\n",
      "dense_6 (Dense)              (None, 2)                 1002      \n",
      "=================================================================\n",
      "Total params: 1,526,502\n",
      "Trainable params: 1,526,502\n",
      "Non-trainable params: 0\n",
      "_________________________________________________________________\n"
     ]
    }
   ],
   "source": [
    "model.summary()"
   ]
  },
  {
   "cell_type": "code",
   "execution_count": 185,
   "id": "fiscal-pursuit",
   "metadata": {},
   "outputs": [],
   "source": [
    "loss_fn = tf.keras.losses.SparseCategoricalCrossentropy(from_logits=True)\n",
    "model.compile(optimizer = \"adam\",\n",
    "              loss = loss_fn,\n",
    "              metrics = [\"accuracy\"])"
   ]
  },
  {
   "cell_type": "code",
   "execution_count": 186,
   "id": "sophisticated-welding",
   "metadata": {
    "scrolled": true
   },
   "outputs": [
    {
     "name": "stdout",
     "output_type": "stream",
     "text": [
      "Epoch 1/100\n",
      "27/27 [==============================] - 0s 5ms/step - loss: 0.7082 - accuracy: 0.6326\n",
      "Epoch 2/100\n",
      "27/27 [==============================] - 0s 5ms/step - loss: 0.3627 - accuracy: 0.8571\n",
      "Epoch 3/100\n",
      "27/27 [==============================] - 0s 5ms/step - loss: 0.1827 - accuracy: 0.9239\n",
      "Epoch 4/100\n",
      "27/27 [==============================] - 0s 5ms/step - loss: 0.0780 - accuracy: 0.9699\n",
      "Epoch 5/100\n",
      "27/27 [==============================] - 0s 5ms/step - loss: 0.0938 - accuracy: 0.9675\n",
      "Epoch 6/100\n",
      "27/27 [==============================] - 0s 5ms/step - loss: 0.0566 - accuracy: 0.9754\n",
      "Epoch 7/100\n",
      "27/27 [==============================] - 0s 5ms/step - loss: 0.0342 - accuracy: 0.9893\n",
      "Epoch 8/100\n",
      "27/27 [==============================] - 0s 5ms/step - loss: 0.0445 - accuracy: 0.9846\n",
      "Epoch 9/100\n",
      "27/27 [==============================] - 0s 5ms/step - loss: 0.0161 - accuracy: 0.9954\n",
      "Epoch 10/100\n",
      "27/27 [==============================] - 0s 5ms/step - loss: 0.0084 - accuracy: 0.9973\n",
      "Epoch 11/100\n",
      "27/27 [==============================] - 0s 5ms/step - loss: 0.0227 - accuracy: 0.9908\n",
      "Epoch 12/100\n",
      "27/27 [==============================] - 0s 5ms/step - loss: 0.0172 - accuracy: 0.9925\n",
      "Epoch 13/100\n",
      "27/27 [==============================] - 0s 5ms/step - loss: 0.0590 - accuracy: 0.9826\n",
      "Epoch 14/100\n",
      "27/27 [==============================] - 0s 5ms/step - loss: 0.0543 - accuracy: 0.9765\n",
      "Epoch 15/100\n",
      "27/27 [==============================] - 0s 5ms/step - loss: 0.0286 - accuracy: 0.9850\n",
      "Epoch 16/100\n",
      "27/27 [==============================] - 0s 5ms/step - loss: 0.0154 - accuracy: 0.9954\n",
      "Epoch 17/100\n",
      "27/27 [==============================] - 0s 5ms/step - loss: 0.0020 - accuracy: 1.0000\n",
      "Epoch 18/100\n",
      "27/27 [==============================] - 0s 5ms/step - loss: 0.0016 - accuracy: 0.9998\n",
      "Epoch 19/100\n",
      "27/27 [==============================] - 0s 5ms/step - loss: 8.8125e-04 - accuracy: 1.0000\n",
      "Epoch 20/100\n",
      "27/27 [==============================] - 0s 5ms/step - loss: 0.0044 - accuracy: 0.9991\n",
      "Epoch 21/100\n",
      "27/27 [==============================] - 0s 5ms/step - loss: 0.0117 - accuracy: 0.9982\n",
      "Epoch 22/100\n",
      "27/27 [==============================] - 0s 5ms/step - loss: 0.0128 - accuracy: 0.9956\n",
      "Epoch 23/100\n",
      "27/27 [==============================] - 0s 5ms/step - loss: 8.4761e-04 - accuracy: 1.0000\n",
      "Epoch 24/100\n",
      "27/27 [==============================] - 0s 5ms/step - loss: 2.2781e-04 - accuracy: 1.0000\n",
      "Epoch 25/100\n",
      "27/27 [==============================] - 0s 5ms/step - loss: 9.5817e-05 - accuracy: 1.0000\n",
      "Epoch 26/100\n",
      "27/27 [==============================] - 0s 5ms/step - loss: 7.9028e-05 - accuracy: 1.0000\n",
      "Epoch 27/100\n",
      "27/27 [==============================] - 0s 5ms/step - loss: 7.9013e-05 - accuracy: 1.0000\n",
      "Epoch 28/100\n",
      "27/27 [==============================] - 0s 5ms/step - loss: 5.4984e-05 - accuracy: 1.0000\n",
      "Epoch 29/100\n",
      "27/27 [==============================] - 0s 5ms/step - loss: 5.0922e-05 - accuracy: 1.0000\n",
      "Epoch 30/100\n",
      "27/27 [==============================] - 0s 5ms/step - loss: 5.3323e-05 - accuracy: 1.0000\n",
      "Epoch 31/100\n",
      "27/27 [==============================] - 0s 5ms/step - loss: 4.0497e-05 - accuracy: 1.0000\n",
      "Epoch 32/100\n",
      "27/27 [==============================] - 0s 5ms/step - loss: 3.8314e-05 - accuracy: 1.0000\n",
      "Epoch 33/100\n",
      "27/27 [==============================] - 0s 5ms/step - loss: 3.7763e-05 - accuracy: 1.0000\n",
      "Epoch 34/100\n",
      "27/27 [==============================] - 0s 5ms/step - loss: 2.6946e-05 - accuracy: 1.0000\n",
      "Epoch 35/100\n",
      "27/27 [==============================] - 0s 5ms/step - loss: 2.7530e-05 - accuracy: 1.0000\n",
      "Epoch 36/100\n",
      "27/27 [==============================] - 0s 5ms/step - loss: 2.1005e-05 - accuracy: 1.0000\n",
      "Epoch 37/100\n",
      "27/27 [==============================] - 0s 5ms/step - loss: 2.8395e-05 - accuracy: 1.0000\n",
      "Epoch 38/100\n",
      "27/27 [==============================] - 0s 5ms/step - loss: 2.0234e-05 - accuracy: 1.0000\n",
      "Epoch 39/100\n",
      "27/27 [==============================] - 0s 5ms/step - loss: 1.9690e-05 - accuracy: 1.0000\n",
      "Epoch 40/100\n",
      "27/27 [==============================] - 0s 5ms/step - loss: 2.3728e-05 - accuracy: 1.0000\n",
      "Epoch 41/100\n",
      "27/27 [==============================] - 0s 5ms/step - loss: 1.5605e-05 - accuracy: 1.0000\n",
      "Epoch 42/100\n",
      "27/27 [==============================] - 0s 5ms/step - loss: 1.5085e-05 - accuracy: 1.0000\n",
      "Epoch 43/100\n",
      "27/27 [==============================] - 0s 5ms/step - loss: 1.6645e-05 - accuracy: 1.0000\n",
      "Epoch 44/100\n",
      "27/27 [==============================] - 0s 5ms/step - loss: 1.1506e-05 - accuracy: 1.0000\n",
      "Epoch 45/100\n",
      "27/27 [==============================] - 0s 5ms/step - loss: 1.2614e-05 - accuracy: 1.0000\n",
      "Epoch 46/100\n",
      "27/27 [==============================] - 0s 5ms/step - loss: 1.0974e-05 - accuracy: 1.0000\n",
      "Epoch 47/100\n",
      "27/27 [==============================] - 0s 5ms/step - loss: 1.1791e-05 - accuracy: 1.0000\n",
      "Epoch 48/100\n",
      "27/27 [==============================] - 0s 5ms/step - loss: 1.1334e-05 - accuracy: 1.0000\n",
      "Epoch 49/100\n",
      "27/27 [==============================] - 0s 5ms/step - loss: 9.6134e-06 - accuracy: 1.0000\n",
      "Epoch 50/100\n",
      "27/27 [==============================] - 0s 5ms/step - loss: 1.0299e-05 - accuracy: 1.0000\n",
      "Epoch 51/100\n",
      "27/27 [==============================] - 0s 5ms/step - loss: 1.1415e-05 - accuracy: 1.0000\n",
      "Epoch 52/100\n",
      "27/27 [==============================] - 0s 4ms/step - loss: 9.0680e-06 - accuracy: 1.0000\n",
      "Epoch 53/100\n",
      "27/27 [==============================] - 0s 5ms/step - loss: 8.1225e-06 - accuracy: 1.0000\n",
      "Epoch 54/100\n",
      "27/27 [==============================] - 0s 5ms/step - loss: 8.1976e-06 - accuracy: 1.0000\n",
      "Epoch 55/100\n",
      "27/27 [==============================] - 0s 5ms/step - loss: 8.3041e-06 - accuracy: 1.0000\n",
      "Epoch 56/100\n",
      "27/27 [==============================] - 0s 5ms/step - loss: 8.6374e-06 - accuracy: 1.0000\n",
      "Epoch 57/100\n",
      "27/27 [==============================] - 0s 5ms/step - loss: 5.9166e-06 - accuracy: 1.0000\n",
      "Epoch 58/100\n",
      "27/27 [==============================] - 0s 5ms/step - loss: 7.3579e-06 - accuracy: 1.0000\n",
      "Epoch 59/100\n",
      "27/27 [==============================] - 0s 4ms/step - loss: 7.2461e-06 - accuracy: 1.0000\n",
      "Epoch 60/100\n",
      "27/27 [==============================] - 0s 5ms/step - loss: 6.2474e-06 - accuracy: 1.0000\n",
      "Epoch 61/100\n",
      "27/27 [==============================] - 0s 5ms/step - loss: 6.2614e-06 - accuracy: 1.0000\n",
      "Epoch 62/100\n",
      "27/27 [==============================] - 0s 5ms/step - loss: 7.2347e-06 - accuracy: 1.0000\n",
      "Epoch 63/100\n",
      "27/27 [==============================] - 0s 5ms/step - loss: 4.9213e-06 - accuracy: 1.0000\n",
      "Epoch 64/100\n",
      "27/27 [==============================] - 0s 5ms/step - loss: 6.1833e-06 - accuracy: 1.0000\n",
      "Epoch 65/100\n",
      "27/27 [==============================] - 0s 5ms/step - loss: 6.5451e-06 - accuracy: 1.0000\n",
      "Epoch 66/100\n",
      "27/27 [==============================] - 0s 5ms/step - loss: 5.3931e-06 - accuracy: 1.0000\n",
      "Epoch 67/100\n",
      "27/27 [==============================] - 0s 4ms/step - loss: 6.0697e-06 - accuracy: 1.0000\n",
      "Epoch 68/100\n",
      "27/27 [==============================] - 0s 5ms/step - loss: 5.2848e-06 - accuracy: 1.0000\n",
      "Epoch 69/100\n",
      "27/27 [==============================] - 0s 4ms/step - loss: 4.8659e-06 - accuracy: 1.0000\n",
      "Epoch 70/100\n",
      "27/27 [==============================] - 0s 5ms/step - loss: 5.0880e-06 - accuracy: 1.0000\n",
      "Epoch 71/100\n",
      "27/27 [==============================] - 0s 5ms/step - loss: 4.9763e-06 - accuracy: 1.0000\n",
      "Epoch 72/100\n",
      "27/27 [==============================] - 0s 5ms/step - loss: 4.9502e-06 - accuracy: 1.0000\n",
      "Epoch 73/100\n",
      "27/27 [==============================] - 0s 5ms/step - loss: 4.0650e-06 - accuracy: 1.0000\n",
      "Epoch 74/100\n",
      "27/27 [==============================] - 0s 5ms/step - loss: 4.7111e-06 - accuracy: 1.0000\n",
      "Epoch 75/100\n",
      "27/27 [==============================] - 0s 5ms/step - loss: 4.5007e-06 - accuracy: 1.0000\n",
      "Epoch 76/100\n",
      "27/27 [==============================] - 0s 5ms/step - loss: 3.8840e-06 - accuracy: 1.0000\n",
      "Epoch 77/100\n",
      "27/27 [==============================] - 0s 5ms/step - loss: 3.8531e-06 - accuracy: 1.0000\n",
      "Epoch 78/100\n",
      "27/27 [==============================] - 0s 5ms/step - loss: 3.2983e-06 - accuracy: 1.0000\n",
      "Epoch 79/100\n",
      "27/27 [==============================] - 0s 5ms/step - loss: 2.8681e-06 - accuracy: 1.0000\n",
      "Epoch 80/100\n"
     ]
    },
    {
     "name": "stdout",
     "output_type": "stream",
     "text": [
      "27/27 [==============================] - 0s 5ms/step - loss: 3.1869e-06 - accuracy: 1.0000\n",
      "Epoch 81/100\n",
      "27/27 [==============================] - 0s 5ms/step - loss: 3.7902e-06 - accuracy: 1.0000\n",
      "Epoch 82/100\n",
      "27/27 [==============================] - 0s 5ms/step - loss: 2.5693e-06 - accuracy: 1.0000\n",
      "Epoch 83/100\n",
      "27/27 [==============================] - 0s 4ms/step - loss: 3.5320e-06 - accuracy: 1.0000\n",
      "Epoch 84/100\n",
      "27/27 [==============================] - 0s 5ms/step - loss: 3.3260e-06 - accuracy: 1.0000\n",
      "Epoch 85/100\n",
      "27/27 [==============================] - 0s 5ms/step - loss: 2.4038e-06 - accuracy: 1.0000\n",
      "Epoch 86/100\n",
      "27/27 [==============================] - 0s 5ms/step - loss: 2.2438e-06 - accuracy: 1.0000\n",
      "Epoch 87/100\n",
      "27/27 [==============================] - 0s 5ms/step - loss: 2.6068e-06 - accuracy: 1.0000\n",
      "Epoch 88/100\n",
      "27/27 [==============================] - 0s 5ms/step - loss: 2.2495e-06 - accuracy: 1.0000\n",
      "Epoch 89/100\n",
      "27/27 [==============================] - 0s 5ms/step - loss: 2.7745e-06 - accuracy: 1.0000\n",
      "Epoch 90/100\n",
      "27/27 [==============================] - 0s 5ms/step - loss: 2.5296e-06 - accuracy: 1.0000\n",
      "Epoch 91/100\n",
      "27/27 [==============================] - 0s 5ms/step - loss: 2.3012e-06 - accuracy: 1.0000\n",
      "Epoch 92/100\n",
      "27/27 [==============================] - 0s 4ms/step - loss: 2.4303e-06 - accuracy: 1.0000\n",
      "Epoch 93/100\n",
      "27/27 [==============================] - 0s 4ms/step - loss: 2.5484e-06 - accuracy: 1.0000\n",
      "Epoch 94/100\n",
      "27/27 [==============================] - 0s 5ms/step - loss: 2.4762e-06 - accuracy: 1.0000\n",
      "Epoch 95/100\n",
      "27/27 [==============================] - 0s 5ms/step - loss: 1.8997e-06 - accuracy: 1.0000\n",
      "Epoch 96/100\n",
      "27/27 [==============================] - 0s 5ms/step - loss: 2.1317e-06 - accuracy: 1.0000\n",
      "Epoch 97/100\n",
      "27/27 [==============================] - 0s 5ms/step - loss: 2.6015e-06 - accuracy: 1.0000\n",
      "Epoch 98/100\n",
      "27/27 [==============================] - 0s 5ms/step - loss: 2.6817e-06 - accuracy: 1.0000\n",
      "Epoch 99/100\n",
      "27/27 [==============================] - 0s 5ms/step - loss: 1.8429e-06 - accuracy: 1.0000\n",
      "Epoch 100/100\n",
      "27/27 [==============================] - 0s 5ms/step - loss: 1.6612e-06 - accuracy: 1.0000\n"
     ]
    }
   ],
   "source": [
    "history = model.fit(X_train, y_train, epochs = 100, verbose=1)"
   ]
  },
  {
   "cell_type": "code",
   "execution_count": 187,
   "id": "ranging-wonder",
   "metadata": {
    "scrolled": true
   },
   "outputs": [
    {
     "data": {
      "text/plain": [
       "[Text(0.5, 0, 'epoch'), Text(0, 0.5, 'training accuracy')]"
      ]
     },
     "execution_count": 187,
     "metadata": {},
     "output_type": "execute_result"
    },
    {
     "data": {
      "image/png": "[encoded data removed]",
      "text/plain": [
       "<Figure size 432x288 with 1 Axes>"
      ]
     },
     "metadata": {
      "needs_background": "light"
     },
     "output_type": "display_data"
    }
   ],
   "source": [
    "plt.plot(history.history[\"accuracy\"])\n",
    "plt.gca().set(xlabel = \"epoch\", ylabel = \"training accuracy\")"
   ]
  },
  {
   "cell_type": "code",
   "execution_count": 188,
   "id": "handled-appeal",
   "metadata": {
    "scrolled": true
   },
   "outputs": [
    {
     "name": "stdout",
     "output_type": "stream",
     "text": [
      "12/12 - 0s - loss: 5.4237 - accuracy: 0.7099\n"
     ]
    },
    {
     "data": {
      "text/plain": [
       "[5.4236907958984375, 0.7099447250366211]"
      ]
     },
     "execution_count": 188,
     "metadata": {},
     "output_type": "execute_result"
    }
   ],
   "source": [
    "model.evaluate(X_test, y_test, verbose = 2)"
   ]
  },
  {
   "cell_type": "markdown",
   "id": "refined-stylus",
   "metadata": {},
   "source": [
    "### GAN"
   ]
  },
  {
   "cell_type": "code",
   "execution_count": 79,
   "id": "turkish-ceramic",
   "metadata": {},
   "outputs": [],
   "source": [
    "def make_discriminator_model():\n",
    "    \n",
    "    model = tf.keras.Sequential()\n",
    "    model.add(tf.keras.layers.Conv2D(64, (2048,) , strides=(2, 2), padding='same'))\n",
    "    model.add(tf.keras.layers.LeakyReLU())\n",
    "    model.add(tf.keras.layers.Dropout(0.3))\n",
    "      \n",
    "    #model.add(tf.keras.layers.Conv2D(128, (5, 5), strides=(2, 2), padding='same'))\n",
    "    #model.add(tf.keras.layers.LeakyReLU())\n",
    "    #model.add(tf.keras.layers.Dropout(0.3))\n",
    "       \n",
    "    model.add(tf.keras.layers.Flatten())\n",
    "    model.add(tf.keras.layers.Dense(1))\n",
    "     \n",
    "    return model"
   ]
  },
  {
   "cell_type": "markdown",
   "id": "pleased-disclaimer",
   "metadata": {},
   "source": [
    "## Graph CNN"
   ]
  },
  {
   "cell_type": "code",
   "execution_count": 128,
   "id": "reverse-company",
   "metadata": {},
   "outputs": [],
   "source": [
    "import torch"
   ]
  },
  {
   "cell_type": "code",
   "execution_count": 111,
   "id": "unable-transfer",
   "metadata": {},
   "outputs": [],
   "source": [
    "import dgllife"
   ]
  },
  {
   "cell_type": "code",
   "execution_count": 113,
   "id": "coastal-consideration",
   "metadata": {},
   "outputs": [],
   "source": [
    "from dgllife.utils import mol_to_complete_graph,smiles_to_complete_graph\n",
    "from dgllife.utils import smiles_to_bigraph, CanonicalAtomFeaturizer, CanonicalBondFeaturizer\n",
    "from dgllife.utils import *"
   ]
  },
  {
   "cell_type": "code",
   "execution_count": 112,
   "id": "opponent-attachment",
   "metadata": {},
   "outputs": [
    {
     "name": "stdout",
     "output_type": "stream",
     "text": [
      "Graph(num_nodes=3, num_edges=4,\n",
      "      ndata_schemes={}\n",
      "      edata_schemes={})\n"
     ]
    }
   ],
   "source": [
    "g = dgllife.utils.smiles_to_bigraph('CCO')\n",
    "print(g)"
   ]
  },
  {
   "cell_type": "code",
   "execution_count": 140,
   "id": "becoming-filter",
   "metadata": {},
   "outputs": [],
   "source": [
    "mols=[Chem.MolFromSmiles(x) for x in ihbt_['smiles']]"
   ]
  },
  {
   "cell_type": "code",
   "execution_count": 149,
   "id": "scenic-description",
   "metadata": {},
   "outputs": [],
   "source": [
    "from functools import partial"
   ]
  },
  {
   "cell_type": "code",
   "execution_count": 145,
   "id": "assured-chinese",
   "metadata": {},
   "outputs": [],
   "source": [
    "def featurize_atoms(mol):\n",
    "    feats = []\n",
    "    for atom in mol.GetAtoms():\n",
    "        feats.append(atom.GetAtomicNum())\n",
    "    return {'atomic': torch.tensor(feats).reshape(-1, 1).float()}"
   ]
  },
  {
   "cell_type": "code",
   "execution_count": 159,
   "id": "julian-furniture",
   "metadata": {},
   "outputs": [],
   "source": [
    "def featurize_edges(mol, add_self_loop=False):\n",
    "    feats = []\n",
    "    num_atoms = mol.GetNumAtoms()\n",
    "    atoms = list(mol.GetAtoms())\n",
    "    CanonicalBondFeaturizer(bond_data_field='feat')\n",
    "    #distance_matrix = Chem.GetDistanceMatrix(mol)\n",
    "    #for i in range(num_atoms):\n",
    "        #for j in range(num_atoms):\n",
    "            #if i != j or add_self_loop:\n",
    "                feats.append(float(distance_matrix[i, j]))\n",
    "    return {'dist': torch.tensor(feats).reshape(-1, 1).float()}"
   ]
  },
  {
   "cell_type": "code",
   "execution_count": 160,
   "id": "according-system",
   "metadata": {},
   "outputs": [],
   "source": [
    "mol = Chem.MolFromSmiles('C1COCCN1C(=O)CSC2=NNC(=N2)C3=CC=CC=C3')\n",
    "#add_self_loop = True \n",
    "g = mol_to_complete_graph(\n",
    "         mol, add_self_loop=True, node_featurizer=featurize_atoms,\n",
    "         edge_featurizer=partial(featurize_edges, add_self_loop=True))"
   ]
  },
  {
   "cell_type": "code",
   "execution_count": 168,
   "id": "perfect-joint",
   "metadata": {
    "scrolled": true
   },
   "outputs": [
    {
     "data": {
      "text/plain": [
       "Graph(num_nodes=21, num_edges=441,\n",
       "      ndata_schemes={'atomic': Scheme(shape=(1,), dtype=torch.float32)}\n",
       "      edata_schemes={'dist': Scheme(shape=(1,), dtype=torch.float32)})"
      ]
     },
     "execution_count": 168,
     "metadata": {},
     "output_type": "execute_result"
    }
   ],
   "source": [
    "g"
   ]
  },
  {
   "cell_type": "markdown",
   "id": "pressing-thanksgiving",
   "metadata": {},
   "source": [
    "### Future steps\n",
    "\n",
    "- improve the performance of the dense layer model(train it with a complete dataset)\n",
    "- find a way to input the dgl graph object into GCN\n",
    "- create the generator of the generative adversial network"
   ]
  },
  {
   "cell_type": "code",
   "execution_count": 109,
   "id": "threatened-behavior",
   "metadata": {
    "scrolled": false
   },
   "outputs": [
    {
     "ename": "NameError",
     "evalue": "name 'atom_featurizer' is not defined",
     "output_type": "error",
     "traceback": [
      "\u001b[0;31m---------------------------------------------------------------------------\u001b[0m",
      "\u001b[0;31mNameError\u001b[0m                                 Traceback (most recent call last)",
      "\u001b[0;32m<ipython-input-109-cf052f5b5c73>\u001b[0m in \u001b[0;36m<module>\u001b[0;34m\u001b[0m\n\u001b[1;32m      2\u001b[0m \u001b[0mnode_featurizer\u001b[0m \u001b[0;34m=\u001b[0m \u001b[0mCanonicalAtomFeaturizer\u001b[0m\u001b[0;34m(\u001b[0m\u001b[0matom_data_field\u001b[0m\u001b[0;34m=\u001b[0m\u001b[0;34m'h'\u001b[0m\u001b[0;34m)\u001b[0m\u001b[0;34m\u001b[0m\u001b[0;34m\u001b[0m\u001b[0m\n\u001b[1;32m      3\u001b[0m \u001b[0medge_featurizer\u001b[0m \u001b[0;34m=\u001b[0m \u001b[0mCanonicalBondFeaturizer\u001b[0m\u001b[0;34m(\u001b[0m\u001b[0mbond_data_field\u001b[0m\u001b[0;34m=\u001b[0m\u001b[0;34m'h'\u001b[0m\u001b[0;34m)\u001b[0m\u001b[0;34m\u001b[0m\u001b[0;34m\u001b[0m\u001b[0m\n\u001b[0;32m----> 4\u001b[0;31m \u001b[0m_feats\u001b[0m \u001b[0;34m=\u001b[0m \u001b[0matom_featurizer\u001b[0m\u001b[0;34m.\u001b[0m\u001b[0mfeat_size\u001b[0m\u001b[0;34m(\u001b[0m\u001b[0;34m'h'\u001b[0m\u001b[0;34m)\u001b[0m\u001b[0;34m\u001b[0m\u001b[0;34m\u001b[0m\u001b[0m\n\u001b[0m\u001b[1;32m      5\u001b[0m \u001b[0;31m#train_x= [mol_to_complete_graph(m, node_featurizer=node_featurizer) for m in mols]\u001b[0m\u001b[0;34m\u001b[0m\u001b[0;34m\u001b[0m\u001b[0;34m\u001b[0m\u001b[0m\n\u001b[1;32m      6\u001b[0m \u001b[0;31m#train_y = np.array(df['activity'])\u001b[0m\u001b[0;34m\u001b[0m\u001b[0;34m\u001b[0m\u001b[0;34m\u001b[0m\u001b[0m\n",
      "\u001b[0;31mNameError\u001b[0m: name 'atom_featurizer' is not defined"
     ]
    }
   ],
   "source": [
    "mols=[Chem.MolFromSmiles(x) for x in ihbt_['smiles']]\n",
    "node_featurizer = CanonicalAtomFeaturizer(atom_data_field='h')\n",
    "edge_featurizer = CanonicalBondFeaturizer(bond_data_field='h')\n",
    "_feats = atom_featurizer.feat_size('h')\n",
    "#train_x= [mol_to_complete_graph(m, node_featurizer=node_featurizer) for m in mols]\n",
    "#train_y = np.array(df['activity'])\n",
    "#train_y = np.array(train_y, dtype=np.int64)\n",
    "\n"
   ]
  },
  {
   "cell_type": "code",
   "execution_count": 175,
   "id": "aware-count",
   "metadata": {},
   "outputs": [],
   "source": [
    "import deepchem as dc"
   ]
  },
  {
   "cell_type": "code",
   "execution_count": 176,
   "id": "weird-roads",
   "metadata": {},
   "outputs": [],
   "source": [
    "smiles = [\"C1CCC1\", \"C1=CC=CN=C1\"]\n",
    "featurizer = dc.feat.MolGraphConvFeaturizer(use_edges=True)\n",
    "out = featurizer.featurize(smiles)"
   ]
  },
  {
   "cell_type": "code",
   "execution_count": 182,
   "id": "hollow-paint",
   "metadata": {},
   "outputs": [
    {
     "data": {
      "text/plain": [
       "array([<deepchem.feat.graph_data.GraphData object at 0x7fee70856850>,\n",
       "       <deepchem.feat.graph_data.GraphData object at 0x7fee996b3f10>],\n",
       "      dtype=object)"
      ]
     },
     "execution_count": 182,
     "metadata": {},
     "output_type": "execute_result"
    }
   ],
   "source": [
    "out"
   ]
  },
  {
   "cell_type": "code",
   "execution_count": 172,
   "id": "alternate-wiring",
   "metadata": {},
   "outputs": [
    {
     "ename": "DGLError",
     "evalue": "Expect number of features to match number of edges. Got 46 and 420 instead.",
     "output_type": "error",
     "traceback": [
      "\u001b[0;31m---------------------------------------------------------------------------\u001b[0m",
      "\u001b[0;31mDGLError\u001b[0m                                  Traceback (most recent call last)",
      "\u001b[0;32m<ipython-input-172-0be8fe0ef69b>\u001b[0m in \u001b[0;36m<module>\u001b[0;34m\u001b[0m\n\u001b[1;32m      3\u001b[0m \u001b[0;31m#edge_featurizer = CanonicalAtomFeaturizer(atom_data_field='feat')\u001b[0m\u001b[0;34m\u001b[0m\u001b[0;34m\u001b[0m\u001b[0;34m\u001b[0m\u001b[0m\n\u001b[1;32m      4\u001b[0m \u001b[0;31m#n_feats = atom_featurizer.feat_size('h')\u001b[0m\u001b[0;34m\u001b[0m\u001b[0;34m\u001b[0m\u001b[0;34m\u001b[0m\u001b[0m\n\u001b[0;32m----> 5\u001b[0;31m \u001b[0mtrain_g\u001b[0m \u001b[0;34m=\u001b[0m \u001b[0;34m[\u001b[0m\u001b[0mmol_to_complete_graph\u001b[0m\u001b[0;34m(\u001b[0m\u001b[0mm\u001b[0m\u001b[0;34m,\u001b[0m \u001b[0mnode_featurizer\u001b[0m\u001b[0;34m=\u001b[0m\u001b[0matom_featurizer\u001b[0m\u001b[0;34m,\u001b[0m \u001b[0medge_featurizer\u001b[0m\u001b[0;34m=\u001b[0m\u001b[0mbond_featurizer\u001b[0m\u001b[0;34m)\u001b[0m \u001b[0;32mfor\u001b[0m \u001b[0mm\u001b[0m \u001b[0;32min\u001b[0m \u001b[0mmols\u001b[0m\u001b[0;34m]\u001b[0m\u001b[0;34m\u001b[0m\u001b[0;34m\u001b[0m\u001b[0m\n\u001b[0m\u001b[1;32m      6\u001b[0m \u001b[0;34m\u001b[0m\u001b[0m\n",
      "\u001b[0;32m<ipython-input-172-0be8fe0ef69b>\u001b[0m in \u001b[0;36m<listcomp>\u001b[0;34m(.0)\u001b[0m\n\u001b[1;32m      3\u001b[0m \u001b[0;31m#edge_featurizer = CanonicalAtomFeaturizer(atom_data_field='feat')\u001b[0m\u001b[0;34m\u001b[0m\u001b[0;34m\u001b[0m\u001b[0;34m\u001b[0m\u001b[0m\n\u001b[1;32m      4\u001b[0m \u001b[0;31m#n_feats = atom_featurizer.feat_size('h')\u001b[0m\u001b[0;34m\u001b[0m\u001b[0;34m\u001b[0m\u001b[0;34m\u001b[0m\u001b[0m\n\u001b[0;32m----> 5\u001b[0;31m \u001b[0mtrain_g\u001b[0m \u001b[0;34m=\u001b[0m \u001b[0;34m[\u001b[0m\u001b[0mmol_to_complete_graph\u001b[0m\u001b[0;34m(\u001b[0m\u001b[0mm\u001b[0m\u001b[0;34m,\u001b[0m \u001b[0mnode_featurizer\u001b[0m\u001b[0;34m=\u001b[0m\u001b[0matom_featurizer\u001b[0m\u001b[0;34m,\u001b[0m \u001b[0medge_featurizer\u001b[0m\u001b[0;34m=\u001b[0m\u001b[0mbond_featurizer\u001b[0m\u001b[0;34m)\u001b[0m \u001b[0;32mfor\u001b[0m \u001b[0mm\u001b[0m \u001b[0;32min\u001b[0m \u001b[0mmols\u001b[0m\u001b[0;34m]\u001b[0m\u001b[0;34m\u001b[0m\u001b[0;34m\u001b[0m\u001b[0m\n\u001b[0m\u001b[1;32m      6\u001b[0m \u001b[0;34m\u001b[0m\u001b[0m\n",
      "\u001b[0;32m~/opt/anaconda3/envs/my-rdkit-env/lib/python3.7/site-packages/dgllife/utils/mol_to_graph.py\u001b[0m in \u001b[0;36mmol_to_complete_graph\u001b[0;34m(mol, add_self_loop, node_featurizer, edge_featurizer, canonical_atom_order, explicit_hydrogens, num_virtual_nodes)\u001b[0m\n\u001b[1;32m    513\u001b[0m                         \u001b[0mpartial\u001b[0m\u001b[0;34m(\u001b[0m\u001b[0mconstruct_complete_graph_from_mol\u001b[0m\u001b[0;34m,\u001b[0m \u001b[0madd_self_loop\u001b[0m\u001b[0;34m=\u001b[0m\u001b[0madd_self_loop\u001b[0m\u001b[0;34m)\u001b[0m\u001b[0;34m,\u001b[0m\u001b[0;34m\u001b[0m\u001b[0;34m\u001b[0m\u001b[0m\n\u001b[1;32m    514\u001b[0m                         \u001b[0mnode_featurizer\u001b[0m\u001b[0;34m,\u001b[0m \u001b[0medge_featurizer\u001b[0m\u001b[0;34m,\u001b[0m\u001b[0;34m\u001b[0m\u001b[0;34m\u001b[0m\u001b[0m\n\u001b[0;32m--> 515\u001b[0;31m                         canonical_atom_order, explicit_hydrogens, num_virtual_nodes)\n\u001b[0m\u001b[1;32m    516\u001b[0m \u001b[0;34m\u001b[0m\u001b[0m\n\u001b[1;32m    517\u001b[0m def smiles_to_complete_graph(smiles, add_self_loop=False,\n",
      "\u001b[0;32m~/opt/anaconda3/envs/my-rdkit-env/lib/python3.7/site-packages/dgllife/utils/mol_to_graph.py\u001b[0m in \u001b[0;36mmol_to_graph\u001b[0;34m(mol, graph_constructor, node_featurizer, edge_featurizer, canonical_atom_order, explicit_hydrogens, num_virtual_nodes)\u001b[0m\n\u001b[1;32m     86\u001b[0m \u001b[0;34m\u001b[0m\u001b[0m\n\u001b[1;32m     87\u001b[0m     \u001b[0;32mif\u001b[0m \u001b[0medge_featurizer\u001b[0m \u001b[0;32mis\u001b[0m \u001b[0;32mnot\u001b[0m \u001b[0;32mNone\u001b[0m\u001b[0;34m:\u001b[0m\u001b[0;34m\u001b[0m\u001b[0;34m\u001b[0m\u001b[0m\n\u001b[0;32m---> 88\u001b[0;31m         \u001b[0mg\u001b[0m\u001b[0;34m.\u001b[0m\u001b[0medata\u001b[0m\u001b[0;34m.\u001b[0m\u001b[0mupdate\u001b[0m\u001b[0;34m(\u001b[0m\u001b[0medge_featurizer\u001b[0m\u001b[0;34m(\u001b[0m\u001b[0mmol\u001b[0m\u001b[0;34m)\u001b[0m\u001b[0;34m)\u001b[0m\u001b[0;34m\u001b[0m\u001b[0;34m\u001b[0m\u001b[0m\n\u001b[0m\u001b[1;32m     89\u001b[0m \u001b[0;34m\u001b[0m\u001b[0m\n\u001b[1;32m     90\u001b[0m     \u001b[0;32mif\u001b[0m \u001b[0mnum_virtual_nodes\u001b[0m \u001b[0;34m>\u001b[0m \u001b[0;36m0\u001b[0m\u001b[0;34m:\u001b[0m\u001b[0;34m\u001b[0m\u001b[0;34m\u001b[0m\u001b[0m\n",
      "\u001b[0;32m~/opt/anaconda3/envs/my-rdkit-env/lib/python3.7/_collections_abc.py\u001b[0m in \u001b[0;36mupdate\u001b[0;34m(*args, **kwds)\u001b[0m\n\u001b[1;32m    839\u001b[0m             \u001b[0;32mif\u001b[0m \u001b[0misinstance\u001b[0m\u001b[0;34m(\u001b[0m\u001b[0mother\u001b[0m\u001b[0;34m,\u001b[0m \u001b[0mMapping\u001b[0m\u001b[0;34m)\u001b[0m\u001b[0;34m:\u001b[0m\u001b[0;34m\u001b[0m\u001b[0;34m\u001b[0m\u001b[0m\n\u001b[1;32m    840\u001b[0m                 \u001b[0;32mfor\u001b[0m \u001b[0mkey\u001b[0m \u001b[0;32min\u001b[0m \u001b[0mother\u001b[0m\u001b[0;34m:\u001b[0m\u001b[0;34m\u001b[0m\u001b[0;34m\u001b[0m\u001b[0m\n\u001b[0;32m--> 841\u001b[0;31m                     \u001b[0mself\u001b[0m\u001b[0;34m[\u001b[0m\u001b[0mkey\u001b[0m\u001b[0;34m]\u001b[0m \u001b[0;34m=\u001b[0m \u001b[0mother\u001b[0m\u001b[0;34m[\u001b[0m\u001b[0mkey\u001b[0m\u001b[0;34m]\u001b[0m\u001b[0;34m\u001b[0m\u001b[0;34m\u001b[0m\u001b[0m\n\u001b[0m\u001b[1;32m    842\u001b[0m             \u001b[0;32melif\u001b[0m \u001b[0mhasattr\u001b[0m\u001b[0;34m(\u001b[0m\u001b[0mother\u001b[0m\u001b[0;34m,\u001b[0m \u001b[0;34m\"keys\"\u001b[0m\u001b[0;34m)\u001b[0m\u001b[0;34m:\u001b[0m\u001b[0;34m\u001b[0m\u001b[0;34m\u001b[0m\u001b[0m\n\u001b[1;32m    843\u001b[0m                 \u001b[0;32mfor\u001b[0m \u001b[0mkey\u001b[0m \u001b[0;32min\u001b[0m \u001b[0mother\u001b[0m\u001b[0;34m.\u001b[0m\u001b[0mkeys\u001b[0m\u001b[0;34m(\u001b[0m\u001b[0;34m)\u001b[0m\u001b[0;34m:\u001b[0m\u001b[0;34m\u001b[0m\u001b[0;34m\u001b[0m\u001b[0m\n",
      "\u001b[0;32m~/opt/anaconda3/envs/my-rdkit-env/lib/python3.7/site-packages/dgl/view.py\u001b[0m in \u001b[0;36m__setitem__\u001b[0;34m(self, key, val)\u001b[0m\n\u001b[1;32m    194\u001b[0m                 \u001b[0;34m'The HeteroEdgeDataView has only one edge type. '\u001b[0m\u001b[0;31m \u001b[0m\u001b[0;31m\\\u001b[0m\u001b[0;34m\u001b[0m\u001b[0;34m\u001b[0m\u001b[0m\n\u001b[1;32m    195\u001b[0m                 \u001b[0;34m'please pass a tensor directly'\u001b[0m\u001b[0;34m\u001b[0m\u001b[0;34m\u001b[0m\u001b[0m\n\u001b[0;32m--> 196\u001b[0;31m             \u001b[0mself\u001b[0m\u001b[0;34m.\u001b[0m\u001b[0m_graph\u001b[0m\u001b[0;34m.\u001b[0m\u001b[0m_set_e_repr\u001b[0m\u001b[0;34m(\u001b[0m\u001b[0mself\u001b[0m\u001b[0;34m.\u001b[0m\u001b[0m_etid\u001b[0m\u001b[0;34m,\u001b[0m \u001b[0mself\u001b[0m\u001b[0;34m.\u001b[0m\u001b[0m_edges\u001b[0m\u001b[0;34m,\u001b[0m \u001b[0;34m{\u001b[0m\u001b[0mkey\u001b[0m \u001b[0;34m:\u001b[0m \u001b[0mval\u001b[0m\u001b[0;34m}\u001b[0m\u001b[0;34m)\u001b[0m\u001b[0;34m\u001b[0m\u001b[0;34m\u001b[0m\u001b[0m\n\u001b[0m\u001b[1;32m    197\u001b[0m \u001b[0;34m\u001b[0m\u001b[0m\n\u001b[1;32m    198\u001b[0m     \u001b[0;32mdef\u001b[0m \u001b[0m__delitem__\u001b[0m\u001b[0;34m(\u001b[0m\u001b[0mself\u001b[0m\u001b[0;34m,\u001b[0m \u001b[0mkey\u001b[0m\u001b[0;34m)\u001b[0m\u001b[0;34m:\u001b[0m\u001b[0;34m\u001b[0m\u001b[0;34m\u001b[0m\u001b[0m\n",
      "\u001b[0;32m~/opt/anaconda3/envs/my-rdkit-env/lib/python3.7/site-packages/dgl/heterograph.py\u001b[0m in \u001b[0;36m_set_e_repr\u001b[0;34m(self, etid, edges, data)\u001b[0m\n\u001b[1;32m   4083\u001b[0m             \u001b[0;32mif\u001b[0m \u001b[0mnfeats\u001b[0m \u001b[0;34m!=\u001b[0m \u001b[0mnum_edges\u001b[0m\u001b[0;34m:\u001b[0m\u001b[0;34m\u001b[0m\u001b[0;34m\u001b[0m\u001b[0m\n\u001b[1;32m   4084\u001b[0m                 raise DGLError('Expect number of features to match number of edges.'\n\u001b[0;32m-> 4085\u001b[0;31m                                ' Got %d and %d instead.' % (nfeats, num_edges))\n\u001b[0m\u001b[1;32m   4086\u001b[0m             \u001b[0;32mif\u001b[0m \u001b[0mF\u001b[0m\u001b[0;34m.\u001b[0m\u001b[0mcontext\u001b[0m\u001b[0;34m(\u001b[0m\u001b[0mval\u001b[0m\u001b[0;34m)\u001b[0m \u001b[0;34m!=\u001b[0m \u001b[0mself\u001b[0m\u001b[0;34m.\u001b[0m\u001b[0mdevice\u001b[0m\u001b[0;34m:\u001b[0m\u001b[0;34m\u001b[0m\u001b[0;34m\u001b[0m\u001b[0m\n\u001b[1;32m   4087\u001b[0m                 raise DGLError('Cannot assign edge feature \"{}\" on device {} to a graph on'\n",
      "\u001b[0;31mDGLError\u001b[0m: Expect number of features to match number of edges. Got 46 and 420 instead."
     ]
    }
   ],
   "source": [
    "atom_featurizer = CanonicalAtomFeaturizer(atom_data_field='feat')\n",
    "bond_featurizer = CanonicalBondFeaturizer(bond_data_field='feat')\n",
    "#edge_featurizer = CanonicalAtomFeaturizer(atom_data_field='feat')\n",
    "#n_feats = atom_featurizer.feat_size('h')\n",
    "train_g = [mol_to_complete_graph(m, node_featurizer=atom_featurizer, edge_featurizer=bond_featurizer) for m in mols]\n",
    "\n"
   ]
  },
  {
   "cell_type": "code",
   "execution_count": 171,
   "id": "paperback-satellite",
   "metadata": {
    "scrolled": true
   },
   "outputs": [
    {
     "data": {
      "text/plain": [
       "Graph(num_nodes=21, num_edges=420,\n",
       "      ndata_schemes={'h': Scheme(shape=(74,), dtype=torch.float32)}\n",
       "      edata_schemes={})"
      ]
     },
     "execution_count": 171,
     "metadata": {},
     "output_type": "execute_result"
    }
   ],
   "source": [
    "train_g[0]"
   ]
  },
  {
   "cell_type": "code",
   "execution_count": null,
   "id": "front-mortality",
   "metadata": {},
   "outputs": [],
   "source": []
  },
  {
   "cell_type": "code",
   "execution_count": null,
   "id": "sexual-force",
   "metadata": {},
   "outputs": [],
   "source": []
  },
  {
   "cell_type": "code",
   "execution_count": 135,
   "id": "exciting-quest",
   "metadata": {},
   "outputs": [],
   "source": [
    "#cat = tf.train_g[0].ndata\n",
    "#pytorch_tensor = train_g[0].ndata\n",
    "#np_tensor = pytorch_tensor.numpy()\n",
    "#tf_tensor = tf.convert_to_tensor(np_tensor)"
   ]
  },
  {
   "cell_type": "code",
   "execution_count": 115,
   "id": "pressing-chuck",
   "metadata": {},
   "outputs": [
    {
     "data": {
      "text/plain": [
       "Graph(num_nodes=21, num_edges=420,\n",
       "      ndata_schemes={}\n",
       "      edata_schemes={})"
      ]
     },
     "execution_count": 115,
     "metadata": {},
     "output_type": "execute_result"
    }
   ],
   "source": [
    "smiles_to_complete_graph('C1COCCN1C(=O)CSC2=NNC(=N2)C3=CC=CC=C3')"
   ]
  },
  {
   "cell_type": "code",
   "execution_count": 116,
   "id": "median-union",
   "metadata": {},
   "outputs": [
    {
     "data": {
      "text/plain": [
       "Graph(num_nodes=16, num_edges=240,\n",
       "      ndata_schemes={}\n",
       "      edata_schemes={})"
      ]
     },
     "execution_count": 116,
     "metadata": {},
     "output_type": "execute_result"
    }
   ],
   "source": [
    "smiles_to_complete_graph('CC1=CC2=C(C=C1)OC(=O)N2CC(=O)OC')"
   ]
  },
  {
   "cell_type": "code",
   "execution_count": null,
   "id": "official-helicopter",
   "metadata": {},
   "outputs": [],
   "source": []
  },
  {
   "cell_type": "code",
   "execution_count": null,
   "id": "recognized-mystery",
   "metadata": {},
   "outputs": [],
   "source": []
  },
  {
   "cell_type": "code",
   "execution_count": null,
   "id": "introductory-restaurant",
   "metadata": {},
   "outputs": [],
   "source": []
  },
  {
   "cell_type": "code",
   "execution_count": null,
   "id": "reasonable-myanmar",
   "metadata": {},
   "outputs": [],
   "source": []
  },
  {
   "cell_type": "code",
   "execution_count": 15,
   "id": "adjusted-control",
   "metadata": {},
   "outputs": [],
   "source": [
    "trainX = np.array([mol2arr(mol) for mol in mols])\n",
    "#trainY = [sol_class[mol.GetProp(\"SOL_classification\")] for mol in train_mols]\n",
    "#trainY = np_utils.to_categorical(trainY)\n",
    " \n",
    "#testX = np.array([mol2arr(mol) for mol in test_mols])\n",
    "#testY = [sol_class[mol.GetProp(\"SOL_classification\")] for mol in test_mols]\n",
    "#testY = np_utils.to_categorical(testY)\n"
   ]
  },
  {
   "cell_type": "code",
   "execution_count": null,
   "id": "solid-dress",
   "metadata": {},
   "outputs": [],
   "source": [
    "pip uninstall dgl -y"
   ]
  },
  {
   "cell_type": "code",
   "execution_count": null,
   "id": "enormous-idaho",
   "metadata": {},
   "outputs": [],
   "source": []
  }
 ],
 "metadata": {
  "kernelspec": {
   "display_name": "Python [conda env:my-rdkit-env] *",
   "language": "python",
   "name": "conda-env-my-rdkit-env-py"
  },
  "language_info": {
   "codemirror_mode": {
    "name": "ipython",
    "version": 3
   },
   "file_extension": ".py",
   "mimetype": "text/x-python",
   "name": "python",
   "nbconvert_exporter": "python",
   "pygments_lexer": "ipython3",
   "version": "3.7.10"
  }
 },
 "nbformat": 4,
 "nbformat_minor": 5
}
