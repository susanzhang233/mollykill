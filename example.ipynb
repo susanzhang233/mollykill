{
 "cells": [
  {
   "cell_type": "markdown",
   "metadata": {
    "id": "eZBVPeV6pur-"
   },
   "source": [
    "## Setup\n"
   ]
  },
  {
   "cell_type": "markdown",
   "metadata": {},
   "source": [
    "If you are running this generator locally(i.e. in a jupyter notebook in conda, just make sure you installed:\n",
    "- RDKit\n",
    "- DeepChem 2.5.0 & above\n",
    "- Tensorflow 2.4.0 & above\n",
    "\n",
    "Then, please skip the following part and continue from `Data Preparations`."
   ]
  },
  {
   "cell_type": "markdown",
   "metadata": {},
   "source": [
    "To increase efficiency, we recommend running this molecule generator in Colab.\n",
    "\n",
    "Then, we'll first need to run the following lines of code, these will download conda with the deepchem environment in colab."
   ]
  },
  {
   "cell_type": "code",
   "execution_count": 1,
   "metadata": {
    "colab": {
     "base_uri": "https://localhost:8080/"
    },
    "id": "QHjHpULnjkWh",
    "outputId": "58751773-cbdc-4069-a6c0-fc385a98c62c"
   },
   "outputs": [],
   "source": [
    "#!curl -Lo conda_installer.py https://raw.githubusercontent.com/deepchem/deepchem/master/scripts/colab_install.py\n",
    "#import conda_installer\n",
    "#conda_installer.install()\n",
    "#!/root/miniconda/bin/conda info -e"
   ]
  },
  {
   "cell_type": "code",
   "execution_count": 2,
   "metadata": {
    "colab": {
     "base_uri": "https://localhost:8080/",
     "height": 215
    },
    "id": "BPw4CH4ojqHM",
    "outputId": "4dd01c41-a2a3-4aeb-972d-9b19b2c6ebed",
    "scrolled": true
   },
   "outputs": [],
   "source": [
    "#!pip install --pre deepchem\n",
    "#import deepchem\n",
    "#deepchem.__version__"
   ]
  },
  {
   "cell_type": "markdown",
   "metadata": {
    "id": "j4ZsW2TnqHkE"
   },
   "source": [
    "## Data Preparations\n",
    "\n",
    "Now we are ready to import some useful functions/packages, along with our model."
   ]
  },
  {
   "cell_type": "markdown",
   "metadata": {},
   "source": [
    "### Import Data"
   ]
  },
  {
   "cell_type": "code",
   "execution_count": 1,
   "metadata": {
    "id": "zgty1IrNZiIT"
   },
   "outputs": [],
   "source": [
    "import model##our model"
   ]
  },
  {
   "cell_type": "code",
   "execution_count": 2,
   "metadata": {
    "id": "WVXBx9Cdh4T9"
   },
   "outputs": [],
   "source": [
    "from rdkit import Chem\n",
    "from rdkit.Chem import AllChem"
   ]
  },
  {
   "cell_type": "code",
   "execution_count": 3,
   "metadata": {
    "id": "GDVuZH_7rUxP"
   },
   "outputs": [],
   "source": [
    "import pandas as pd\n",
    "import numpy as np\n",
    "import matplotlib.pyplot as plt"
   ]
  },
  {
   "cell_type": "code",
   "execution_count": 4,
   "metadata": {
    "id": "FsmKzTT3jqM8"
   },
   "outputs": [],
   "source": [
    "import deepchem as dc "
   ]
  },
  {
   "cell_type": "markdown",
   "metadata": {
    "id": "fe0qAgyBsIkh"
   },
   "source": [
    "Then, we are ready to import our dataset for training. \n",
    "\n",
    "Here, for demonstration, we'll be using this dataset of in-vitro assay that detects inhibition of SARS-CoV 3CL protease via fluorescence.\n",
    "\n",
    "The dataset is originally from [PubChem AID1706](https://pubchem.ncbi.nlm.nih.gov/bioassay/1706), previously handled by [JClinic AIcure](https://www.aicures.mit.edu/) team at MIT into this [binarized label form](https://github.com/yangkevin2/coronavirus_data/blob/master/data/AID1706_binarized_sars.csv)."
   ]
  },
  {
   "cell_type": "code",
   "execution_count": 5,
   "metadata": {
    "id": "MQxqEQ0ssJ42"
   },
   "outputs": [],
   "source": [
    "df = pd.read_csv('AID1706_binarized_sars.csv')"
   ]
  },
  {
   "cell_type": "markdown",
   "metadata": {
    "id": "wDLKQeFhtLXo"
   },
   "source": [
    "Observe the data above, it contains a 'smiles' column, which stands for the smiles representation of the molecules. There is also an 'activity' column, in which it is the label specifying whether that molecule is considered as hit for the protein.\n",
    "\n",
    "Here, we only need those 405 molecules considered as hits, and we'll be extracting features from them to generate new molecules that may as well be hits."
   ]
  },
  {
   "cell_type": "code",
   "execution_count": 8,
   "metadata": {
    "id": "nj19L4SmN52k"
   },
   "outputs": [],
   "source": [
    "true = df[df['activity']==1]"
   ]
  },
  {
   "cell_type": "markdown",
   "metadata": {},
   "source": [
    "### Set Minimum Length for molecules"
   ]
  },
  {
   "cell_type": "markdown",
   "metadata": {
    "id": "g7qU8glVYaDn"
   },
   "source": [
    "Since we'll be using graphic neural network, it might be more helpful and efficient if our graph data are of the same size, thus, we'll eliminate the molecules from the training set that are shorter(i.e. lacking enough atoms) than our desired minimum size."
   ]
  },
  {
   "cell_type": "code",
   "execution_count": 9,
   "metadata": {},
   "outputs": [],
   "source": [
    "num_atoms = 6 #here the minimum length of molecules is 6"
   ]
  },
  {
   "cell_type": "code",
   "execution_count": 10,
   "metadata": {
    "id": "KDPa7jbhyyY_"
   },
   "outputs": [],
   "source": [
    "input_df = true['smiles']\n",
    "df_length = []\n",
    "for _ in input_df:\n",
    "    df_length.append(Chem.MolFromSmiles(_).GetNumAtoms() )"
   ]
  },
  {
   "cell_type": "code",
   "execution_count": 13,
   "metadata": {
    "id": "DaihIG7rgkAH"
   },
   "outputs": [
    {
     "name": "stderr",
     "output_type": "stream",
     "text": [
      "/Users/feishu/opt/anaconda3/envs/my-rdkit-env/lib/python3.7/site-packages/ipykernel_launcher.py:1: SettingWithCopyWarning: \n",
      "A value is trying to be set on a copy of a slice from a DataFrame.\n",
      "Try using .loc[row_indexer,col_indexer] = value instead\n",
      "\n",
      "See the caveats in the documentation: https://pandas.pydata.org/pandas-docs/stable/user_guide/indexing.html#returning-a-view-versus-a-copy\n",
      "  \"\"\"Entry point for launching an IPython kernel.\n"
     ]
    }
   ],
   "source": [
    "true['length'] = df_length #create a new column containing each molecule's length"
   ]
  },
  {
   "cell_type": "code",
   "execution_count": 14,
   "metadata": {
    "id": "LDmGtQoS1mBA"
   },
   "outputs": [],
   "source": [
    "true = true[true['length']>num_atoms] #Here we leave only the ones longer than 6\n",
    "input_df = true['smiles']\n",
    "input_df_smiles = input_df.apply(Chem.MolFromSmiles) #convert the smiles representations into rdkit molecules\n"
   ]
  },
  {
   "cell_type": "markdown",
   "metadata": {},
   "source": [
    "Now, we are ready to apply the `featurizer` function to our molecules to convert them into graphs with nodes and edges for training."
   ]
  },
  {
   "cell_type": "code",
   "execution_count": 15,
   "metadata": {},
   "outputs": [],
   "source": [
    "#input_df = input_df.apply(Chem.MolFromSmiles) \n",
    "train_set = input_df_smiles.apply( lambda x: model.featurizer(x,max_length = num_atoms))"
   ]
  },
  {
   "cell_type": "code",
   "execution_count": 16,
   "metadata": {},
   "outputs": [
    {
     "data": {
      "text/plain": [
       "0      ([6, 6, 6, 6, 6, 8], [[0, 1, 0, 0, 0, 0], [1, ...\n",
       "1      ([6, 6, 6, 6, 6, 6], [[0, 1, 0, 0, 0, 0], [1, ...\n",
       "2      ([6, 6, 6, 6, 6, 6], [[0, 1, 0, 0, 0, 0], [1, ...\n",
       "3      ([6, 6, 6, 6, 6, 6], [[0, 1, 0, 0, 0, 0], [1, ...\n",
       "4      ([6, 6, 7, 6, 7, 6], [[0, 1, 0, 0, 0, 0], [1, ...\n",
       "                             ...                        \n",
       "400    ([6, 6, 8, 6, 6, 8], [[0, 1, 0, 0, 0, 1], [1, ...\n",
       "401    ([6, 8, 6, 8, 6, 6], [[0, 1, 0, 0, 0, 0], [1, ...\n",
       "402    ([6, 8, 6, 6, 6, 6], [[0, 1, 0, 0, 0, 0], [1, ...\n",
       "403    ([6, 7, 6, 6, 6, 7], [[0, 1, 0, 0, 0, 0], [1, ...\n",
       "404    ([6, 6, 8, 6, 7, 16], [[0, 1, 0, 0, 1, 0], [1,...\n",
       "Name: smiles, Length: 405, dtype: object"
      ]
     },
     "execution_count": 16,
     "metadata": {},
     "output_type": "execute_result"
    }
   ],
   "source": [
    "train_set"
   ]
  },
  {
   "cell_type": "markdown",
   "metadata": {},
   "source": [
    "We'll take one more step to make the train_set into separate nodes and edges, which fits the format later to supply to the model for training"
   ]
  },
  {
   "cell_type": "code",
   "execution_count": 17,
   "metadata": {},
   "outputs": [],
   "source": [
    "nodes_train, edges_train = list(zip(*train_set) )"
   ]
  },
  {
   "cell_type": "markdown",
   "metadata": {},
   "source": [
    "## Training"
   ]
  },
  {
   "cell_type": "markdown",
   "metadata": {},
   "source": [
    "Now, we're finally ready for generating new molecules. We'll first import some necessay functions from tensorflow."
   ]
  },
  {
   "cell_type": "code",
   "execution_count": 18,
   "metadata": {
    "id": "NxB150lou0Ew"
   },
   "outputs": [],
   "source": [
    "import tensorflow as tf\n",
    "from tensorflow import keras\n",
    "from tensorflow.keras import layers"
   ]
  },
  {
   "cell_type": "markdown",
   "metadata": {},
   "source": [
    "The network here we'll be using is Generative Adversarial Network, as mentioned in the project introduction. Here's a great [introduction](https://machinelearningmastery.com/what-are-generative-adversarial-networks-gans/). "
   ]
  },
  {
   "cell_type": "markdown",
   "metadata": {},
   "source": [
    "![Screen Shot 2021-06-08 at 7 40 49 PM](https://user-images.githubusercontent.com/67823308/121178738-709bbd80-c891-11eb-91dc-d45e69f8f4d5.png)\n"
   ]
  },
  {
   "cell_type": "markdown",
   "metadata": {},
   "source": [
    "Here we'll first initiate a discriminator and a generator model with the corresponding functions in the package."
   ]
  },
  {
   "cell_type": "code",
   "execution_count": 19,
   "metadata": {},
   "outputs": [],
   "source": [
    "disc = model.make_discriminator(num_atoms)"
   ]
  },
  {
   "cell_type": "code",
   "execution_count": 20,
   "metadata": {},
   "outputs": [],
   "source": [
    "gene = model.make_generator(num_atoms, noise_input_shape = 100)"
   ]
  },
  {
   "cell_type": "markdown",
   "metadata": {},
   "source": [
    "Then, with the `train_batch` function, we'll supply the necessary inputs and train our network. Upon some experimentations, an epoch of around 160 would be nice for this dataset."
   ]
  },
  {
   "cell_type": "code",
   "execution_count": 21,
   "metadata": {},
   "outputs": [
    {
     "name": "stdout",
     "output_type": "stream",
     "text": [
      ">0, d1=0.221, d2=0.833 g=0.681, a1=100, a2=0\n",
      ">1, d1=0.054, d2=0.714 g=0.569, a1=100, a2=0\n",
      ">2, d1=0.026, d2=0.725 g=0.631, a1=100, a2=0\n",
      ">3, d1=0.016, d2=0.894 g=0.636, a1=100, a2=0\n",
      ">4, d1=0.016, d2=0.920 g=0.612, a1=100, a2=0\n",
      ">5, d1=0.012, d2=0.789 g=0.684, a1=100, a2=0\n",
      ">6, d1=0.014, d2=0.733 g=0.622, a1=100, a2=0\n",
      ">7, d1=0.056, d2=0.671 g=0.798, a1=100, a2=100\n",
      ">8, d1=0.029, d2=0.587 g=0.653, a1=100, a2=100\n",
      ">9, d1=0.133, d2=0.537 g=0.753, a1=100, a2=100\n",
      ">10, d1=0.049, d2=0.640 g=0.839, a1=100, a2=100\n",
      ">11, d1=0.056, d2=0.789 g=0.836, a1=100, a2=0\n",
      ">12, d1=0.086, d2=0.564 g=0.916, a1=100, a2=100\n",
      ">13, d1=0.067, d2=0.550 g=0.963, a1=100, a2=100\n",
      ">14, d1=0.062, d2=0.575 g=0.940, a1=100, a2=100\n",
      ">15, d1=0.053, d2=0.534 g=1.019, a1=100, a2=100\n",
      ">16, d1=0.179, d2=0.594 g=1.087, a1=100, a2=100\n",
      ">17, d1=0.084, d2=0.471 g=0.987, a1=100, a2=100\n",
      ">18, d1=0.052, d2=0.366 g=1.226, a1=100, a2=100\n",
      ">19, d1=0.065, d2=0.404 g=1.220, a1=100, a2=100\n",
      ">20, d1=0.044, d2=0.311 g=1.274, a1=100, a2=100\n",
      ">21, d1=0.015, d2=0.231 g=1.567, a1=100, a2=100\n",
      ">22, d1=0.010, d2=0.222 g=1.838, a1=100, a2=100\n",
      ">23, d1=0.007, d2=0.177 g=1.903, a1=100, a2=100\n",
      ">24, d1=0.004, d2=0.139 g=2.155, a1=100, a2=100\n",
      ">25, d1=0.132, d2=0.111 g=2.316, a1=100, a2=100\n",
      ">26, d1=0.004, d2=0.139 g=2.556, a1=100, a2=100\n",
      ">27, d1=0.266, d2=0.133 g=2.131, a1=100, a2=100\n",
      ">28, d1=0.001, d2=0.199 g=2.211, a1=100, a2=100\n",
      ">29, d1=0.000, d2=0.252 g=2.585, a1=100, a2=100\n",
      ">30, d1=0.000, d2=0.187 g=2.543, a1=100, a2=100\n",
      ">31, d1=0.002, d2=0.081 g=2.454, a1=100, a2=100\n",
      ">32, d1=0.171, d2=0.061 g=2.837, a1=100, a2=100\n",
      ">33, d1=0.028, d2=0.045 g=2.858, a1=100, a2=100\n",
      ">34, d1=0.011, d2=0.072 g=2.627, a1=100, a2=100\n",
      ">35, d1=2.599, d2=0.115 g=1.308, a1=0, a2=100\n",
      ">36, d1=0.000, d2=0.505 g=0.549, a1=100, a2=100\n",
      ">37, d1=0.000, d2=1.463 g=0.292, a1=100, a2=0\n",
      ">38, d1=0.002, d2=1.086 g=0.689, a1=100, a2=0\n",
      ">39, d1=0.153, d2=0.643 g=0.861, a1=100, a2=100\n",
      ">40, d1=0.000, d2=0.353 g=1.862, a1=100, a2=100\n",
      ">41, d1=0.034, d2=0.143 g=2.683, a1=100, a2=100\n",
      ">42, d1=0.003, d2=0.110 g=2.784, a1=100, a2=100\n",
      ">43, d1=0.093, d2=0.058 g=2.977, a1=100, a2=100\n",
      ">44, d1=0.046, d2=0.051 g=3.051, a1=100, a2=100\n",
      ">45, d1=0.185, d2=0.062 g=2.922, a1=100, a2=100\n",
      ">46, d1=0.097, d2=0.070 g=2.670, a1=100, a2=100\n",
      ">47, d1=0.060, d2=0.073 g=2.444, a1=100, a2=100\n",
      ">48, d1=0.093, d2=0.156 g=2.385, a1=100, a2=100\n",
      ">49, d1=0.785, d2=0.346 g=1.026, a1=0, a2=100\n",
      ">50, d1=0.057, d2=0.869 g=0.667, a1=100, a2=0\n",
      ">51, d1=0.002, d2=1.001 g=0.564, a1=100, a2=0\n",
      ">52, d1=0.000, d2=0.764 g=1.047, a1=100, a2=0\n",
      ">53, d1=0.010, d2=0.362 g=1.586, a1=100, a2=100\n",
      ">54, d1=0.033, d2=0.230 g=2.469, a1=100, a2=100\n",
      ">55, d1=0.179, d2=0.134 g=2.554, a1=100, a2=100\n",
      ">56, d1=0.459, d2=0.103 g=2.356, a1=100, a2=100\n",
      ">57, d1=0.245, d2=0.185 g=1.769, a1=100, a2=100\n",
      ">58, d1=0.014, d2=0.227 g=1.229, a1=100, a2=100\n",
      ">59, d1=0.016, d2=0.699 g=0.882, a1=100, a2=0\n",
      ">60, d1=0.002, d2=0.534 g=1.192, a1=100, a2=100\n",
      ">61, d1=0.010, d2=0.335 g=1.630, a1=100, a2=100\n",
      ">62, d1=0.019, d2=0.283 g=2.246, a1=100, a2=100\n",
      ">63, d1=0.240, d2=0.132 g=2.547, a1=100, a2=100\n",
      ">64, d1=0.965, d2=0.219 g=1.534, a1=0, a2=100\n",
      ">65, d1=0.040, d2=0.529 g=0.950, a1=100, a2=100\n",
      ">66, d1=0.012, d2=0.611 g=0.978, a1=100, a2=100\n",
      ">67, d1=0.015, d2=0.576 g=1.311, a1=100, a2=100\n",
      ">68, d1=0.102, d2=0.214 g=1.840, a1=100, a2=100\n",
      ">69, d1=0.020, d2=0.140 g=2.544, a1=100, a2=100\n",
      ">70, d1=5.089, d2=0.314 g=1.231, a1=0, a2=100\n",
      ">71, d1=0.026, d2=0.700 g=0.556, a1=100, a2=0\n",
      ">72, d1=0.005, d2=1.299 g=0.460, a1=100, a2=0\n",
      ">73, d1=0.009, d2=1.033 g=0.791, a1=100, a2=0\n",
      ">74, d1=0.013, d2=0.343 g=1.408, a1=100, a2=100\n",
      ">75, d1=0.247, d2=0.267 g=1.740, a1=100, a2=100\n",
      ">76, d1=0.184, d2=0.172 g=2.105, a1=100, a2=100\n",
      ">77, d1=0.150, d2=0.133 g=2.297, a1=100, a2=100\n",
      ">78, d1=0.589, d2=0.112 g=2.557, a1=100, a2=100\n",
      ">79, d1=0.477, d2=0.232 g=1.474, a1=100, a2=100\n",
      ">80, d1=0.173, d2=0.360 g=1.034, a1=100, a2=100\n",
      ">81, d1=0.052, d2=0.790 g=0.936, a1=100, a2=0\n",
      ">82, d1=0.042, d2=0.537 g=1.135, a1=100, a2=100\n",
      ">83, d1=0.296, d2=0.363 g=1.152, a1=100, a2=100\n",
      ">84, d1=0.157, d2=0.377 g=1.283, a1=100, a2=100\n",
      ">85, d1=0.139, d2=0.436 g=1.445, a1=100, a2=100\n",
      ">86, d1=0.163, d2=0.343 g=1.370, a1=100, a2=100\n",
      ">87, d1=0.189, d2=0.290 g=1.576, a1=100, a2=100\n",
      ">88, d1=1.223, d2=0.548 g=0.822, a1=0, a2=100\n",
      ">89, d1=0.016, d2=1.042 g=0.499, a1=100, a2=0\n",
      ">90, d1=0.013, d2=1.033 g=0.829, a1=100, a2=0\n",
      ">91, d1=0.006, d2=0.589 g=1.421, a1=100, a2=100\n",
      ">92, d1=0.054, d2=0.160 g=2.414, a1=100, a2=100\n",
      ">93, d1=0.214, d2=0.070 g=3.094, a1=100, a2=100\n",
      ">94, d1=0.445, d2=0.089 g=2.564, a1=100, a2=100\n",
      ">95, d1=2.902, d2=0.180 g=1.358, a1=0, a2=100\n",
      ">96, d1=0.485, d2=0.684 g=0.625, a1=100, a2=100\n",
      ">97, d1=0.287, d2=1.296 g=0.405, a1=100, a2=0\n",
      ">98, d1=0.159, d2=1.149 g=0.689, a1=100, a2=0\n",
      ">99, d1=0.021, d2=0.557 g=1.405, a1=100, a2=100\n",
      ">100, d1=0.319, d2=0.243 g=1.905, a1=100, a2=100\n",
      ">101, d1=0.811, d2=0.241 g=1.523, a1=0, a2=100\n",
      ">102, d1=0.469, d2=0.439 g=0.987, a1=100, a2=100\n",
      ">103, d1=0.073, d2=0.760 g=0.698, a1=100, a2=0\n",
      ">104, d1=0.040, d2=0.762 g=0.869, a1=100, a2=0\n",
      ">105, d1=0.073, d2=0.444 g=1.453, a1=100, a2=100\n",
      ">106, d1=0.455, d2=0.272 g=1.632, a1=100, a2=100\n",
      ">107, d1=0.320, d2=0.365 g=1.416, a1=100, a2=100\n",
      ">108, d1=0.245, d2=0.409 g=1.245, a1=100, a2=100\n",
      ">109, d1=0.258, d2=0.572 g=1.146, a1=100, a2=100\n",
      ">110, d1=0.120, d2=0.447 g=1.538, a1=100, a2=100\n",
      ">111, d1=2.707, d2=0.376 g=1.343, a1=0, a2=100\n",
      ">112, d1=3.112, d2=0.604 g=0.873, a1=0, a2=100\n",
      ">113, d1=0.107, d2=0.750 g=0.873, a1=100, a2=0\n",
      ">114, d1=0.284, d2=0.682 g=0.905, a1=100, a2=100\n",
      ">115, d1=1.768, d2=0.717 g=0.824, a1=0, a2=0\n",
      ">116, d1=0.530, d2=0.822 g=0.560, a1=100, a2=0\n",
      ">117, d1=0.424, d2=0.984 g=0.613, a1=100, a2=0\n",
      ">118, d1=1.608, d2=1.398 g=0.244, a1=0, a2=0\n",
      ">119, d1=4.422, d2=2.402 g=0.135, a1=0, a2=0\n",
      ">120, d1=0.011, d2=1.998 g=0.321, a1=100, a2=0\n",
      ">121, d1=0.085, d2=1.066 g=0.815, a1=100, a2=0\n",
      ">122, d1=0.895, d2=0.444 g=1.495, a1=0, a2=100\n",
      ">123, d1=2.659, d2=0.288 g=1.417, a1=0, a2=100\n",
      ">124, d1=1.780, d2=0.450 g=0.869, a1=0, a2=100\n",
      ">125, d1=2.271, d2=1.046 g=0.324, a1=0, a2=0\n",
      ">126, d1=0.836, d2=1.970 g=0.123, a1=0, a2=0\n",
      ">127, d1=0.108, d2=2.396 g=0.103, a1=100, a2=0\n",
      ">128, d1=0.146, d2=2.371 g=0.174, a1=100, a2=0\n",
      ">129, d1=0.189, d2=1.623 g=0.424, a1=100, a2=0\n",
      ">130, d1=0.508, d2=0.877 g=0.876, a1=100, a2=0\n",
      ">131, d1=0.723, d2=0.423 g=1.367, a1=0, a2=100\n",
      ">132, d1=1.306, d2=0.292 g=1.445, a1=0, a2=100\n",
      ">133, d1=0.920, d2=0.318 g=1.378, a1=0, a2=100\n",
      ">134, d1=1.120, d2=0.481 g=0.827, a1=0, a2=100\n",
      ">135, d1=0.278, d2=0.763 g=0.562, a1=100, a2=0\n",
      ">136, d1=0.134, d2=0.901 g=0.555, a1=100, a2=0\n",
      ">137, d1=0.061, d2=0.816 g=0.864, a1=100, a2=0\n",
      ">138, d1=0.057, d2=0.451 g=1.533, a1=100, a2=100\n",
      ">139, d1=0.111, d2=0.214 g=2.145, a1=100, a2=100\n",
      ">140, d1=0.260, d2=0.107 g=2.451, a1=100, a2=100\n",
      ">141, d1=4.498, d2=0.209 g=1.266, a1=0, a2=100\n",
      ">142, d1=0.016, d2=0.681 g=0.672, a1=100, a2=100\n",
      ">143, d1=0.007, d2=0.952 g=0.702, a1=100, a2=0\n",
      ">144, d1=0.008, d2=0.624 g=1.337, a1=100, a2=100\n",
      ">145, d1=0.010, d2=0.241 g=2.114, a1=100, a2=100\n",
      ">146, d1=2.108, d2=0.121 g=2.536, a1=0, a2=100\n",
      ">147, d1=4.086, d2=0.111 g=2.315, a1=0, a2=100\n",
      ">148, d1=1.247, d2=0.177 g=1.781, a1=0, a2=100\n",
      ">149, d1=2.684, d2=0.377 g=1.026, a1=0, a2=100\n",
      ">150, d1=0.572, d2=0.701 g=0.710, a1=100, a2=0\n",
      ">151, d1=0.608, d2=0.899 g=0.571, a1=100, a2=0\n",
      ">152, d1=0.118, d2=0.904 g=0.592, a1=100, a2=0\n",
      ">153, d1=0.228, d2=0.837 g=0.735, a1=100, a2=0\n",
      ">154, d1=0.353, d2=0.671 g=0.912, a1=100, a2=100\n",
      ">155, d1=0.959, d2=0.563 g=0.985, a1=0, a2=100\n",
      ">156, d1=0.427, d2=0.478 g=1.184, a1=100, a2=100\n",
      ">157, d1=0.307, d2=0.348 g=1.438, a1=100, a2=100\n",
      ">158, d1=0.488, d2=0.286 g=1.383, a1=100, a2=100\n",
      ">159, d1=0.264, d2=0.333 g=1.312, a1=100, a2=100\n"
     ]
    },
    {
     "data": {
      "image/png": "[encoded data removed]",
      "text/plain": [
       "<Figure size 432x288 with 2 Axes>"
      ]
     },
     "metadata": {
      "needs_background": "light"
     },
     "output_type": "display_data"
    }
   ],
   "source": [
    "generator_trained = model.train_batch(\n",
    "                                disc, gene, \n",
    "                                np.array(nodes_train), np.array(edges_train), \n",
    "                                noise_input_shape = 100, EPOCH = 160, BATCHSIZE = 2, \n",
    "                                plot_hist = True, temp_result = False\n",
    "    )"
   ]
  },
  {
   "cell_type": "markdown",
   "metadata": {},
   "source": [
    "There are two possible kind of failures regarding a GAN model: model collapse and failure of convergence. Model collapse would often mean that the generative part of the model wouldn't be able to generate diverse outcomes. Failure of convergence between the generative and the discriminative model could likely way be identified as that the loss for the discriminator has gone to zero or close to zero. \n",
    "\n",
    "Observe the above generated plot, in the upper plot, the loss of discriminator has not gone to zero/close to zero, indicating that the model has possibily find a balance between the generator and the discriminator. In the lower plot, the accuracy is fluctuating between 1 and 0, indicating possible variability within the data generated. \n",
    "\n",
    "Therefore, it is reasonable to conclude that within the possible range of epoch and other parameters, the model has successfully avoided the two common types of failures associated with GAN."
   ]
  },
  {
   "cell_type": "markdown",
   "metadata": {},
   "source": [
    "## Rewarding Phase"
   ]
  },
  {
   "cell_type": "markdown",
   "metadata": {},
   "source": [
    "The above `train_batch` function is set to return a trained generator. Thus, we could use that function directly and observe the possible molecules we could get from that function."
   ]
  },
  {
   "cell_type": "code",
   "execution_count": 47,
   "metadata": {
    "id": "LMDuGLKvhT7Z"
   },
   "outputs": [],
   "source": [
    "no, ed = generator_trained(np.random.randint(0,20\n",
    "                                             \n",
    "                                            , size =(1,100)))#generated nodes and edges"
   ]
  },
  {
   "cell_type": "code",
   "execution_count": 48,
   "metadata": {},
   "outputs": [
    {
     "data": {
      "text/plain": [
       "(array([6, 9, 5, 7, 8, 6]),\n",
       " array([[0, 0, 0, 0, 0, 0],\n",
       "        [1, 0, 2, 0, 0, 0],\n",
       "        [0, 2, 0, 2, 0, 0],\n",
       "        [0, 0, 2, 0, 2, 0],\n",
       "        [0, 0, 0, 2, 0, 3],\n",
       "        [2, 0, 0, 0, 3, 0]]))"
      ]
     },
     "execution_count": 48,
     "metadata": {},
     "output_type": "execute_result"
    }
   ],
   "source": [
    "abs(no.numpy()).astype(int).reshape(num_atoms), abs(ed.numpy()).astype(int).reshape(num_atoms,num_atoms)"
   ]
  },
  {
   "cell_type": "markdown",
   "metadata": {},
   "source": [
    "With the `de_featurizer`, we could convert the generated matrix into a smiles molecule and plot it out=)"
   ]
  },
  {
   "cell_type": "code",
   "execution_count": 49,
   "metadata": {
    "id": "OY3wWyxfpPpS"
   },
   "outputs": [],
   "source": [
    "cat, dog = model.de_featurizer(abs(no.numpy()).astype(int).reshape(num_atoms), abs(ed.numpy()).astype(int).reshape(num_atoms,num_atoms))"
   ]
  },
  {
   "cell_type": "code",
   "execution_count": 50,
   "metadata": {
    "colab": {
     "base_uri": "https://localhost:8080/"
    },
    "id": "ZKHO7sckDHCk",
    "outputId": "22656d64-ddd0-4bb4-afe2-6c2bb6219fd1"
   },
   "outputs": [
    {
     "data": {
      "text/plain": [
       "'C#O=N=B=FC'"
      ]
     },
     "execution_count": 50,
     "metadata": {},
     "output_type": "execute_result"
    }
   ],
   "source": [
    "Chem.MolToSmiles(cat)"
   ]
  },
  {
   "cell_type": "code",
   "execution_count": 46,
   "metadata": {
    "id": "QWQEebMyAA15",
    "scrolled": true
   },
   "outputs": [
    {
     "name": "stderr",
     "output_type": "stream",
     "text": [
      "RDKit ERROR: [14:09:13] Explicit valence for atom # 1 O, 5, is greater than permitted\n"
     ]
    }
   ],
   "source": [
    "Chem.MolFromSmiles(Chem.MolToSmiles(cat))"
   ]
  },
  {
   "cell_type": "markdown",
   "metadata": {},
   "source": [
    "## Brief Result Analysis"
   ]
  },
  {
   "cell_type": "code",
   "execution_count": 27,
   "metadata": {},
   "outputs": [],
   "source": [
    "from rdkit import DataStructs"
   ]
  },
  {
   "cell_type": "markdown",
   "metadata": {},
   "source": [
    "With the rdkit function of comparing similarities, here we'll demonstrate a preliminary analysis of the molecule we've generated. With \"CCO\" molecule as a control, we could observe that the new molecule we've generated is more similar to a random selected molecule(the fourth molecule) from the initial training set.\n",
    "\n",
    "This may indicate that our model has indeed extracted some features from our original dataset and generated a new molecule that is relevant."
   ]
  },
  {
   "cell_type": "code",
   "execution_count": 28,
   "metadata": {},
   "outputs": [
    {
     "data": {
      "text/plain": [
       "0.0"
      ]
     },
     "execution_count": 28,
     "metadata": {},
     "output_type": "execute_result"
    }
   ],
   "source": [
    "DataStructs.FingerprintSimilarity(Chem.RDKFingerprint(Chem.MolFromSmiles(\"[Li]NBBC=N\")), Chem.RDKFingerprint(Chem.MolFromSmiles(\"CCO\")))# compare with the control"
   ]
  },
  {
   "cell_type": "code",
   "execution_count": 29,
   "metadata": {},
   "outputs": [
    {
     "data": {
      "text/plain": [
       "0.017079419299743808"
      ]
     },
     "execution_count": 29,
     "metadata": {},
     "output_type": "execute_result"
    }
   ],
   "source": [
    "#compare with one from the original data\n",
    "DataStructs.FingerprintSimilarity(Chem.RDKFingerprint(Chem.MolFromSmiles(\"[Li]NBBC=N\")), Chem.RDKFingerprint(Chem.MolFromSmiles(\"CCN1C2=NC(=O)N(C(=O)C2=NC(=N1)C3=CC=CC=C3)C\")))"
   ]
  },
  {
   "cell_type": "code",
   "execution_count": null,
   "metadata": {},
   "outputs": [],
   "source": []
  }
 ],
 "metadata": {
  "colab": {
   "collapsed_sections": [],
   "name": "model v1.ipynb",
   "provenance": [],
   "toc_visible": true
  },
  "kernelspec": {
   "display_name": "Python [conda env:my-rdkit-env] *",
   "language": "python",
   "name": "conda-env-my-rdkit-env-py"
  },
  "language_info": {
   "codemirror_mode": {
    "name": "ipython",
    "version": 3
   },
   "file_extension": ".py",
   "mimetype": "text/x-python",
   "name": "python",
   "nbconvert_exporter": "python",
   "pygments_lexer": "ipython3",
   "version": "3.7.10"
  }
 },
 "nbformat": 4,
 "nbformat_minor": 4
}
