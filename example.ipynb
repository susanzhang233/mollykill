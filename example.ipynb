{
 "cells": [
  {
   "cell_type": "markdown",
   "metadata": {
    "id": "eZBVPeV6pur-"
   },
   "source": [
    "## Setup\n"
   ]
  },
  {
   "cell_type": "markdown",
   "metadata": {},
   "source": [
    "If you are running this generator locally(i.e. in a jupyter notebook in conda, just make sure you installed:\n",
    "- RDKit\n",
    "- DeepChem 2.5.0 & above\n",
    "- Tensorflow 2.4.0 & above\n",
    "\n",
    "Then, please skip the following part and continue from `Data Preparations`."
   ]
  },
  {
   "cell_type": "markdown",
   "metadata": {},
   "source": [
    "To increase efficiency, we recommend running this molecule generator in Colab.\n",
    "\n",
    "Then, we'll first need to run the following lines of code, these will download conda with the deepchem environment in colab."
   ]
  },
  {
   "cell_type": "code",
   "execution_count": 1,
   "metadata": {
    "colab": {
     "base_uri": "https://localhost:8080/"
    },
    "id": "QHjHpULnjkWh",
    "outputId": "58751773-cbdc-4069-a6c0-fc385a98c62c"
   },
   "outputs": [],
   "source": [
    "#!curl -Lo conda_installer.py https://raw.githubusercontent.com/deepchem/deepchem/master/scripts/colab_install.py\n",
    "#import conda_installer\n",
    "#conda_installer.install()\n",
    "#!/root/miniconda/bin/conda info -e"
   ]
  },
  {
   "cell_type": "code",
   "execution_count": 2,
   "metadata": {
    "colab": {
     "base_uri": "https://localhost:8080/",
     "height": 215
    },
    "id": "BPw4CH4ojqHM",
    "outputId": "4dd01c41-a2a3-4aeb-972d-9b19b2c6ebed",
    "scrolled": true
   },
   "outputs": [],
   "source": [
    "#!pip install --pre deepchem\n",
    "#import deepchem\n",
    "#deepchem.__version__"
   ]
  },
  {
   "cell_type": "markdown",
   "metadata": {
    "id": "j4ZsW2TnqHkE"
   },
   "source": [
    "## Data Preparations\n",
    "\n",
    "Now we are ready to import some useful functions/packages, along with our model."
   ]
  },
  {
   "cell_type": "markdown",
   "metadata": {},
   "source": [
    "### Import Data"
   ]
  },
  {
   "cell_type": "code",
   "execution_count": 3,
   "metadata": {
    "id": "zgty1IrNZiIT"
   },
   "outputs": [
    {
     "ename": "ModuleNotFoundError",
     "evalue": "No module named 'rdkit'",
     "output_type": "error",
     "traceback": [
      "\u001b[0;31m---------------------------------------------------------------------------\u001b[0m",
      "\u001b[0;31mModuleNotFoundError\u001b[0m                       Traceback (most recent call last)",
      "\u001b[0;32m<ipython-input-3-94def5841c9c>\u001b[0m in \u001b[0;36m<module>\u001b[0;34m\u001b[0m\n\u001b[0;32m----> 1\u001b[0;31m \u001b[0;32mimport\u001b[0m \u001b[0mmodel\u001b[0m\u001b[0;31m##our model\u001b[0m\u001b[0;34m\u001b[0m\u001b[0;34m\u001b[0m\u001b[0m\n\u001b[0m",
      "\u001b[0;32m~/Documents/GitHub/nail-it-molecule/model.py\u001b[0m in \u001b[0;36m<module>\u001b[0;34m\u001b[0m\n\u001b[1;32m     14\u001b[0m \u001b[0;32mimport\u001b[0m \u001b[0mmatplotlib\u001b[0m\u001b[0;34m.\u001b[0m\u001b[0mpyplot\u001b[0m \u001b[0;32mas\u001b[0m \u001b[0mplt\u001b[0m\u001b[0;34m\u001b[0m\u001b[0;34m\u001b[0m\u001b[0m\n\u001b[1;32m     15\u001b[0m \u001b[0;32mimport\u001b[0m \u001b[0mnumpy\u001b[0m \u001b[0;32mas\u001b[0m \u001b[0mnp\u001b[0m\u001b[0;34m\u001b[0m\u001b[0;34m\u001b[0m\u001b[0m\n\u001b[0;32m---> 16\u001b[0;31m \u001b[0;32mfrom\u001b[0m \u001b[0mrdkit\u001b[0m \u001b[0;32mimport\u001b[0m \u001b[0mChem\u001b[0m\u001b[0;34m\u001b[0m\u001b[0;34m\u001b[0m\u001b[0m\n\u001b[0m\u001b[1;32m     17\u001b[0m \u001b[0;34m\u001b[0m\u001b[0m\n\u001b[1;32m     18\u001b[0m \u001b[0;32mdef\u001b[0m \u001b[0mfeaturizer\u001b[0m\u001b[0;34m(\u001b[0m\u001b[0mmol\u001b[0m\u001b[0;34m,\u001b[0m \u001b[0mmax_length\u001b[0m \u001b[0;34m=\u001b[0m \u001b[0;36m10\u001b[0m\u001b[0;34m)\u001b[0m\u001b[0;34m:\u001b[0m\u001b[0;34m\u001b[0m\u001b[0;34m\u001b[0m\u001b[0m\n",
      "\u001b[0;31mModuleNotFoundError\u001b[0m: No module named 'rdkit'"
     ]
    }
   ],
   "source": [
    "import model##our model"
   ]
  },
  {
   "cell_type": "code",
   "execution_count": 2,
   "metadata": {
    "id": "WVXBx9Cdh4T9"
   },
   "outputs": [
    {
     "ename": "ModuleNotFoundError",
     "evalue": "No module named 'rdkit'",
     "output_type": "error",
     "traceback": [
      "\u001b[0;31m---------------------------------------------------------------------------\u001b[0m",
      "\u001b[0;31mModuleNotFoundError\u001b[0m                       Traceback (most recent call last)",
      "\u001b[0;32m<ipython-input-2-1b738be2a738>\u001b[0m in \u001b[0;36m<module>\u001b[0;34m\u001b[0m\n\u001b[0;32m----> 1\u001b[0;31m \u001b[0;32mfrom\u001b[0m \u001b[0mrdkit\u001b[0m \u001b[0;32mimport\u001b[0m \u001b[0mChem\u001b[0m\u001b[0;34m\u001b[0m\u001b[0;34m\u001b[0m\u001b[0m\n\u001b[0m\u001b[1;32m      2\u001b[0m \u001b[0;32mfrom\u001b[0m \u001b[0mrdkit\u001b[0m\u001b[0;34m.\u001b[0m\u001b[0mChem\u001b[0m \u001b[0;32mimport\u001b[0m \u001b[0mAllChem\u001b[0m\u001b[0;34m\u001b[0m\u001b[0;34m\u001b[0m\u001b[0m\n",
      "\u001b[0;31mModuleNotFoundError\u001b[0m: No module named 'rdkit'"
     ]
    }
   ],
   "source": [
    "from rdkit import Chem\n",
    "from rdkit.Chem import AllChem"
   ]
  },
  {
   "cell_type": "code",
   "execution_count": 5,
   "metadata": {
    "id": "GDVuZH_7rUxP"
   },
   "outputs": [],
   "source": [
    "import pandas as pd\n",
    "import numpy as np\n",
    "import matplotlib.pyplot as plt"
   ]
  },
  {
   "cell_type": "code",
   "execution_count": 6,
   "metadata": {
    "id": "FsmKzTT3jqM8"
   },
   "outputs": [],
   "source": [
    "import deepchem as dc "
   ]
  },
  {
   "cell_type": "markdown",
   "metadata": {
    "id": "fe0qAgyBsIkh"
   },
   "source": [
    "Then, we are ready to import our dataset for training. \n",
    "\n",
    "Here, for demonstration, we'll be using this dataset of in-vitro assay that detects inhibition of SARS-CoV 3CL protease via fluorescence.\n",
    "\n",
    "The dataset is originally from [PubChem AID1706](https://pubchem.ncbi.nlm.nih.gov/bioassay/1706), previously handled by [JClinic AIcure](https://www.aicures.mit.edu/) team at MIT into this [binarized label form](https://github.com/yangkevin2/coronavirus_data/blob/master/data/AID1706_binarized_sars.csv)."
   ]
  },
  {
   "cell_type": "code",
   "execution_count": 8,
   "metadata": {
    "id": "MQxqEQ0ssJ42"
   },
   "outputs": [],
   "source": [
    "df = pd.read_csv('AID1706_binarized_sars.csv')"
   ]
  },
  {
   "cell_type": "code",
   "execution_count": 9,
   "metadata": {
    "colab": {
     "base_uri": "https://localhost:8080/",
     "height": 197
    },
    "id": "cuCLFzO5tGff",
    "outputId": "fe06734d-1224-48d3-ecc3-6e0ea0c0636d"
   },
   "outputs": [
    {
     "data": {
      "text/html": [
       "<div>\n",
       "<style scoped>\n",
       "    .dataframe tbody tr th:only-of-type {\n",
       "        vertical-align: middle;\n",
       "    }\n",
       "\n",
       "    .dataframe tbody tr th {\n",
       "        vertical-align: top;\n",
       "    }\n",
       "\n",
       "    .dataframe thead th {\n",
       "        text-align: right;\n",
       "    }\n",
       "</style>\n",
       "<table border=\"1\" class=\"dataframe\">\n",
       "  <thead>\n",
       "    <tr style=\"text-align: right;\">\n",
       "      <th></th>\n",
       "      <th>smiles</th>\n",
       "      <th>activity</th>\n",
       "    </tr>\n",
       "  </thead>\n",
       "  <tbody>\n",
       "    <tr>\n",
       "      <th>0</th>\n",
       "      <td>CC1=CC=C(O1)C(C(=O)NCC2=CC=CO2)N(C3=CC=C(C=C3)...</td>\n",
       "      <td>1</td>\n",
       "    </tr>\n",
       "    <tr>\n",
       "      <th>1</th>\n",
       "      <td>CC1=CC=C(C=C1)S(=O)(=O)N2CCN(CC2)S(=O)(=O)C3=C...</td>\n",
       "      <td>1</td>\n",
       "    </tr>\n",
       "    <tr>\n",
       "      <th>2</th>\n",
       "      <td>CC1=CC2=C(C=C1)NC(=O)C(=C2)CN(CCC3=CC=CC=C3)CC...</td>\n",
       "      <td>1</td>\n",
       "    </tr>\n",
       "    <tr>\n",
       "      <th>3</th>\n",
       "      <td>CC1=CC=C(C=C1)CN(C(C2=CC=CS2)C(=O)NCC3=CC=CO3)...</td>\n",
       "      <td>1</td>\n",
       "    </tr>\n",
       "    <tr>\n",
       "      <th>4</th>\n",
       "      <td>CCN1C2=NC(=O)N(C(=O)C2=NC(=N1)C3=CC=CC=C3)C</td>\n",
       "      <td>1</td>\n",
       "    </tr>\n",
       "  </tbody>\n",
       "</table>\n",
       "</div>"
      ],
      "text/plain": [
       "                                              smiles  activity\n",
       "0  CC1=CC=C(O1)C(C(=O)NCC2=CC=CO2)N(C3=CC=C(C=C3)...         1\n",
       "1  CC1=CC=C(C=C1)S(=O)(=O)N2CCN(CC2)S(=O)(=O)C3=C...         1\n",
       "2  CC1=CC2=C(C=C1)NC(=O)C(=C2)CN(CCC3=CC=CC=C3)CC...         1\n",
       "3  CC1=CC=C(C=C1)CN(C(C2=CC=CS2)C(=O)NCC3=CC=CO3)...         1\n",
       "4        CCN1C2=NC(=O)N(C(=O)C2=NC(=N1)C3=CC=CC=C3)C         1"
      ]
     },
     "execution_count": 9,
     "metadata": {},
     "output_type": "execute_result"
    }
   ],
   "source": [
    "df.head()"
   ]
  },
  {
   "cell_type": "code",
   "execution_count": 10,
   "metadata": {
    "colab": {
     "base_uri": "https://localhost:8080/",
     "height": 137
    },
    "id": "bmftBd0UtO06",
    "outputId": "cec31a28-1b47-4dc3-9bd7-84c2e6eb47c1"
   },
   "outputs": [
    {
     "data": {
      "text/html": [
       "<div>\n",
       "<style scoped>\n",
       "    .dataframe tbody tr th:only-of-type {\n",
       "        vertical-align: middle;\n",
       "    }\n",
       "\n",
       "    .dataframe tbody tr th {\n",
       "        vertical-align: top;\n",
       "    }\n",
       "\n",
       "    .dataframe thead th {\n",
       "        text-align: right;\n",
       "    }\n",
       "</style>\n",
       "<table border=\"1\" class=\"dataframe\">\n",
       "  <thead>\n",
       "    <tr style=\"text-align: right;\">\n",
       "      <th></th>\n",
       "      <th>smiles</th>\n",
       "    </tr>\n",
       "    <tr>\n",
       "      <th>activity</th>\n",
       "      <th></th>\n",
       "    </tr>\n",
       "  </thead>\n",
       "  <tbody>\n",
       "    <tr>\n",
       "      <th>0</th>\n",
       "      <td>290321</td>\n",
       "    </tr>\n",
       "    <tr>\n",
       "      <th>1</th>\n",
       "      <td>405</td>\n",
       "    </tr>\n",
       "  </tbody>\n",
       "</table>\n",
       "</div>"
      ],
      "text/plain": [
       "          smiles\n",
       "activity        \n",
       "0         290321\n",
       "1            405"
      ]
     },
     "execution_count": 10,
     "metadata": {},
     "output_type": "execute_result"
    }
   ],
   "source": [
    "df.groupby('activity').count()"
   ]
  },
  {
   "cell_type": "markdown",
   "metadata": {
    "id": "wDLKQeFhtLXo"
   },
   "source": [
    "Observe the data above, it contains a 'smiles' column, which stands for the smiles representation of the molecules. There is also an 'activity' column, in which it is the label specifying whether that molecule is considered as hit for the protein.\n",
    "\n",
    "Here, we only need those 405 molecules considered as hits, and we'll be extracting features from them to generate new molecules that may as well be hits."
   ]
  },
  {
   "cell_type": "code",
   "execution_count": 11,
   "metadata": {
    "id": "nj19L4SmN52k"
   },
   "outputs": [],
   "source": [
    "true = df[df['activity']==1]"
   ]
  },
  {
   "cell_type": "markdown",
   "metadata": {},
   "source": [
    "### Set Minimum Length for molecules"
   ]
  },
  {
   "cell_type": "markdown",
   "metadata": {
    "id": "g7qU8glVYaDn"
   },
   "source": [
    "Since we'll be using graphic neural network, it might be more helpful and efficient if our graph data are of the same size, thus, we'll eliminate the molecules from the training set that are shorter(i.e. lacking enough atoms) than our desired minimum size."
   ]
  },
  {
   "cell_type": "code",
   "execution_count": 12,
   "metadata": {},
   "outputs": [],
   "source": [
    "num_atoms = 6 #here the minimum length of molecules is 6"
   ]
  },
  {
   "cell_type": "code",
   "execution_count": 114,
   "metadata": {
    "id": "KDPa7jbhyyY_"
   },
   "outputs": [],
   "source": [
    "input_df = true['smiles']\n",
    "df_length = []\n",
    "for _ in input_df:\n",
    "    df_length.append(Chem.MolFromSmiles(_).GetNumAtoms() )"
   ]
  },
  {
   "cell_type": "code",
   "execution_count": 115,
   "metadata": {
    "id": "DaihIG7rgkAH"
   },
   "outputs": [],
   "source": [
    "true['length'] = df_length #create a new column containing each molecule's length"
   ]
  },
  {
   "cell_type": "code",
   "execution_count": 116,
   "metadata": {
    "id": "LDmGtQoS1mBA"
   },
   "outputs": [],
   "source": [
    "true = true[true['length']>num_atoms] #Here we leave only the ones longer than 6\n",
    "input_df = true['smiles']\n",
    "input_df_smiles = input_df.apply(Chem.MolFromSmiles) #convert the smiles representations into rdkit molecules\n"
   ]
  },
  {
   "cell_type": "markdown",
   "metadata": {},
   "source": [
    "Now, we are ready to apply the `featurizer` function to our molecules to convert them into graphs with nodes and edges for training."
   ]
  },
  {
   "cell_type": "code",
   "execution_count": 117,
   "metadata": {},
   "outputs": [],
   "source": [
    "#input_df = input_df.apply(Chem.MolFromSmiles) \n",
    "train_set = input_df_smiles.apply( lambda x: model.featurizer(x,max_length = num_atoms))"
   ]
  },
  {
   "cell_type": "code",
   "execution_count": 118,
   "metadata": {},
   "outputs": [
    {
     "data": {
      "text/plain": [
       "0      ([6, 6, 6, 6, 6, 8, 6, 6], [[0, 2, 0, 0, 0, 0,...\n",
       "1      ([6, 6, 6, 6, 6, 6, 6, 16], [[0, 2, 0, 0, 0, 0...\n",
       "2      ([6, 6, 6, 6, 6, 6, 6, 7], [[0, 2, 0, 0, 0, 0,...\n",
       "3      ([6, 6, 6, 6, 6, 6, 6, 6], [[0, 2, 0, 0, 0, 0,...\n",
       "4      ([6, 6, 7, 6, 7, 6, 8, 7], [[0, 2, 0, 0, 0, 0,...\n",
       "                             ...                        \n",
       "400    ([6, 6, 8, 6, 6, 8, 6, 6], [[0, 2, 0, 0, 0, 2,...\n",
       "401    ([6, 8, 6, 8, 6, 6, 6, 6], [[0, 2, 0, 0, 0, 0,...\n",
       "402    ([6, 8, 6, 6, 6, 6, 6, 6], [[0, 2, 0, 0, 0, 0,...\n",
       "403    ([6, 7, 6, 6, 6, 7, 6, 8], [[0, 2, 0, 0, 0, 0,...\n",
       "404    ([6, 6, 8, 6, 7, 16, 8, 8], [[0, 2, 0, 0, 2, 0...\n",
       "Name: smiles, Length: 405, dtype: object"
      ]
     },
     "execution_count": 118,
     "metadata": {},
     "output_type": "execute_result"
    }
   ],
   "source": [
    "train_set"
   ]
  },
  {
   "cell_type": "markdown",
   "metadata": {},
   "source": [
    "We'll take one more step to make the train_set into separate nodes and edges, which fits the format later to supply to the model for training"
   ]
  },
  {
   "cell_type": "code",
   "execution_count": 119,
   "metadata": {},
   "outputs": [],
   "source": [
    "nodes_train, edges_train = list(zip(*train_set) )"
   ]
  },
  {
   "cell_type": "markdown",
   "metadata": {},
   "source": [
    "## Training"
   ]
  },
  {
   "cell_type": "markdown",
   "metadata": {},
   "source": [
    "Now, we're finally ready for generating new molecules. We'll first import some necessay functions from tensorflow."
   ]
  },
  {
   "cell_type": "code",
   "execution_count": 19,
   "metadata": {
    "id": "NxB150lou0Ew"
   },
   "outputs": [],
   "source": [
    "import tensorflow as tf\n",
    "from tensorflow import keras\n",
    "from tensorflow.keras import layers"
   ]
  },
  {
   "cell_type": "markdown",
   "metadata": {},
   "source": [
    "The network here we'll be using is Generative Adversarial Network, as mentioned in the project introduction. Here's a great [introduction](https://machinelearningmastery.com/what-are-generative-adversarial-networks-gans/). "
   ]
  },
  {
   "cell_type": "markdown",
   "metadata": {},
   "source": [
    "![Screen Shot 2021-06-08 at 7 40 49 PM](https://user-images.githubusercontent.com/67823308/121178738-709bbd80-c891-11eb-91dc-d45e69f8f4d5.png)\n"
   ]
  },
  {
   "cell_type": "code",
   "execution_count": 110,
   "metadata": {},
   "outputs": [],
   "source": [
    "num_atoms = 8"
   ]
  },
  {
   "cell_type": "markdown",
   "metadata": {},
   "source": [
    "Here we'll first initiate a discriminator and a generator model with the corresponding functions in the package."
   ]
  },
  {
   "cell_type": "code",
   "execution_count": 190,
   "metadata": {},
   "outputs": [],
   "source": [
    "disc = model.make_discriminator(num_atoms)"
   ]
  },
  {
   "cell_type": "code",
   "execution_count": 191,
   "metadata": {},
   "outputs": [],
   "source": [
    "gene = model.make_generator(num_atoms, noise_input_shape = 100)"
   ]
  },
  {
   "cell_type": "markdown",
   "metadata": {},
   "source": [
    "Then, with the `train_batch` function, we'll supply the necessary inputs and train our network. Upon some experimentations, an epoch of around 160 would be nice for this dataset."
   ]
  },
  {
   "cell_type": "code",
   "execution_count": 192,
   "metadata": {},
   "outputs": [
    {
     "name": "stdout",
     "output_type": "stream",
     "text": [
      ">0, d1=2.155, d2=0.592 g=0.817, a1=0, a2=100\n",
      ">1, d1=1.392, d2=0.611 g=0.752, a1=0, a2=100\n",
      ">2, d1=0.733, d2=0.681 g=0.709, a1=0, a2=100\n",
      ">3, d1=0.396, d2=0.714 g=0.690, a1=100, a2=0\n",
      ">4, d1=0.167, d2=0.856 g=0.579, a1=100, a2=0\n",
      ">5, d1=0.072, d2=0.824 g=0.568, a1=100, a2=0\n",
      ">6, d1=0.045, d2=0.839 g=0.545, a1=100, a2=0\n",
      ">7, d1=0.080, d2=0.834 g=0.625, a1=100, a2=0\n",
      ">8, d1=0.034, d2=0.838 g=0.563, a1=100, a2=0\n",
      ">9, d1=0.038, d2=0.916 g=0.543, a1=100, a2=0\n",
      ">10, d1=0.025, d2=0.960 g=0.491, a1=100, a2=0\n",
      ">11, d1=0.026, d2=0.899 g=0.612, a1=100, a2=0\n",
      ">12, d1=0.022, d2=0.868 g=0.586, a1=100, a2=0\n",
      ">13, d1=0.009, d2=0.750 g=0.601, a1=100, a2=0\n",
      ">14, d1=0.008, d2=0.817 g=0.600, a1=100, a2=0\n",
      ">15, d1=0.011, d2=0.771 g=0.627, a1=100, a2=0\n",
      ">16, d1=0.032, d2=0.703 g=0.697, a1=100, a2=0\n",
      ">17, d1=0.017, d2=0.705 g=0.743, a1=100, a2=0\n",
      ">18, d1=0.013, d2=0.598 g=0.909, a1=100, a2=100\n",
      ">19, d1=0.015, d2=0.522 g=0.829, a1=100, a2=100\n",
      ">20, d1=0.030, d2=0.558 g=0.943, a1=100, a2=100\n",
      ">21, d1=0.045, d2=0.404 g=1.107, a1=100, a2=100\n",
      ">22, d1=0.012, d2=0.488 g=1.098, a1=100, a2=100\n",
      ">23, d1=0.057, d2=0.447 g=1.121, a1=100, a2=100\n",
      ">24, d1=0.070, d2=0.321 g=1.309, a1=100, a2=100\n",
      ">25, d1=0.066, d2=0.302 g=1.179, a1=100, a2=100\n",
      ">26, d1=0.046, d2=0.270 g=1.264, a1=100, a2=100\n",
      ">27, d1=0.050, d2=0.342 g=1.522, a1=100, a2=100\n",
      ">28, d1=0.036, d2=0.346 g=1.324, a1=100, a2=100\n",
      ">29, d1=0.030, d2=0.313 g=1.286, a1=100, a2=100\n",
      ">30, d1=0.025, d2=0.264 g=1.481, a1=100, a2=100\n",
      ">31, d1=0.022, d2=0.268 g=1.630, a1=100, a2=100\n",
      ">32, d1=0.007, d2=0.261 g=2.068, a1=100, a2=100\n",
      ">33, d1=0.022, d2=0.215 g=1.687, a1=100, a2=100\n",
      ">34, d1=0.017, d2=0.130 g=1.992, a1=100, a2=100\n",
      ">35, d1=0.295, d2=0.153 g=1.858, a1=100, a2=100\n",
      ">36, d1=0.008, d2=0.179 g=1.705, a1=100, a2=100\n",
      ">37, d1=0.003, d2=0.185 g=1.965, a1=100, a2=100\n",
      ">38, d1=0.004, d2=0.211 g=1.925, a1=100, a2=100\n",
      ">39, d1=0.022, d2=0.183 g=2.063, a1=100, a2=100\n",
      ">40, d1=0.001, d2=0.191 g=2.018, a1=100, a2=100\n",
      ">41, d1=0.013, d2=0.182 g=2.108, a1=100, a2=100\n",
      ">42, d1=0.002, d2=0.138 g=2.252, a1=100, a2=100\n",
      ">43, d1=0.004, d2=0.122 g=2.328, a1=100, a2=100\n",
      ">44, d1=0.006, d2=0.118 g=2.653, a1=100, a2=100\n",
      ">45, d1=0.005, d2=0.128 g=2.488, a1=100, a2=100\n",
      ">46, d1=0.010, d2=0.082 g=2.848, a1=100, a2=100\n",
      ">47, d1=0.004, d2=0.074 g=2.888, a1=100, a2=100\n",
      ">48, d1=0.197, d2=0.090 g=2.727, a1=100, a2=100\n",
      ">49, d1=0.002, d2=0.090 g=2.531, a1=100, a2=100\n",
      ">50, d1=0.011, d2=0.135 g=2.358, a1=100, a2=100\n",
      ">51, d1=0.001, d2=0.120 g=2.525, a1=100, a2=100\n",
      ">52, d1=0.009, d2=0.072 g=2.495, a1=100, a2=100\n",
      ">53, d1=0.001, d2=0.125 g=2.573, a1=100, a2=100\n",
      ">54, d1=0.000, d2=0.077 g=2.934, a1=100, a2=100\n",
      ">55, d1=0.013, d2=0.057 g=3.083, a1=100, a2=100\n",
      ">56, d1=0.017, d2=0.051 g=3.219, a1=100, a2=100\n",
      ">57, d1=0.001, d2=0.043 g=3.323, a1=100, a2=100\n",
      ">58, d1=0.008, d2=0.047 g=3.368, a1=100, a2=100\n",
      ">59, d1=0.378, d2=0.057 g=2.715, a1=100, a2=100\n",
      ">60, d1=0.000, d2=0.093 g=2.136, a1=100, a2=100\n",
      ">61, d1=0.006, d2=0.169 g=1.745, a1=100, a2=100\n",
      ">62, d1=0.000, d2=0.276 g=1.611, a1=100, a2=100\n",
      ">63, d1=0.000, d2=0.442 g=1.392, a1=100, a2=100\n",
      ">64, d1=0.000, d2=0.308 g=1.823, a1=100, a2=100\n",
      ">65, d1=0.000, d2=0.248 g=2.078, a1=100, a2=100\n",
      ">66, d1=0.000, d2=0.135 g=2.528, a1=100, a2=100\n",
      ">67, d1=0.004, d2=0.083 g=2.974, a1=100, a2=100\n",
      ">68, d1=0.000, d2=0.061 g=3.343, a1=100, a2=100\n",
      ">69, d1=0.012, d2=0.027 g=4.090, a1=100, a2=100\n",
      ">70, d1=5.879, d2=0.109 g=2.293, a1=0, a2=100\n",
      ">71, d1=0.006, d2=0.347 g=1.263, a1=100, a2=100\n",
      ">72, d1=0.000, d2=0.704 g=1.317, a1=100, a2=0\n",
      ">73, d1=0.000, d2=0.615 g=0.690, a1=100, a2=100\n",
      ">74, d1=0.000, d2=1.437 g=0.584, a1=100, a2=0\n",
      ">75, d1=0.000, d2=0.750 g=1.171, a1=100, a2=0\n",
      ">76, d1=0.000, d2=0.419 g=1.143, a1=100, a2=100\n",
      ">77, d1=0.000, d2=0.397 g=1.448, a1=100, a2=100\n",
      ">78, d1=0.002, d2=0.480 g=2.375, a1=100, a2=100\n",
      ">79, d1=0.002, d2=0.080 g=2.649, a1=100, a2=100\n",
      ">80, d1=0.610, d2=0.207 g=2.191, a1=100, a2=100\n",
      ">81, d1=0.012, d2=0.251 g=1.816, a1=100, a2=100\n",
      ">82, d1=0.009, d2=0.503 g=1.389, a1=100, a2=100\n",
      ">83, d1=0.000, d2=0.457 g=1.705, a1=100, a2=100\n",
      ">84, d1=0.572, d2=0.364 g=1.273, a1=100, a2=100\n",
      ">85, d1=0.075, d2=0.460 g=1.232, a1=100, a2=100\n",
      ">86, d1=0.022, d2=0.614 g=1.362, a1=100, a2=100\n",
      ">87, d1=0.084, d2=0.341 g=1.790, a1=100, a2=100\n",
      ">88, d1=1.590, d2=0.335 g=1.458, a1=0, a2=100\n",
      ">89, d1=0.114, d2=0.696 g=0.926, a1=100, a2=0\n",
      ">90, d1=0.001, d2=0.576 g=0.915, a1=100, a2=100\n",
      ">91, d1=0.001, d2=0.447 g=1.745, a1=100, a2=100\n",
      ">92, d1=0.032, d2=0.245 g=2.310, a1=100, a2=100\n",
      ">93, d1=0.195, d2=0.130 g=2.655, a1=100, a2=100\n",
      ">94, d1=0.013, d2=0.106 g=2.997, a1=100, a2=100\n",
      ">95, d1=0.196, d2=0.155 g=2.613, a1=100, a2=100\n",
      ">96, d1=0.073, d2=0.128 g=2.859, a1=100, a2=100\n",
      ">97, d1=0.042, d2=0.198 g=2.431, a1=100, a2=100\n",
      ">98, d1=0.088, d2=0.175 g=2.458, a1=100, a2=100\n",
      ">99, d1=0.093, d2=0.153 g=2.480, a1=100, a2=100\n",
      ">100, d1=1.663, d2=0.312 g=1.272, a1=0, a2=100\n",
      ">101, d1=0.040, d2=0.616 g=0.714, a1=100, a2=100\n",
      ">102, d1=0.003, d2=0.954 g=0.876, a1=100, a2=0\n",
      ">103, d1=0.001, d2=0.538 g=1.734, a1=100, a2=100\n",
      ">104, d1=0.004, d2=0.167 g=2.884, a1=100, a2=100\n",
      ">105, d1=0.005, d2=0.037 g=3.890, a1=100, a2=100\n",
      ">106, d1=0.165, d2=0.020 g=4.215, a1=100, a2=100\n",
      ">107, d1=0.143, d2=0.024 g=3.816, a1=100, a2=100\n",
      ">108, d1=0.039, d2=0.030 g=3.482, a1=100, a2=100\n",
      ">109, d1=0.038, d2=0.100 g=2.780, a1=100, a2=100\n",
      ">110, d1=0.024, d2=0.212 g=2.431, a1=100, a2=100\n",
      ">111, d1=0.141, d2=0.132 g=2.079, a1=100, a2=100\n",
      ">112, d1=0.041, d2=0.226 g=1.670, a1=100, a2=100\n",
      ">113, d1=0.009, d2=0.379 g=2.000, a1=100, a2=100\n",
      ">114, d1=0.027, d2=0.156 g=2.922, a1=100, a2=100\n",
      ">115, d1=0.684, d2=0.165 g=2.273, a1=100, a2=100\n",
      ">116, d1=1.265, d2=0.603 g=0.797, a1=0, a2=100\n",
      ">117, d1=0.005, d2=1.199 g=0.722, a1=100, a2=0\n",
      ">118, d1=0.347, d2=1.109 g=0.955, a1=100, a2=0\n",
      ">119, d1=7.918, d2=0.935 g=0.578, a1=0, a2=0\n",
      ">120, d1=0.000, d2=0.838 g=0.965, a1=100, a2=0\n",
      ">121, d1=0.003, d2=0.409 g=1.705, a1=100, a2=100\n",
      ">122, d1=0.010, d2=0.177 g=2.713, a1=100, a2=100\n",
      ">123, d1=0.247, d2=0.079 g=2.981, a1=100, a2=100\n",
      ">124, d1=0.073, d2=0.064 g=3.258, a1=100, a2=100\n",
      ">125, d1=2.417, d2=0.165 g=1.340, a1=0, a2=100\n",
      ">126, d1=0.048, d2=0.753 g=0.600, a1=100, a2=0\n",
      ">127, d1=0.001, d2=1.041 g=0.508, a1=100, a2=0\n",
      ">128, d1=0.000, d2=1.058 g=0.992, a1=100, a2=0\n",
      ">129, d1=0.010, d2=0.453 g=1.765, a1=100, a2=100\n",
      ">130, d1=0.011, d2=0.141 g=2.602, a1=100, a2=100\n",
      ">131, d1=0.001, d2=0.051 g=3.761, a1=100, a2=100\n",
      ">132, d1=0.250, d2=0.038 g=3.771, a1=100, a2=100\n",
      ">133, d1=0.033, d2=0.045 g=3.604, a1=100, a2=100\n",
      ">134, d1=0.047, d2=0.043 g=3.080, a1=100, a2=100\n",
      ">135, d1=0.721, d2=0.211 g=1.677, a1=0, a2=100\n",
      ">136, d1=3.300, d2=1.106 g=0.279, a1=0, a2=0\n",
      ">137, d1=0.045, d2=2.180 g=0.122, a1=100, a2=0\n",
      ">138, d1=0.001, d2=2.269 g=0.308, a1=100, a2=0\n",
      ">139, d1=0.001, d2=1.054 g=1.208, a1=100, a2=0\n",
      ">140, d1=0.000, d2=0.195 g=2.694, a1=100, a2=100\n",
      ">141, d1=0.074, d2=0.043 g=4.376, a1=100, a2=100\n",
      ">142, d1=0.029, d2=0.014 g=5.228, a1=100, a2=100\n",
      ">143, d1=0.093, d2=0.009 g=5.308, a1=100, a2=100\n",
      ">144, d1=0.213, d2=0.008 g=4.847, a1=100, a2=100\n",
      ">145, d1=0.567, d2=0.025 g=3.459, a1=100, a2=100\n",
      ">146, d1=6.622, d2=0.190 g=1.113, a1=0, a2=100\n",
      ">147, d1=1.001, d2=1.419 g=0.254, a1=0, a2=0\n",
      ">148, d1=0.002, d2=2.406 g=0.137, a1=100, a2=0\n",
      ">149, d1=0.000, d2=2.312 g=0.369, a1=100, a2=0\n",
      ">150, d1=0.006, d2=1.060 g=1.316, a1=100, a2=0\n",
      ">151, d1=0.023, d2=0.182 g=2.877, a1=100, a2=100\n",
      ">152, d1=0.001, d2=0.034 g=4.441, a1=100, a2=100\n",
      ">153, d1=0.005, d2=0.007 g=5.435, a1=100, a2=100\n",
      ">154, d1=0.221, d2=0.006 g=5.913, a1=100, a2=100\n",
      ">155, d1=0.063, d2=0.005 g=5.889, a1=100, a2=100\n",
      ">156, d1=2.295, d2=0.011 g=4.248, a1=0, a2=100\n",
      ">157, d1=3.944, d2=0.087 g=2.011, a1=0, a2=100\n",
      ">158, d1=0.001, d2=0.596 g=0.614, a1=100, a2=100\n",
      ">159, d1=0.000, d2=1.121 g=0.438, a1=100, a2=0\n"
     ]
    },
    {
     "data": {
      "image/png": "[encoded data removed]",
      "text/plain": [
       "<Figure size 432x288 with 2 Axes>"
      ]
     },
     "metadata": {
      "needs_background": "light"
     },
     "output_type": "display_data"
    }
   ],
   "source": [
    "generator_trained = model.train_batch(\n",
    "                                disc, gene, \n",
    "                                np.array(nodes_train), np.array(edges_train), \n",
    "                                noise_input_shape = 100, EPOCH = 160, BATCHSIZE = 2, \n",
    "                                plot_hist = True, temp_result = False\n",
    "    )"
   ]
  },
  {
   "cell_type": "markdown",
   "metadata": {},
   "source": [
    "There are two possible kind of failures regarding a GAN model: model collapse and failure of convergence. Model collapse would often mean that the generative part of the model wouldn't be able to generate diverse outcomes. Failure of convergence between the generative and the discriminative model could likely way be identified as that the loss for the discriminator has gone to zero or close to zero. \n",
    "\n",
    "Observe the above generated plot, in the upper plot, the loss of discriminator has not gone to zero/close to zero, indicating that the model has possibily find a balance between the generator and the discriminator. In the lower plot, the accuracy is fluctuating between 1 and 0, indicating possible variability within the data generated. \n",
    "\n",
    "Therefore, it is reasonable to conclude that within the possible range of epoch and other parameters, the model has successfully avoided the two common types of failures associated with GAN."
   ]
  },
  {
   "cell_type": "markdown",
   "metadata": {},
   "source": [
    "## Rewarding Phase"
   ]
  },
  {
   "cell_type": "markdown",
   "metadata": {},
   "source": [
    "The above `train_batch` function is set to return a trained generator. Thus, we could use that function directly and observe the possible molecules we could get from that function."
   ]
  },
  {
   "cell_type": "code",
   "execution_count": 193,
   "metadata": {
    "id": "LMDuGLKvhT7Z"
   },
   "outputs": [],
   "source": [
    "no, ed = generator_trained(np.random.randint(0,20\n",
    "                                             \n",
    "                                            , size =(1,100)))#generated nodes and edges"
   ]
  },
  {
   "cell_type": "code",
   "execution_count": 194,
   "metadata": {},
   "outputs": [
    {
     "data": {
      "text/plain": [
       "(array([5, 4, 3, 4, 5, 6, 6, 6]),\n",
       " array([[0, 1, 0, 0, 0, 1, 0, 0],\n",
       "        [0, 0, 2, 1, 0, 0, 0, 0],\n",
       "        [0, 1, 0, 3, 0, 0, 0, 0],\n",
       "        [0, 0, 1, 1, 2, 1, 0, 1],\n",
       "        [0, 0, 0, 2, 0, 2, 0, 0],\n",
       "        [0, 0, 0, 1, 3, 0, 1, 1],\n",
       "        [1, 0, 1, 0, 1, 1, 0, 2],\n",
       "        [0, 0, 1, 0, 0, 2, 1, 0]]))"
      ]
     },
     "execution_count": 194,
     "metadata": {},
     "output_type": "execute_result"
    }
   ],
   "source": [
    "abs(no.numpy()).astype(int).reshape(num_atoms), abs(ed.numpy()).astype(int).reshape(num_atoms,num_atoms)"
   ]
  },
  {
   "cell_type": "markdown",
   "metadata": {},
   "source": [
    "With the `de_featurizer`, we could convert the generated matrix into a smiles molecule and plot it out=)"
   ]
  },
  {
   "cell_type": "code",
   "execution_count": 195,
   "metadata": {
    "id": "OY3wWyxfpPpS"
   },
   "outputs": [],
   "source": [
    "cat, dog = model.de_featurizer(abs(no.numpy()).astype(int).reshape(num_atoms), abs(ed.numpy()).astype(int).reshape(num_atoms,num_atoms))"
   ]
  },
  {
   "cell_type": "code",
   "execution_count": 196,
   "metadata": {
    "colab": {
     "base_uri": "https://localhost:8080/"
    },
    "id": "ZKHO7sckDHCk",
    "outputId": "22656d64-ddd0-4bb4-afe2-6c2bb6219fd1"
   },
   "outputs": [
    {
     "data": {
      "text/plain": [
       "'B~[BeH][Li]=[Be]BC~CC'"
      ]
     },
     "execution_count": 196,
     "metadata": {},
     "output_type": "execute_result"
    }
   ],
   "source": [
    "Chem.MolToSmiles(cat)"
   ]
  },
  {
   "cell_type": "code",
   "execution_count": 198,
   "metadata": {
    "id": "QWQEebMyAA15",
    "scrolled": true
   },
   "outputs": [
    {
     "name": "stderr",
     "output_type": "stream",
     "text": [
      "RDKit ERROR: [17:22:24] Explicit valence for atom # 2 Li, 3, is greater than permitted\n"
     ]
    }
   ],
   "source": [
    "Chem.MolFromSmiles(Chem.MolToSmiles(cat))"
   ]
  },
  {
   "cell_type": "markdown",
   "metadata": {},
   "source": [
    "## Brief Result Analysis"
   ]
  },
  {
   "cell_type": "code",
   "execution_count": null,
   "metadata": {},
   "outputs": [],
   "source": [
    "from rdkit import DataStructs"
   ]
  },
  {
   "cell_type": "markdown",
   "metadata": {},
   "source": [
    "With the rdkit function of comparing similarities, here we'll demonstrate a preliminary analysis of the molecule we've generated. With \"CCO\" molecule as a control, we could observe that the new molecule we've generated is more similar to a random selected molecule(the fourth molecule) from the initial training set.\n",
    "\n",
    "This may indicate that our model has indeed extracted some features from our original dataset and generated a new molecule that is relevant."
   ]
  },
  {
   "cell_type": "code",
   "execution_count": null,
   "metadata": {},
   "outputs": [],
   "source": [
    "DataStructs.FingerprintSimilarity(Chem.RDKFingerprint(Chem.MolFromSmiles(\"[Li]NBBC=N\")), Chem.RDKFingerprint(Chem.MolFromSmiles(\"CCO\")))# compare with the control"
   ]
  },
  {
   "cell_type": "code",
   "execution_count": null,
   "metadata": {},
   "outputs": [],
   "source": [
    "#compare with one from the original data\n",
    "DataStructs.FingerprintSimilarity(Chem.RDKFingerprint(Chem.MolFromSmiles(\"[Li]NBBC=N\")), Chem.RDKFingerprint(Chem.MolFromSmiles(\"CCN1C2=NC(=O)N(C(=O)C2=NC(=N1)C3=CC=CC=C3)C\")))"
   ]
  },
  {
   "cell_type": "code",
   "execution_count": null,
   "metadata": {},
   "outputs": [],
   "source": []
  }
 ],
 "metadata": {
  "colab": {
   "collapsed_sections": [],
   "name": "model v1.ipynb",
   "provenance": [],
   "toc_visible": true
  },
  "kernelspec": {
   "display_name": "Python 3",
   "language": "python",
   "name": "python3"
  },
  "language_info": {
   "codemirror_mode": {
    "name": "ipython",
    "version": 3
   },
   "file_extension": ".py",
   "mimetype": "text/x-python",
   "name": "python",
   "nbconvert_exporter": "python",
   "pygments_lexer": "ipython3",
   "version": "3.8.5"
  }
 },
 "nbformat": 4,
 "nbformat_minor": 4
}
